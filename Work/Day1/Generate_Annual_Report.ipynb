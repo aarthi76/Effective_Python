{
 "cells": [
  {
   "cell_type": "markdown",
   "id": "79119cfc-638d-423a-ac8d-1e539e994d86",
   "metadata": {},
   "source": [
    "# Automating Report Genaration with Pandas\n",
    "\n",
    "Report showing the Annual profit for each product"
   ]
  },
  {
   "cell_type": "code",
   "execution_count": 1,
   "id": "91261998-ef11-4626-b958-4df6460a65c8",
   "metadata": {},
   "outputs": [],
   "source": [
    "import pandas as pd"
   ]
  },
  {
   "cell_type": "code",
   "execution_count": 2,
   "id": "0ff00ad7-38e1-430f-ac6b-39eda4c0931d",
   "metadata": {},
   "outputs": [],
   "source": [
    "toys_url = \"https://raw.githubusercontent.com/asarfraaz/PyPractice/master/data/toys.csv\""
   ]
  },
  {
   "cell_type": "markdown",
   "id": "74d2fdf7-e1f0-4d6b-ae18-ddc42c608765",
   "metadata": {},
   "source": [
    "# Load the dataset "
   ]
  },
  {
   "cell_type": "code",
   "execution_count": 3,
   "id": "b792b15d-67b9-41e7-b405-66b296b324d1",
   "metadata": {},
   "outputs": [],
   "source": [
    "df_toys = pd.read_csv(toys_url)"
   ]
  },
  {
   "cell_type": "code",
   "execution_count": 4,
   "id": "c6dad415-efcf-4a7e-b30e-bb28ac822082",
   "metadata": {},
   "outputs": [
    {
     "data": {
      "text/html": [
       "<div>\n",
       "<style scoped>\n",
       "    .dataframe tbody tr th:only-of-type {\n",
       "        vertical-align: middle;\n",
       "    }\n",
       "\n",
       "    .dataframe tbody tr th {\n",
       "        vertical-align: top;\n",
       "    }\n",
       "\n",
       "    .dataframe thead th {\n",
       "        text-align: right;\n",
       "    }\n",
       "</style>\n",
       "<table border=\"1\" class=\"dataframe\">\n",
       "  <thead>\n",
       "    <tr style=\"text-align: right;\">\n",
       "      <th></th>\n",
       "      <th>Expenditure</th>\n",
       "      <th>Revenue</th>\n",
       "    </tr>\n",
       "    <tr>\n",
       "      <th>Product</th>\n",
       "      <th></th>\n",
       "      <th></th>\n",
       "    </tr>\n",
       "  </thead>\n",
       "  <tbody>\n",
       "    <tr>\n",
       "      <th>Board</th>\n",
       "      <td>1442078</td>\n",
       "      <td>1604675</td>\n",
       "    </tr>\n",
       "    <tr>\n",
       "      <th>Legos</th>\n",
       "      <td>1371631</td>\n",
       "      <td>1531119</td>\n",
       "    </tr>\n",
       "    <tr>\n",
       "      <th>Outdoor</th>\n",
       "      <td>1219133</td>\n",
       "      <td>1324561</td>\n",
       "    </tr>\n",
       "    <tr>\n",
       "      <th>Puzzles</th>\n",
       "      <td>676850</td>\n",
       "      <td>738423</td>\n",
       "    </tr>\n",
       "    <tr>\n",
       "      <th>Wooden</th>\n",
       "      <td>1022994</td>\n",
       "      <td>1072869</td>\n",
       "    </tr>\n",
       "  </tbody>\n",
       "</table>\n",
       "</div>"
      ],
      "text/plain": [
       "         Expenditure  Revenue\n",
       "Product                      \n",
       "Board        1442078  1604675\n",
       "Legos        1371631  1531119\n",
       "Outdoor      1219133  1324561\n",
       "Puzzles       676850   738423\n",
       "Wooden       1022994  1072869"
      ]
     },
     "execution_count": 4,
     "metadata": {},
     "output_type": "execute_result"
    }
   ],
   "source": [
    "df_pvt = df_toys.pivot_table(index=\"Product\",\n",
    "                    aggfunc='sum',\n",
    "                   )\n",
    "\n",
    "df_pvt"
   ]
  },
  {
   "cell_type": "code",
   "execution_count": 5,
   "id": "58665c1a-3668-40e4-9f80-e90874602ea7",
   "metadata": {},
   "outputs": [],
   "source": [
    "cols = df_toys.columns[1:] "
   ]
  },
  {
   "cell_type": "code",
   "execution_count": 6,
   "id": "296ed813-e6d6-4a5e-99f1-1f243659afa8",
   "metadata": {},
   "outputs": [],
   "source": [
    "df_pvt = df_toys[cols].pivot_table(index=\"Product\",\n",
    "                         aggfunc='sum',\n",
    "                         )"
   ]
  },
  {
   "cell_type": "markdown",
   "id": "67cb6427-fb2e-47ad-88e4-902d9e3cba41",
   "metadata": {},
   "source": [
    "## Digression"
   ]
  },
  {
   "cell_type": "markdown",
   "id": "16361839-0517-4b08-929b-f1548dc1acb4",
   "metadata": {},
   "source": [
    "## Calculate the Annual Profit for each product"
   ]
  },
  {
   "cell_type": "code",
   "execution_count": 7,
   "id": "82b8039e-fd55-4d7d-a7a2-4dccbd4adf72",
   "metadata": {},
   "outputs": [
    {
     "data": {
      "text/html": [
       "<div>\n",
       "<style scoped>\n",
       "    .dataframe tbody tr th:only-of-type {\n",
       "        vertical-align: middle;\n",
       "    }\n",
       "\n",
       "    .dataframe tbody tr th {\n",
       "        vertical-align: top;\n",
       "    }\n",
       "\n",
       "    .dataframe thead th {\n",
       "        text-align: right;\n",
       "    }\n",
       "</style>\n",
       "<table border=\"1\" class=\"dataframe\">\n",
       "  <thead>\n",
       "    <tr style=\"text-align: right;\">\n",
       "      <th></th>\n",
       "      <th>Expenditure</th>\n",
       "      <th>Revenue</th>\n",
       "      <th>Profit</th>\n",
       "    </tr>\n",
       "    <tr>\n",
       "      <th>Product</th>\n",
       "      <th></th>\n",
       "      <th></th>\n",
       "      <th></th>\n",
       "    </tr>\n",
       "  </thead>\n",
       "  <tbody>\n",
       "    <tr>\n",
       "      <th>Board</th>\n",
       "      <td>1442078</td>\n",
       "      <td>1604675</td>\n",
       "      <td>162597</td>\n",
       "    </tr>\n",
       "    <tr>\n",
       "      <th>Legos</th>\n",
       "      <td>1371631</td>\n",
       "      <td>1531119</td>\n",
       "      <td>159488</td>\n",
       "    </tr>\n",
       "    <tr>\n",
       "      <th>Outdoor</th>\n",
       "      <td>1219133</td>\n",
       "      <td>1324561</td>\n",
       "      <td>105428</td>\n",
       "    </tr>\n",
       "    <tr>\n",
       "      <th>Puzzles</th>\n",
       "      <td>676850</td>\n",
       "      <td>738423</td>\n",
       "      <td>61573</td>\n",
       "    </tr>\n",
       "    <tr>\n",
       "      <th>Wooden</th>\n",
       "      <td>1022994</td>\n",
       "      <td>1072869</td>\n",
       "      <td>49875</td>\n",
       "    </tr>\n",
       "  </tbody>\n",
       "</table>\n",
       "</div>"
      ],
      "text/plain": [
       "         Expenditure  Revenue  Profit\n",
       "Product                              \n",
       "Board        1442078  1604675  162597\n",
       "Legos        1371631  1531119  159488\n",
       "Outdoor      1219133  1324561  105428\n",
       "Puzzles       676850   738423   61573\n",
       "Wooden       1022994  1072869   49875"
      ]
     },
     "execution_count": 7,
     "metadata": {},
     "output_type": "execute_result"
    }
   ],
   "source": [
    "df_pvt.loc[:, 'Profit'] = df_pvt.Revenue - df_pvt.Expenditure\n",
    "df_pvt"
   ]
  },
  {
   "cell_type": "code",
   "execution_count": 8,
   "id": "e9988753-277f-472e-8ca2-9ed6c5138448",
   "metadata": {},
   "outputs": [],
   "source": [
    "import seaborn as sns"
   ]
  },
  {
   "cell_type": "markdown",
   "id": "81c42ed7-ef28-4c6f-80b8-40b0119afe16",
   "metadata": {},
   "source": [
    "## Save the plot for Annual profit in a file\n",
    "\n",
    "- Add a title to the image"
   ]
  },
  {
   "cell_type": "code",
   "execution_count": 9,
   "id": "7695eb17-3701-4bcb-a22b-706efb5e61dd",
   "metadata": {},
   "outputs": [],
   "source": [
    "import matplotlib.pyplot as plt"
   ]
  },
  {
   "cell_type": "code",
   "execution_count": 10,
   "id": "c35cd25b-397a-4c98-b40b-4baae1259eb0",
   "metadata": {},
   "outputs": [
    {
     "data": {
      "image/png": "[encoded data removed]",
      "text/plain": [
       "<Figure size 432x288 with 1 Axes>"
      ]
     },
     "metadata": {
      "needs_background": "light"
     },
     "output_type": "display_data"
    }
   ],
   "source": [
    "ax = sns.barplot(data = df_pvt.reset_index(),\n",
    "             y = 'Profit',\n",
    "             x = 'Product',\n",
    "            )\n",
    "plt.title('Annual Profit for each Product');\n",
    "plt.tight_layout()\n",
    "plt.savefig('annual_profit.jpg')"
   ]
  },
  {
   "cell_type": "markdown",
   "id": "8b071343-5134-4135-9e63-93747c307d92",
   "metadata": {},
   "source": [
    "## Save the Annual Revenue Report in excel file\n",
    "\n",
    "- The columns should be in the following order\n",
    "    - Revenue\n",
    "    - Expenditure\n",
    "    - Profit\n",
    "- Also include the image in it\n",
    "\n",
    "\n",
    "\n"
   ]
  },
  {
   "cell_type": "code",
   "execution_count": 11,
   "id": "4ff238ef-f0b0-4562-afb7-ca19bc1a3c2a",
   "metadata": {},
   "outputs": [],
   "source": [
    "cols = df_pvt.columns.to_list()"
   ]
  },
  {
   "cell_type": "code",
   "execution_count": 12,
   "id": "7ef312c6-64f1-4536-8967-ae44f401907e",
   "metadata": {},
   "outputs": [
    {
     "data": {
      "text/plain": [
       "['Expenditure', 'Revenue', 'Profit']"
      ]
     },
     "execution_count": 12,
     "metadata": {},
     "output_type": "execute_result"
    }
   ],
   "source": [
    "cols"
   ]
  },
  {
   "cell_type": "code",
   "execution_count": 13,
   "id": "e481d808-e0cd-4b01-a91a-7da437565c98",
   "metadata": {},
   "outputs": [
    {
     "data": {
      "text/plain": [
       "['Revenue', 'Expenditure', 'Profit']"
      ]
     },
     "execution_count": 13,
     "metadata": {},
     "output_type": "execute_result"
    }
   ],
   "source": [
    "# Prefer to do this, instead of writing the names of columns\n",
    "new_cols = [ cols[1], cols[0], cols[-1] ]\n",
    "new_cols"
   ]
  },
  {
   "cell_type": "code",
   "execution_count": 14,
   "id": "5931edc2-cbc4-4a60-9b15-c7f4e0a41ebb",
   "metadata": {},
   "outputs": [
    {
     "data": {
      "text/html": [
       "<div>\n",
       "<style scoped>\n",
       "    .dataframe tbody tr th:only-of-type {\n",
       "        vertical-align: middle;\n",
       "    }\n",
       "\n",
       "    .dataframe tbody tr th {\n",
       "        vertical-align: top;\n",
       "    }\n",
       "\n",
       "    .dataframe thead th {\n",
       "        text-align: right;\n",
       "    }\n",
       "</style>\n",
       "<table border=\"1\" class=\"dataframe\">\n",
       "  <thead>\n",
       "    <tr style=\"text-align: right;\">\n",
       "      <th></th>\n",
       "      <th>Revenue</th>\n",
       "      <th>Expenditure</th>\n",
       "      <th>Profit</th>\n",
       "    </tr>\n",
       "    <tr>\n",
       "      <th>Product</th>\n",
       "      <th></th>\n",
       "      <th></th>\n",
       "      <th></th>\n",
       "    </tr>\n",
       "  </thead>\n",
       "  <tbody>\n",
       "    <tr>\n",
       "      <th>Board</th>\n",
       "      <td>1604675</td>\n",
       "      <td>1442078</td>\n",
       "      <td>162597</td>\n",
       "    </tr>\n",
       "    <tr>\n",
       "      <th>Legos</th>\n",
       "      <td>1531119</td>\n",
       "      <td>1371631</td>\n",
       "      <td>159488</td>\n",
       "    </tr>\n",
       "    <tr>\n",
       "      <th>Outdoor</th>\n",
       "      <td>1324561</td>\n",
       "      <td>1219133</td>\n",
       "      <td>105428</td>\n",
       "    </tr>\n",
       "    <tr>\n",
       "      <th>Puzzles</th>\n",
       "      <td>738423</td>\n",
       "      <td>676850</td>\n",
       "      <td>61573</td>\n",
       "    </tr>\n",
       "    <tr>\n",
       "      <th>Wooden</th>\n",
       "      <td>1072869</td>\n",
       "      <td>1022994</td>\n",
       "      <td>49875</td>\n",
       "    </tr>\n",
       "  </tbody>\n",
       "</table>\n",
       "</div>"
      ],
      "text/plain": [
       "         Revenue  Expenditure  Profit\n",
       "Product                              \n",
       "Board    1604675      1442078  162597\n",
       "Legos    1531119      1371631  159488\n",
       "Outdoor  1324561      1219133  105428\n",
       "Puzzles   738423       676850   61573\n",
       "Wooden   1072869      1022994   49875"
      ]
     },
     "execution_count": 14,
     "metadata": {},
     "output_type": "execute_result"
    }
   ],
   "source": [
    "df_pvt[new_cols]"
   ]
  },
  {
   "cell_type": "code",
   "execution_count": 15,
   "id": "00329831-edcd-4ffa-91ec-aaf5e47d12a5",
   "metadata": {},
   "outputs": [],
   "source": [
    "excel_filename = \"Annual_Report.xlsx\"\n",
    "year = \"2014\"\n"
   ]
  },
  {
   "cell_type": "code",
   "execution_count": 16,
   "id": "1a23ad68-a348-4eee-b984-265392b78f40",
   "metadata": {},
   "outputs": [],
   "source": [
    "# Only for storing DataFrame in an excel file\n",
    "# df_pvt[new_cols].to_excel(excel_filename)"
   ]
  },
  {
   "cell_type": "code",
   "execution_count": 17,
   "id": "92d85278-322a-410a-817b-4c39f7c76d9c",
   "metadata": {},
   "outputs": [],
   "source": [
    "# Storing DataFrame and a plot in excel file\n",
    "\n",
    "from io import BytesIO\n",
    "\n",
    "imgdata = BytesIO()\n",
    "ax.figure.savefig(imgdata)"
   ]
  },
  {
   "cell_type": "code",
   "execution_count": 18,
   "id": "f0f254fc-4ceb-48ee-bb25-52deece7a664",
   "metadata": {},
   "outputs": [],
   "source": [
    "with pd.ExcelWriter(excel_filename, engine='xlsxwriter') as FH:\n",
    "    df_pvt.to_excel(FH, sheet_name=year)\n",
    "    shobj = FH.sheets[year]\n",
    "    shobj.insert_image('E4', '', {'image_data': imgdata})"
   ]
  },
  {
   "cell_type": "code",
   "execution_count": null,
   "id": "29e63b51-c01b-4289-8964-eb37e74841e6",
   "metadata": {},
   "outputs": [],
   "source": []
  }
 ],
 "metadata": {
  "kernelspec": {
   "display_name": "Python 3 (ipykernel)",
   "language": "python",
   "name": "python3"
  },
  "language_info": {
   "codemirror_mode": {
    "name": "ipython",
    "version": 3
   },
   "file_extension": ".py",
   "mimetype": "text/x-python",
   "name": "python",
   "nbconvert_exporter": "python",
   "pygments_lexer": "ipython3",
   "version": "3.9.8"
  }
 },
 "nbformat": 4,
 "nbformat_minor": 5
}
