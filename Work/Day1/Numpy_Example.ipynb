{
 "cells": [
  {
   "cell_type": "markdown",
   "id": "412b8af3-f4e2-422c-bafa-d808ca0d6ef7",
   "metadata": {},
   "source": [
    "# Finding the closest Planet\n",
    "\n",
    "- From the co-ordinates for the 5 planets \n",
    "- And the observation point\n",
    "- Find, which planet is closest to the observation point"
   ]
  },
  {
   "cell_type": "code",
   "execution_count": 1,
   "id": "7bc306e2-f633-4c3d-b0d5-7f41e5255691",
   "metadata": {},
   "outputs": [],
   "source": [
    "import numpy as np"
   ]
  },
  {
   "cell_type": "code",
   "execution_count": 2,
   "id": "b12ff5a0-43e1-41ea-a130-2e6f0e71c1f6",
   "metadata": {},
   "outputs": [
    {
     "data": {
      "text/plain": [
       "array([[ 0, 11],\n",
       "       [ 1, 12],\n",
       "       [ 2, 13],\n",
       "       [ 3, 14],\n",
       "       [ 4, 15]])"
      ]
     },
     "execution_count": 2,
     "metadata": {},
     "output_type": "execute_result"
    }
   ],
   "source": [
    "points = np.array([[ 0, 11],\n",
    "       [ 1, 12],\n",
    "       [ 2, 13],\n",
    "       [ 3, 14],\n",
    "       [ 4, 15]])\n",
    "\n",
    "points"
   ]
  },
  {
   "cell_type": "code",
   "execution_count": 3,
   "id": "b7d49011-a07e-477e-ab3a-9ed50cca7bc6",
   "metadata": {},
   "outputs": [
    {
     "data": {
      "text/plain": [
       "array([ 2.8, 12.5])"
      ]
     },
     "execution_count": 3,
     "metadata": {},
     "output_type": "execute_result"
    }
   ],
   "source": [
    "observation = np.array([2.8, 12.5])\n",
    "observation"
   ]
  },
  {
   "cell_type": "code",
   "execution_count": 4,
   "id": "48cffb7e-e968-4eec-8e42-cf1777b2e50c",
   "metadata": {},
   "outputs": [
    {
     "data": {
      "text/plain": [
       "array([[-2.8, -1.5],\n",
       "       [-1.8, -0.5],\n",
       "       [-0.8,  0.5],\n",
       "       [ 0.2,  1.5],\n",
       "       [ 1.2,  2.5]])"
      ]
     },
     "execution_count": 4,
     "metadata": {},
     "output_type": "execute_result"
    }
   ],
   "source": [
    "points - observation"
   ]
  },
  {
   "cell_type": "code",
   "execution_count": 5,
   "id": "79c1424a-fdfe-4e81-8996-ca9e2f8bac0a",
   "metadata": {},
   "outputs": [
    {
     "data": {
      "text/plain": [
       "array([[7.84, 2.25],\n",
       "       [3.24, 0.25],\n",
       "       [0.64, 0.25],\n",
       "       [0.04, 2.25],\n",
       "       [1.44, 6.25]])"
      ]
     },
     "execution_count": 5,
     "metadata": {},
     "output_type": "execute_result"
    }
   ],
   "source": [
    "(points - observation) ** 2"
   ]
  },
  {
   "cell_type": "code",
   "execution_count": 6,
   "id": "89446247-f31b-4548-972d-c6a2dcad8b67",
   "metadata": {},
   "outputs": [
    {
     "data": {
      "text/plain": [
       "array([10.09,  3.49,  0.89,  2.29,  7.69])"
      ]
     },
     "execution_count": 6,
     "metadata": {},
     "output_type": "execute_result"
    }
   ],
   "source": [
    "np.sum((points - observation) ** 2, axis=1)"
   ]
  },
  {
   "cell_type": "code",
   "execution_count": 7,
   "id": "128f509c-c341-48e4-bd7e-7fe4cd5c1af4",
   "metadata": {},
   "outputs": [
    {
     "data": {
      "text/plain": [
       "array([3.17647603, 1.86815417, 0.94339811, 1.5132746 , 2.77308492])"
      ]
     },
     "execution_count": 7,
     "metadata": {},
     "output_type": "execute_result"
    }
   ],
   "source": [
    "dist = np.sum((points - observation) ** 2, axis=1) ** 0.5\n",
    "dist"
   ]
  },
  {
   "cell_type": "code",
   "execution_count": 9,
   "id": "e7382b19-5c8f-4e90-96e9-e599cd84ae9f",
   "metadata": {},
   "outputs": [
    {
     "data": {
      "text/plain": [
       "2"
      ]
     },
     "execution_count": 9,
     "metadata": {},
     "output_type": "execute_result"
    }
   ],
   "source": [
    "nearest_planet_index = dist.argmin()\n",
    "nearest_planet_index"
   ]
  },
  {
   "cell_type": "code",
   "execution_count": 14,
   "id": "4064f5e6-014d-4516-aa7e-95e447d4a234",
   "metadata": {},
   "outputs": [
    {
     "name": "stdout",
     "output_type": "stream",
     "text": [
      "The nearest planet to the observation point is at: [ 2 13]\n"
     ]
    }
   ],
   "source": [
    "print(\"The nearest planet to the observation point is at:\", points[nearest_planet_index])"
   ]
  },
  {
   "cell_type": "code",
   "execution_count": 11,
   "id": "6d6dd702-9642-49d7-8960-8c38ef5cb404",
   "metadata": {},
   "outputs": [
    {
     "data": {
      "text/plain": [
       "array([[ 0, 11],\n",
       "       [ 1, 12],\n",
       "       [ 2, 13],\n",
       "       [ 3, 14],\n",
       "       [ 4, 15]])"
      ]
     },
     "execution_count": 11,
     "metadata": {},
     "output_type": "execute_result"
    }
   ],
   "source": [
    "points"
   ]
  },
  {
   "cell_type": "code",
   "execution_count": 17,
   "id": "de4e2dbe-91fc-4dd6-a1bb-3c8eab3cedc4",
   "metadata": {},
   "outputs": [
    {
     "data": {
      "text/plain": [
       "2"
      ]
     },
     "execution_count": 17,
     "metadata": {},
     "output_type": "execute_result"
    }
   ],
   "source": [
    "dist.argmin()"
   ]
  },
  {
   "cell_type": "code",
   "execution_count": null,
   "id": "2a5c21f8-3312-471a-b723-29dcd328907a",
   "metadata": {},
   "outputs": [],
   "source": []
  }
 ],
 "metadata": {
  "kernelspec": {
   "display_name": "Python 3 (ipykernel)",
   "language": "python",
   "name": "python3"
  },
  "language_info": {
   "codemirror_mode": {
    "name": "ipython",
    "version": 3
   },
   "file_extension": ".py",
   "mimetype": "text/x-python",
   "name": "python",
   "nbconvert_exporter": "python",
   "pygments_lexer": "ipython3",
   "version": "3.9.8"
  }
 },
 "nbformat": 4,
 "nbformat_minor": 5
}
