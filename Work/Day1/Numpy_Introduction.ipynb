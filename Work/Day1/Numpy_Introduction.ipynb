{
 "cells": [
  {
   "cell_type": "markdown",
   "id": "b56dd1b0-ea61-4f6c-add1-9b74f07ecf3e",
   "metadata": {},
   "source": [
    "# Introduction to Numpy\n",
    "\n",
    "We plan to learn\n",
    "\n",
    "- difference between lists and numpy arrays\n",
    "- slicing in numpy\n",
    "- broadcasting in numpy"
   ]
  },
  {
   "cell_type": "code",
   "execution_count": 1,
   "id": "5d079d6a-ba8b-4c26-9984-37b396649b51",
   "metadata": {},
   "outputs": [
    {
     "data": {
      "text/plain": [
       "[1, 2, 3, 4, 5]"
      ]
     },
     "execution_count": 1,
     "metadata": {},
     "output_type": "execute_result"
    }
   ],
   "source": [
    "list_a = list(range(1, 6))\n",
    "list_a"
   ]
  },
  {
   "cell_type": "code",
   "execution_count": 2,
   "id": "4eb732fe-a8f5-4640-9551-2d53db43eaad",
   "metadata": {},
   "outputs": [
    {
     "data": {
      "text/plain": [
       "[10, 20, 30, 40, 50]"
      ]
     },
     "execution_count": 2,
     "metadata": {},
     "output_type": "execute_result"
    }
   ],
   "source": [
    "list_b = list(range(10, 60, 10))\n",
    "list_b"
   ]
  },
  {
   "cell_type": "markdown",
   "id": "5e2cbc4e-6fcb-4536-99bb-91ef8248eb69",
   "metadata": {},
   "source": [
    "## Perform element-wise addition of two lists\n",
    "\n",
    "1 + 10 = 11\n",
    "\n",
    "2 + 20 = 22\n",
    "\n",
    "..."
   ]
  },
  {
   "cell_type": "code",
   "execution_count": 3,
   "id": "b60ce5a0-3764-492b-adc9-9952b05af849",
   "metadata": {},
   "outputs": [
    {
     "data": {
      "text/plain": [
       "[0, 0, 0, 0, 0]"
      ]
     },
     "execution_count": 3,
     "metadata": {},
     "output_type": "execute_result"
    }
   ],
   "source": [
    "both = [0] * len(list_a)\n",
    "both                "
   ]
  },
  {
   "cell_type": "code",
   "execution_count": 4,
   "id": "d25fcc7e-2a99-48c1-9c85-a5c4e893d755",
   "metadata": {},
   "outputs": [
    {
     "data": {
      "text/plain": [
       "[11, 22, 33, 44, 55]"
      ]
     },
     "execution_count": 4,
     "metadata": {},
     "output_type": "execute_result"
    }
   ],
   "source": [
    "for idx,val in enumerate(list_a):\n",
    "    both[idx] = list_a[idx] + list_b[idx]\n",
    "    \n",
    "both    "
   ]
  },
  {
   "cell_type": "code",
   "execution_count": 5,
   "id": "3cfe007d-a170-41f0-93b1-8871e8700aae",
   "metadata": {},
   "outputs": [],
   "source": [
    "import numpy as np"
   ]
  },
  {
   "cell_type": "code",
   "execution_count": 6,
   "id": "dbdf94b6-5645-43dd-8ca5-cb0dfa7dc4bb",
   "metadata": {},
   "outputs": [
    {
     "data": {
      "text/plain": [
       "array([1, 2, 3, 4, 5])"
      ]
     },
     "execution_count": 6,
     "metadata": {},
     "output_type": "execute_result"
    }
   ],
   "source": [
    "vec_a = np.array(range(1, 6))\n",
    "vec_a"
   ]
  },
  {
   "cell_type": "code",
   "execution_count": 7,
   "id": "8a73af54-29f0-4938-ae14-59249211647a",
   "metadata": {},
   "outputs": [
    {
     "data": {
      "text/plain": [
       "array([10, 20, 30, 40, 50])"
      ]
     },
     "execution_count": 7,
     "metadata": {},
     "output_type": "execute_result"
    }
   ],
   "source": [
    "vec_b = np.array(range(10, 60, 10))\n",
    "vec_b"
   ]
  },
  {
   "cell_type": "code",
   "execution_count": 8,
   "id": "9b074540-3914-4762-9f1d-899a5e3ad384",
   "metadata": {
    "tags": []
   },
   "outputs": [
    {
     "data": {
      "text/plain": [
       "array([11, 22, 33, 44, 55])"
      ]
     },
     "execution_count": 8,
     "metadata": {},
     "output_type": "execute_result"
    }
   ],
   "source": [
    "vec_c = vec_a + vec_b\n",
    "vec_c"
   ]
  },
  {
   "cell_type": "code",
   "execution_count": null,
   "id": "bd14ec9c-03c8-44b2-817f-ca56a501dce7",
   "metadata": {
    "tags": []
   },
   "outputs": [],
   "source": []
  }
 ],
 "metadata": {
  "kernelspec": {
   "display_name": "Python 3 (ipykernel)",
   "language": "python",
   "name": "python3"
  },
  "language_info": {
   "codemirror_mode": {
    "name": "ipython",
    "version": 3
   },
   "file_extension": ".py",
   "mimetype": "text/x-python",
   "name": "python",
   "nbconvert_exporter": "python",
   "pygments_lexer": "ipython3",
   "version": "3.9.8"
  }
 },
 "nbformat": 4,
 "nbformat_minor": 5
}
