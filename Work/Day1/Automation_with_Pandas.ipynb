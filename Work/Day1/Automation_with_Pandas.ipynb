{
 "cells": [
  {
   "cell_type": "markdown",
   "id": "79119cfc-638d-423a-ac8d-1e539e994d86",
   "metadata": {},
   "source": [
    "# Automating Report Genaration with Pandas\n",
    "\n",
    "Report showing the Annual profit for each product"
   ]
  },
  {
   "cell_type": "code",
   "execution_count": 1,
   "id": "91261998-ef11-4626-b958-4df6460a65c8",
   "metadata": {},
   "outputs": [],
   "source": [
    "import pandas as pd"
   ]
  },
  {
   "cell_type": "code",
   "execution_count": 2,
   "id": "0ff00ad7-38e1-430f-ac6b-39eda4c0931d",
   "metadata": {},
   "outputs": [],
   "source": [
    "toys_url = \"https://raw.githubusercontent.com/asarfraaz/PyPractice/master/data/toys.csv\""
   ]
  },
  {
   "cell_type": "markdown",
   "id": "74d2fdf7-e1f0-4d6b-ae18-ddc42c608765",
   "metadata": {},
   "source": [
    "# Load the dataset "
   ]
  },
  {
   "cell_type": "code",
   "execution_count": 3,
   "id": "b792b15d-67b9-41e7-b405-66b296b324d1",
   "metadata": {},
   "outputs": [],
   "source": [
    "df_toys = pd.read_csv(toys_url)"
   ]
  },
  {
   "cell_type": "markdown",
   "id": "830b07b5-8455-42b2-85b0-8292ad2e0420",
   "metadata": {},
   "source": [
    "## Find number of rows and columns in this dataset"
   ]
  },
  {
   "cell_type": "code",
   "execution_count": 5,
   "id": "9c7cd1a0-1ebe-4da7-8c0e-d07843b2e185",
   "metadata": {},
   "outputs": [],
   "source": [
    "n_rows, n_cols = df_toys.shape"
   ]
  },
  {
   "cell_type": "code",
   "execution_count": 6,
   "id": "9971b1ac-b360-4165-a2b2-50af27cb8a69",
   "metadata": {},
   "outputs": [
    {
     "data": {
      "text/plain": [
       "17"
      ]
     },
     "execution_count": 6,
     "metadata": {},
     "output_type": "execute_result"
    }
   ],
   "source": [
    "n_rows"
   ]
  },
  {
   "cell_type": "code",
   "execution_count": 7,
   "id": "40973080-f71d-49e8-90e1-f25bed60b996",
   "metadata": {},
   "outputs": [
    {
     "data": {
      "text/plain": [
       "4"
      ]
     },
     "execution_count": 7,
     "metadata": {},
     "output_type": "execute_result"
    }
   ],
   "source": [
    "n_cols"
   ]
  },
  {
   "cell_type": "markdown",
   "id": "f048a2b2-da29-418f-9763-872dae22aba3",
   "metadata": {},
   "source": [
    "## View first 8 rows"
   ]
  },
  {
   "cell_type": "code",
   "execution_count": 8,
   "id": "df2f9047-5f1a-41f6-864c-662eca4dc0f6",
   "metadata": {},
   "outputs": [
    {
     "data": {
      "text/html": [
       "<div>\n",
       "<style scoped>\n",
       "    .dataframe tbody tr th:only-of-type {\n",
       "        vertical-align: middle;\n",
       "    }\n",
       "\n",
       "    .dataframe tbody tr th {\n",
       "        vertical-align: top;\n",
       "    }\n",
       "\n",
       "    .dataframe thead th {\n",
       "        text-align: right;\n",
       "    }\n",
       "</style>\n",
       "<table border=\"1\" class=\"dataframe\">\n",
       "  <thead>\n",
       "    <tr style=\"text-align: right;\">\n",
       "      <th></th>\n",
       "      <th>Quarter</th>\n",
       "      <th>Product</th>\n",
       "      <th>Expenditure</th>\n",
       "      <th>Revenue</th>\n",
       "    </tr>\n",
       "  </thead>\n",
       "  <tbody>\n",
       "    <tr>\n",
       "      <th>0</th>\n",
       "      <td>2014Q1</td>\n",
       "      <td>Board</td>\n",
       "      <td>274847</td>\n",
       "      <td>338768</td>\n",
       "    </tr>\n",
       "    <tr>\n",
       "      <th>1</th>\n",
       "      <td>2014Q1</td>\n",
       "      <td>Wooden</td>\n",
       "      <td>264789</td>\n",
       "      <td>268293</td>\n",
       "    </tr>\n",
       "    <tr>\n",
       "      <th>2</th>\n",
       "      <td>2014Q1</td>\n",
       "      <td>Outdoor</td>\n",
       "      <td>278236</td>\n",
       "      <td>282379</td>\n",
       "    </tr>\n",
       "    <tr>\n",
       "      <th>3</th>\n",
       "      <td>2014Q2</td>\n",
       "      <td>Outdoor</td>\n",
       "      <td>256237</td>\n",
       "      <td>309898</td>\n",
       "    </tr>\n",
       "    <tr>\n",
       "      <th>4</th>\n",
       "      <td>2014Q2</td>\n",
       "      <td>Board</td>\n",
       "      <td>345234</td>\n",
       "      <td>387363</td>\n",
       "    </tr>\n",
       "    <tr>\n",
       "      <th>5</th>\n",
       "      <td>2014Q2</td>\n",
       "      <td>Legos</td>\n",
       "      <td>383764</td>\n",
       "      <td>453535</td>\n",
       "    </tr>\n",
       "    <tr>\n",
       "      <th>6</th>\n",
       "      <td>2014Q2</td>\n",
       "      <td>Wooden</td>\n",
       "      <td>243462</td>\n",
       "      <td>258273</td>\n",
       "    </tr>\n",
       "    <tr>\n",
       "      <th>7</th>\n",
       "      <td>2014Q3</td>\n",
       "      <td>Puzzles</td>\n",
       "      <td>337466</td>\n",
       "      <td>393787</td>\n",
       "    </tr>\n",
       "  </tbody>\n",
       "</table>\n",
       "</div>"
      ],
      "text/plain": [
       "  Quarter  Product  Expenditure  Revenue\n",
       "0  2014Q1    Board       274847   338768\n",
       "1  2014Q1   Wooden       264789   268293\n",
       "2  2014Q1  Outdoor       278236   282379\n",
       "3  2014Q2  Outdoor       256237   309898\n",
       "4  2014Q2    Board       345234   387363\n",
       "5  2014Q2    Legos       383764   453535\n",
       "6  2014Q2   Wooden       243462   258273\n",
       "7  2014Q3  Puzzles       337466   393787"
      ]
     },
     "execution_count": 8,
     "metadata": {},
     "output_type": "execute_result"
    }
   ],
   "source": [
    "df_toys.head(8)"
   ]
  },
  {
   "cell_type": "markdown",
   "id": "846c4792-0557-4fe3-9b78-530ef93270ba",
   "metadata": {},
   "source": [
    "## What is the annual Revenue and Expenditure for each product\n",
    "\n",
    "|Product|Rev|Exp|\n",
    "|-|-|-|\n",
    "|Wooden|1.2|1.0|\n",
    "|Puzzle|2.0|1.9|"
   ]
  },
  {
   "cell_type": "code",
   "execution_count": 15,
   "id": "cd12978b-a823-418a-b22e-b8b059072d5b",
   "metadata": {},
   "outputs": [
    {
     "data": {
      "text/html": [
       "<div>\n",
       "<style scoped>\n",
       "    .dataframe tbody tr th:only-of-type {\n",
       "        vertical-align: middle;\n",
       "    }\n",
       "\n",
       "    .dataframe tbody tr th {\n",
       "        vertical-align: top;\n",
       "    }\n",
       "\n",
       "    .dataframe thead th {\n",
       "        text-align: right;\n",
       "    }\n",
       "</style>\n",
       "<table border=\"1\" class=\"dataframe\">\n",
       "  <thead>\n",
       "    <tr style=\"text-align: right;\">\n",
       "      <th></th>\n",
       "      <th>Expenditure</th>\n",
       "      <th>Revenue</th>\n",
       "    </tr>\n",
       "    <tr>\n",
       "      <th>Product</th>\n",
       "      <th></th>\n",
       "      <th></th>\n",
       "    </tr>\n",
       "  </thead>\n",
       "  <tbody>\n",
       "    <tr>\n",
       "      <th>Board</th>\n",
       "      <td>360519.500000</td>\n",
       "      <td>401168.75</td>\n",
       "    </tr>\n",
       "    <tr>\n",
       "      <th>Legos</th>\n",
       "      <td>457210.333333</td>\n",
       "      <td>510373.00</td>\n",
       "    </tr>\n",
       "    <tr>\n",
       "      <th>Outdoor</th>\n",
       "      <td>304783.250000</td>\n",
       "      <td>331140.25</td>\n",
       "    </tr>\n",
       "    <tr>\n",
       "      <th>Puzzles</th>\n",
       "      <td>338425.000000</td>\n",
       "      <td>369211.50</td>\n",
       "    </tr>\n",
       "    <tr>\n",
       "      <th>Wooden</th>\n",
       "      <td>255748.500000</td>\n",
       "      <td>268217.25</td>\n",
       "    </tr>\n",
       "  </tbody>\n",
       "</table>\n",
       "</div>"
      ],
      "text/plain": [
       "           Expenditure    Revenue\n",
       "Product                          \n",
       "Board    360519.500000  401168.75\n",
       "Legos    457210.333333  510373.00\n",
       "Outdoor  304783.250000  331140.25\n",
       "Puzzles  338425.000000  369211.50\n",
       "Wooden   255748.500000  268217.25"
      ]
     },
     "execution_count": 15,
     "metadata": {},
     "output_type": "execute_result"
    }
   ],
   "source": [
    "df_toys.pivot_table(index=\"Product\")\n",
    "\n",
    "# ALERT !!! \n",
    "# By default, Pivot aggregates using \"mean\""
   ]
  },
  {
   "cell_type": "markdown",
   "id": "9d5ece9e-7689-4594-b550-aff0563672f6",
   "metadata": {},
   "source": [
    "## Calculate Annual expenditure for \"Board\"\n",
    "\n",
    "- Fetch rows where \"Product\" column as values of \"Board\""
   ]
  },
  {
   "cell_type": "code",
   "execution_count": 11,
   "id": "71788351-bd69-45d1-8e00-63f929bc3153",
   "metadata": {},
   "outputs": [
    {
     "data": {
      "text/html": [
       "<div>\n",
       "<style scoped>\n",
       "    .dataframe tbody tr th:only-of-type {\n",
       "        vertical-align: middle;\n",
       "    }\n",
       "\n",
       "    .dataframe tbody tr th {\n",
       "        vertical-align: top;\n",
       "    }\n",
       "\n",
       "    .dataframe thead th {\n",
       "        text-align: right;\n",
       "    }\n",
       "</style>\n",
       "<table border=\"1\" class=\"dataframe\">\n",
       "  <thead>\n",
       "    <tr style=\"text-align: right;\">\n",
       "      <th></th>\n",
       "      <th>Quarter</th>\n",
       "      <th>Product</th>\n",
       "      <th>Expenditure</th>\n",
       "      <th>Revenue</th>\n",
       "    </tr>\n",
       "  </thead>\n",
       "  <tbody>\n",
       "    <tr>\n",
       "      <th>0</th>\n",
       "      <td>2014Q1</td>\n",
       "      <td>Board</td>\n",
       "      <td>274847</td>\n",
       "      <td>338768</td>\n",
       "    </tr>\n",
       "    <tr>\n",
       "      <th>4</th>\n",
       "      <td>2014Q2</td>\n",
       "      <td>Board</td>\n",
       "      <td>345234</td>\n",
       "      <td>387363</td>\n",
       "    </tr>\n",
       "    <tr>\n",
       "      <th>10</th>\n",
       "      <td>2014Q3</td>\n",
       "      <td>Board</td>\n",
       "      <td>445762</td>\n",
       "      <td>483746</td>\n",
       "    </tr>\n",
       "    <tr>\n",
       "      <th>12</th>\n",
       "      <td>2014Q4</td>\n",
       "      <td>Board</td>\n",
       "      <td>376235</td>\n",
       "      <td>394798</td>\n",
       "    </tr>\n",
       "  </tbody>\n",
       "</table>\n",
       "</div>"
      ],
      "text/plain": [
       "   Quarter Product  Expenditure  Revenue\n",
       "0   2014Q1   Board       274847   338768\n",
       "4   2014Q2   Board       345234   387363\n",
       "10  2014Q3   Board       445762   483746\n",
       "12  2014Q4   Board       376235   394798"
      ]
     },
     "execution_count": 11,
     "metadata": {},
     "output_type": "execute_result"
    }
   ],
   "source": [
    "df_toys[ df_toys.Product == \"Board\" ]"
   ]
  },
  {
   "cell_type": "markdown",
   "id": "99cd55f8-fba9-4285-8e30-fb78c32e4af4",
   "metadata": {},
   "source": [
    "- Fetch only Expenditure column in the above output"
   ]
  },
  {
   "cell_type": "code",
   "execution_count": 12,
   "id": "c1a5ec12-5e67-4d1e-9cc8-d565b9588178",
   "metadata": {},
   "outputs": [
    {
     "data": {
      "text/plain": [
       "0     274847\n",
       "4     345234\n",
       "10    445762\n",
       "12    376235\n",
       "Name: Expenditure, dtype: int64"
      ]
     },
     "execution_count": 12,
     "metadata": {},
     "output_type": "execute_result"
    }
   ],
   "source": [
    "df_toys[ df_toys.Product == \"Board\" ]['Expenditure']"
   ]
  },
  {
   "cell_type": "code",
   "execution_count": 13,
   "id": "5751e0f6-47eb-4e46-9a3c-3199d24285e5",
   "metadata": {},
   "outputs": [
    {
     "data": {
      "text/plain": [
       "1442078"
      ]
     },
     "execution_count": 13,
     "metadata": {},
     "output_type": "execute_result"
    }
   ],
   "source": [
    "df_toys[ df_toys.Product == \"Board\" ]['Expenditure'].sum()"
   ]
  },
  {
   "cell_type": "code",
   "execution_count": 14,
   "id": "f0958c05-d24c-4a8b-bda8-79eaf5690d47",
   "metadata": {},
   "outputs": [
    {
     "data": {
      "text/plain": [
       "360519.5"
      ]
     },
     "execution_count": 14,
     "metadata": {},
     "output_type": "execute_result"
    }
   ],
   "source": [
    "df_toys[ df_toys.Product == \"Board\" ]['Expenditure'].mean()"
   ]
  },
  {
   "cell_type": "code",
   "execution_count": 18,
   "id": "ec4fabd6-1856-4e64-adcf-c8c3f4fc7908",
   "metadata": {},
   "outputs": [
    {
     "data": {
      "text/plain": [
       "'1.3.4'"
      ]
     },
     "execution_count": 18,
     "metadata": {},
     "output_type": "execute_result"
    }
   ],
   "source": [
    "pd.__version__"
   ]
  },
  {
   "cell_type": "code",
   "execution_count": 17,
   "id": "c6dad415-efcf-4a7e-b30e-bb28ac822082",
   "metadata": {},
   "outputs": [
    {
     "data": {
      "text/html": [
       "<div>\n",
       "<style scoped>\n",
       "    .dataframe tbody tr th:only-of-type {\n",
       "        vertical-align: middle;\n",
       "    }\n",
       "\n",
       "    .dataframe tbody tr th {\n",
       "        vertical-align: top;\n",
       "    }\n",
       "\n",
       "    .dataframe thead th {\n",
       "        text-align: right;\n",
       "    }\n",
       "</style>\n",
       "<table border=\"1\" class=\"dataframe\">\n",
       "  <thead>\n",
       "    <tr style=\"text-align: right;\">\n",
       "      <th></th>\n",
       "      <th>Expenditure</th>\n",
       "      <th>Revenue</th>\n",
       "    </tr>\n",
       "    <tr>\n",
       "      <th>Product</th>\n",
       "      <th></th>\n",
       "      <th></th>\n",
       "    </tr>\n",
       "  </thead>\n",
       "  <tbody>\n",
       "    <tr>\n",
       "      <th>Board</th>\n",
       "      <td>1442078</td>\n",
       "      <td>1604675</td>\n",
       "    </tr>\n",
       "    <tr>\n",
       "      <th>Legos</th>\n",
       "      <td>1371631</td>\n",
       "      <td>1531119</td>\n",
       "    </tr>\n",
       "    <tr>\n",
       "      <th>Outdoor</th>\n",
       "      <td>1219133</td>\n",
       "      <td>1324561</td>\n",
       "    </tr>\n",
       "    <tr>\n",
       "      <th>Puzzles</th>\n",
       "      <td>676850</td>\n",
       "      <td>738423</td>\n",
       "    </tr>\n",
       "    <tr>\n",
       "      <th>Wooden</th>\n",
       "      <td>1022994</td>\n",
       "      <td>1072869</td>\n",
       "    </tr>\n",
       "  </tbody>\n",
       "</table>\n",
       "</div>"
      ],
      "text/plain": [
       "         Expenditure  Revenue\n",
       "Product                      \n",
       "Board        1442078  1604675\n",
       "Legos        1371631  1531119\n",
       "Outdoor      1219133  1324561\n",
       "Puzzles       676850   738423\n",
       "Wooden       1022994  1072869"
      ]
     },
     "execution_count": 17,
     "metadata": {},
     "output_type": "execute_result"
    }
   ],
   "source": [
    "df_pvt = df_toys.pivot_table(index=\"Product\",\n",
    "                    aggfunc='sum',\n",
    "                   )\n",
    "\n",
    "df_pvt"
   ]
  },
  {
   "cell_type": "markdown",
   "id": "1614ff4c-a888-4080-8a0c-561fe8d7af7e",
   "metadata": {},
   "source": [
    "## Fetch only required columns for creating the Pivot\n",
    "\n",
    "- Product\n",
    "- Exp\n",
    "- Rev"
   ]
  },
  {
   "cell_type": "code",
   "execution_count": 20,
   "id": "a7fac178-e554-47f2-9f85-f1a17f9d96e7",
   "metadata": {},
   "outputs": [
    {
     "data": {
      "text/plain": [
       "Index(['Quarter', 'Product', 'Expenditure', 'Revenue'], dtype='object')"
      ]
     },
     "execution_count": 20,
     "metadata": {},
     "output_type": "execute_result"
    }
   ],
   "source": [
    "df_toys.columns"
   ]
  },
  {
   "cell_type": "code",
   "execution_count": 23,
   "id": "eca42488-5bc8-4682-94dd-91b1fa8c09a0",
   "metadata": {},
   "outputs": [
    {
     "data": {
      "text/plain": [
       "Index(['Product', 'Expenditure', 'Revenue'], dtype='object')"
      ]
     },
     "execution_count": 23,
     "metadata": {},
     "output_type": "execute_result"
    }
   ],
   "source": [
    "cols = df_toys.columns[1:] \n",
    "cols"
   ]
  },
  {
   "cell_type": "code",
   "execution_count": 26,
   "id": "5159e73d-168d-4164-9d24-5722f2ccf623",
   "metadata": {},
   "outputs": [
    {
     "data": {
      "text/html": [
       "<div>\n",
       "<style scoped>\n",
       "    .dataframe tbody tr th:only-of-type {\n",
       "        vertical-align: middle;\n",
       "    }\n",
       "\n",
       "    .dataframe tbody tr th {\n",
       "        vertical-align: top;\n",
       "    }\n",
       "\n",
       "    .dataframe thead th {\n",
       "        text-align: right;\n",
       "    }\n",
       "</style>\n",
       "<table border=\"1\" class=\"dataframe\">\n",
       "  <thead>\n",
       "    <tr style=\"text-align: right;\">\n",
       "      <th></th>\n",
       "      <th>Product</th>\n",
       "      <th>Expenditure</th>\n",
       "      <th>Revenue</th>\n",
       "    </tr>\n",
       "  </thead>\n",
       "  <tbody>\n",
       "    <tr>\n",
       "      <th>0</th>\n",
       "      <td>Board</td>\n",
       "      <td>274847</td>\n",
       "      <td>338768</td>\n",
       "    </tr>\n",
       "    <tr>\n",
       "      <th>1</th>\n",
       "      <td>Wooden</td>\n",
       "      <td>264789</td>\n",
       "      <td>268293</td>\n",
       "    </tr>\n",
       "    <tr>\n",
       "      <th>2</th>\n",
       "      <td>Outdoor</td>\n",
       "      <td>278236</td>\n",
       "      <td>282379</td>\n",
       "    </tr>\n",
       "    <tr>\n",
       "      <th>3</th>\n",
       "      <td>Outdoor</td>\n",
       "      <td>256237</td>\n",
       "      <td>309898</td>\n",
       "    </tr>\n",
       "    <tr>\n",
       "      <th>4</th>\n",
       "      <td>Board</td>\n",
       "      <td>345234</td>\n",
       "      <td>387363</td>\n",
       "    </tr>\n",
       "  </tbody>\n",
       "</table>\n",
       "</div>"
      ],
      "text/plain": [
       "   Product  Expenditure  Revenue\n",
       "0    Board       274847   338768\n",
       "1   Wooden       264789   268293\n",
       "2  Outdoor       278236   282379\n",
       "3  Outdoor       256237   309898\n",
       "4    Board       345234   387363"
      ]
     },
     "execution_count": 26,
     "metadata": {},
     "output_type": "execute_result"
    }
   ],
   "source": [
    "df_toys[cols].head()"
   ]
  },
  {
   "cell_type": "code",
   "execution_count": 29,
   "id": "296ed813-e6d6-4a5e-99f1-1f243659afa8",
   "metadata": {},
   "outputs": [
    {
     "data": {
      "text/html": [
       "<div>\n",
       "<style scoped>\n",
       "    .dataframe tbody tr th:only-of-type {\n",
       "        vertical-align: middle;\n",
       "    }\n",
       "\n",
       "    .dataframe tbody tr th {\n",
       "        vertical-align: top;\n",
       "    }\n",
       "\n",
       "    .dataframe thead th {\n",
       "        text-align: right;\n",
       "    }\n",
       "</style>\n",
       "<table border=\"1\" class=\"dataframe\">\n",
       "  <thead>\n",
       "    <tr style=\"text-align: right;\">\n",
       "      <th></th>\n",
       "      <th>Expenditure</th>\n",
       "      <th>Revenue</th>\n",
       "    </tr>\n",
       "    <tr>\n",
       "      <th>Product</th>\n",
       "      <th></th>\n",
       "      <th></th>\n",
       "    </tr>\n",
       "  </thead>\n",
       "  <tbody>\n",
       "    <tr>\n",
       "      <th>Board</th>\n",
       "      <td>1442078</td>\n",
       "      <td>1604675</td>\n",
       "    </tr>\n",
       "    <tr>\n",
       "      <th>Legos</th>\n",
       "      <td>1371631</td>\n",
       "      <td>1531119</td>\n",
       "    </tr>\n",
       "    <tr>\n",
       "      <th>Outdoor</th>\n",
       "      <td>1219133</td>\n",
       "      <td>1324561</td>\n",
       "    </tr>\n",
       "    <tr>\n",
       "      <th>Puzzles</th>\n",
       "      <td>676850</td>\n",
       "      <td>738423</td>\n",
       "    </tr>\n",
       "    <tr>\n",
       "      <th>Wooden</th>\n",
       "      <td>1022994</td>\n",
       "      <td>1072869</td>\n",
       "    </tr>\n",
       "  </tbody>\n",
       "</table>\n",
       "</div>"
      ],
      "text/plain": [
       "         Expenditure  Revenue\n",
       "Product                      \n",
       "Board        1442078  1604675\n",
       "Legos        1371631  1531119\n",
       "Outdoor      1219133  1324561\n",
       "Puzzles       676850   738423\n",
       "Wooden       1022994  1072869"
      ]
     },
     "execution_count": 29,
     "metadata": {},
     "output_type": "execute_result"
    }
   ],
   "source": [
    "df_toys[cols].pivot_table(index=\"Product\",\n",
    "                         aggfunc='sum',\n",
    "                         )"
   ]
  },
  {
   "cell_type": "markdown",
   "id": "67cb6427-fb2e-47ad-88e4-902d9e3cba41",
   "metadata": {},
   "source": [
    "## Digression"
   ]
  },
  {
   "cell_type": "code",
   "execution_count": 30,
   "id": "245e6161-348f-47ab-9c36-e4f5e486b617",
   "metadata": {},
   "outputs": [
    {
     "data": {
      "text/html": [
       "<div>\n",
       "<style scoped>\n",
       "    .dataframe tbody tr th:only-of-type {\n",
       "        vertical-align: middle;\n",
       "    }\n",
       "\n",
       "    .dataframe tbody tr th {\n",
       "        vertical-align: top;\n",
       "    }\n",
       "\n",
       "    .dataframe thead th {\n",
       "        text-align: right;\n",
       "    }\n",
       "</style>\n",
       "<table border=\"1\" class=\"dataframe\">\n",
       "  <thead>\n",
       "    <tr style=\"text-align: right;\">\n",
       "      <th></th>\n",
       "      <th>Expenditure</th>\n",
       "      <th>Revenue</th>\n",
       "    </tr>\n",
       "    <tr>\n",
       "      <th>Product</th>\n",
       "      <th></th>\n",
       "      <th></th>\n",
       "    </tr>\n",
       "  </thead>\n",
       "  <tbody>\n",
       "    <tr>\n",
       "      <th>Board</th>\n",
       "      <td>1442078</td>\n",
       "      <td>1604675</td>\n",
       "    </tr>\n",
       "    <tr>\n",
       "      <th>Legos</th>\n",
       "      <td>1371631</td>\n",
       "      <td>1531119</td>\n",
       "    </tr>\n",
       "    <tr>\n",
       "      <th>Outdoor</th>\n",
       "      <td>1219133</td>\n",
       "      <td>1324561</td>\n",
       "    </tr>\n",
       "    <tr>\n",
       "      <th>Puzzles</th>\n",
       "      <td>676850</td>\n",
       "      <td>738423</td>\n",
       "    </tr>\n",
       "    <tr>\n",
       "      <th>Wooden</th>\n",
       "      <td>1022994</td>\n",
       "      <td>1072869</td>\n",
       "    </tr>\n",
       "  </tbody>\n",
       "</table>\n",
       "</div>"
      ],
      "text/plain": [
       "         Expenditure  Revenue\n",
       "Product                      \n",
       "Board        1442078  1604675\n",
       "Legos        1371631  1531119\n",
       "Outdoor      1219133  1324561\n",
       "Puzzles       676850   738423\n",
       "Wooden       1022994  1072869"
      ]
     },
     "execution_count": 30,
     "metadata": {},
     "output_type": "execute_result"
    }
   ],
   "source": [
    "df_pvt"
   ]
  },
  {
   "cell_type": "code",
   "execution_count": 32,
   "id": "2165d23f-57b2-4575-b59f-f1c3bff3a71a",
   "metadata": {},
   "outputs": [
    {
     "data": {
      "text/plain": [
       "Index(['Expenditure', 'Revenue'], dtype='object')"
      ]
     },
     "execution_count": 32,
     "metadata": {},
     "output_type": "execute_result"
    }
   ],
   "source": [
    "df_pvt.columns"
   ]
  },
  {
   "cell_type": "markdown",
   "id": "51f9d4b3-3ecc-4751-9a3e-f8b91639a0b1",
   "metadata": {},
   "source": [
    "- What are the index labels / Row labels"
   ]
  },
  {
   "cell_type": "code",
   "execution_count": 33,
   "id": "4eef8352-b2bb-4331-8c2c-31c24d3afeae",
   "metadata": {},
   "outputs": [
    {
     "data": {
      "text/plain": [
       "Index(['Board', 'Legos', 'Outdoor', 'Puzzles', 'Wooden'], dtype='object', name='Product')"
      ]
     },
     "execution_count": 33,
     "metadata": {},
     "output_type": "execute_result"
    }
   ],
   "source": [
    "df_pvt.index"
   ]
  },
  {
   "cell_type": "code",
   "execution_count": 34,
   "id": "6825c658-7709-496c-b923-7974156fe0f5",
   "metadata": {},
   "outputs": [
    {
     "data": {
      "text/html": [
       "<div>\n",
       "<style scoped>\n",
       "    .dataframe tbody tr th:only-of-type {\n",
       "        vertical-align: middle;\n",
       "    }\n",
       "\n",
       "    .dataframe tbody tr th {\n",
       "        vertical-align: top;\n",
       "    }\n",
       "\n",
       "    .dataframe thead th {\n",
       "        text-align: right;\n",
       "    }\n",
       "</style>\n",
       "<table border=\"1\" class=\"dataframe\">\n",
       "  <thead>\n",
       "    <tr style=\"text-align: right;\">\n",
       "      <th></th>\n",
       "      <th>Expenditure</th>\n",
       "      <th>Revenue</th>\n",
       "    </tr>\n",
       "    <tr>\n",
       "      <th>Product</th>\n",
       "      <th></th>\n",
       "      <th></th>\n",
       "    </tr>\n",
       "  </thead>\n",
       "  <tbody>\n",
       "    <tr>\n",
       "      <th>Board</th>\n",
       "      <td>1442078</td>\n",
       "      <td>1604675</td>\n",
       "    </tr>\n",
       "    <tr>\n",
       "      <th>Legos</th>\n",
       "      <td>1371631</td>\n",
       "      <td>1531119</td>\n",
       "    </tr>\n",
       "    <tr>\n",
       "      <th>Outdoor</th>\n",
       "      <td>1219133</td>\n",
       "      <td>1324561</td>\n",
       "    </tr>\n",
       "    <tr>\n",
       "      <th>Puzzles</th>\n",
       "      <td>676850</td>\n",
       "      <td>738423</td>\n",
       "    </tr>\n",
       "    <tr>\n",
       "      <th>Wooden</th>\n",
       "      <td>1022994</td>\n",
       "      <td>1072869</td>\n",
       "    </tr>\n",
       "  </tbody>\n",
       "</table>\n",
       "</div>"
      ],
      "text/plain": [
       "         Expenditure  Revenue\n",
       "Product                      \n",
       "Board        1442078  1604675\n",
       "Legos        1371631  1531119\n",
       "Outdoor      1219133  1324561\n",
       "Puzzles       676850   738423\n",
       "Wooden       1022994  1072869"
      ]
     },
     "execution_count": 34,
     "metadata": {},
     "output_type": "execute_result"
    }
   ],
   "source": [
    "df_pvt"
   ]
  },
  {
   "cell_type": "markdown",
   "id": "67ac7d2e-0ec8-457c-a001-4c2648cc11c9",
   "metadata": {},
   "source": [
    "- Fetch exp and rev for Board"
   ]
  },
  {
   "cell_type": "code",
   "execution_count": 36,
   "id": "cdb03d26-27cf-4268-a5b2-41f38d363d15",
   "metadata": {},
   "outputs": [
    {
     "data": {
      "text/plain": [
       "Expenditure    1442078\n",
       "Revenue        1604675\n",
       "Name: Board, dtype: int64"
      ]
     },
     "execution_count": 36,
     "metadata": {},
     "output_type": "execute_result"
    }
   ],
   "source": [
    "df_pvt.loc['Board']"
   ]
  },
  {
   "cell_type": "markdown",
   "id": "ae3aba32-f6d5-4596-8094-d6b1ae40f4b8",
   "metadata": {},
   "source": [
    "- Fetch exp and rev for Puzzles"
   ]
  },
  {
   "cell_type": "code",
   "execution_count": 38,
   "id": "030b8813-3454-47a0-9fca-707d000b42bc",
   "metadata": {},
   "outputs": [
    {
     "data": {
      "text/plain": [
       "Expenditure    676850\n",
       "Revenue        738423\n",
       "Name: Puzzles, dtype: int64"
      ]
     },
     "execution_count": 38,
     "metadata": {},
     "output_type": "execute_result"
    }
   ],
   "source": [
    "df_pvt.loc['Puzzles']"
   ]
  },
  {
   "cell_type": "code",
   "execution_count": 39,
   "id": "a8933c91-ca97-4531-a332-c0f53c607af3",
   "metadata": {},
   "outputs": [],
   "source": [
    "friends = ['Sam', 'Ajay', 'Vishal']"
   ]
  },
  {
   "cell_type": "markdown",
   "id": "d6c55230-b4aa-4180-b274-63fb19090ce2",
   "metadata": {},
   "source": [
    "- Fetch for the first name ?"
   ]
  },
  {
   "cell_type": "code",
   "execution_count": 40,
   "id": "d7abfc93-bf4a-42b5-a7f9-cd31b9ae0e05",
   "metadata": {},
   "outputs": [
    {
     "data": {
      "text/plain": [
       "'Sam'"
      ]
     },
     "execution_count": 40,
     "metadata": {},
     "output_type": "execute_result"
    }
   ],
   "source": [
    "friends[0]"
   ]
  },
  {
   "cell_type": "markdown",
   "id": "5b6af9cc-b155-4a7f-b9e3-30d56904447a",
   "metadata": {},
   "source": [
    "- similarly, for the first row in DataFrame, the index is 0\n",
    "- The row label for first row in `df_pvt` is \"Board\"\n",
    "- It's index value is 0\n",
    "\n",
    "To fetch the row, based on its index value use : `iloc`"
   ]
  },
  {
   "cell_type": "code",
   "execution_count": 41,
   "id": "e50325a1-6fb5-462a-b798-f737b70a0520",
   "metadata": {},
   "outputs": [
    {
     "data": {
      "text/plain": [
       "Expenditure    1442078\n",
       "Revenue        1604675\n",
       "Name: Board, dtype: int64"
      ]
     },
     "execution_count": 41,
     "metadata": {},
     "output_type": "execute_result"
    }
   ],
   "source": [
    "# Fetch first row based on its index value\n",
    "df_pvt.iloc[0]"
   ]
  },
  {
   "cell_type": "code",
   "execution_count": 42,
   "id": "e6d4cf32-94e4-4b6b-9e53-63c1fc6af7e6",
   "metadata": {},
   "outputs": [
    {
     "data": {
      "text/html": [
       "<div>\n",
       "<style scoped>\n",
       "    .dataframe tbody tr th:only-of-type {\n",
       "        vertical-align: middle;\n",
       "    }\n",
       "\n",
       "    .dataframe tbody tr th {\n",
       "        vertical-align: top;\n",
       "    }\n",
       "\n",
       "    .dataframe thead th {\n",
       "        text-align: right;\n",
       "    }\n",
       "</style>\n",
       "<table border=\"1\" class=\"dataframe\">\n",
       "  <thead>\n",
       "    <tr style=\"text-align: right;\">\n",
       "      <th></th>\n",
       "      <th>Expenditure</th>\n",
       "      <th>Revenue</th>\n",
       "    </tr>\n",
       "    <tr>\n",
       "      <th>Product</th>\n",
       "      <th></th>\n",
       "      <th></th>\n",
       "    </tr>\n",
       "  </thead>\n",
       "  <tbody>\n",
       "    <tr>\n",
       "      <th>Board</th>\n",
       "      <td>1442078</td>\n",
       "      <td>1604675</td>\n",
       "    </tr>\n",
       "    <tr>\n",
       "      <th>Legos</th>\n",
       "      <td>1371631</td>\n",
       "      <td>1531119</td>\n",
       "    </tr>\n",
       "    <tr>\n",
       "      <th>Outdoor</th>\n",
       "      <td>1219133</td>\n",
       "      <td>1324561</td>\n",
       "    </tr>\n",
       "    <tr>\n",
       "      <th>Puzzles</th>\n",
       "      <td>676850</td>\n",
       "      <td>738423</td>\n",
       "    </tr>\n",
       "    <tr>\n",
       "      <th>Wooden</th>\n",
       "      <td>1022994</td>\n",
       "      <td>1072869</td>\n",
       "    </tr>\n",
       "  </tbody>\n",
       "</table>\n",
       "</div>"
      ],
      "text/plain": [
       "         Expenditure  Revenue\n",
       "Product                      \n",
       "Board        1442078  1604675\n",
       "Legos        1371631  1531119\n",
       "Outdoor      1219133  1324561\n",
       "Puzzles       676850   738423\n",
       "Wooden       1022994  1072869"
      ]
     },
     "execution_count": 42,
     "metadata": {},
     "output_type": "execute_result"
    }
   ],
   "source": [
    "df_pvt"
   ]
  },
  {
   "cell_type": "markdown",
   "id": "694e84f9-11dd-4e7b-a3b4-842ece5d47e1",
   "metadata": {},
   "source": [
    "- Use `iloc` to fetch the exp and rev for Puzzles"
   ]
  },
  {
   "cell_type": "code",
   "execution_count": 43,
   "id": "6fd2fd0b-c420-4925-8709-aed6ad12b434",
   "metadata": {},
   "outputs": [
    {
     "data": {
      "text/plain": [
       "Expenditure    676850\n",
       "Revenue        738423\n",
       "Name: Puzzles, dtype: int64"
      ]
     },
     "execution_count": 43,
     "metadata": {},
     "output_type": "execute_result"
    }
   ],
   "source": [
    "df_pvt.iloc[-2]"
   ]
  },
  {
   "cell_type": "markdown",
   "id": "b890f949-6c0b-41a3-9293-b6154be05af5",
   "metadata": {},
   "source": [
    "- Fetch information for \"Outdoor\""
   ]
  },
  {
   "cell_type": "code",
   "execution_count": 44,
   "id": "0bf20e2a-bdb8-467e-856f-df96e0d3132a",
   "metadata": {},
   "outputs": [
    {
     "data": {
      "text/plain": [
       "Expenditure    1219133\n",
       "Revenue        1324561\n",
       "Name: Outdoor, dtype: int64"
      ]
     },
     "execution_count": 44,
     "metadata": {},
     "output_type": "execute_result"
    }
   ],
   "source": [
    "df_pvt.loc['Outdoor']"
   ]
  },
  {
   "cell_type": "markdown",
   "id": "6574a845-4144-474b-8ffc-eaaea48099e7",
   "metadata": {},
   "source": [
    "- Fetch information for second row"
   ]
  },
  {
   "cell_type": "code",
   "execution_count": 45,
   "id": "78ed3768-6cc9-4043-9c26-b47181b4e38f",
   "metadata": {},
   "outputs": [
    {
     "data": {
      "text/plain": [
       "Expenditure    1371631\n",
       "Revenue        1531119\n",
       "Name: Legos, dtype: int64"
      ]
     },
     "execution_count": 45,
     "metadata": {},
     "output_type": "execute_result"
    }
   ],
   "source": [
    "df_pvt.iloc[1]"
   ]
  },
  {
   "cell_type": "code",
   "execution_count": 50,
   "id": "01162be5-e893-4b92-b8de-623460b6f701",
   "metadata": {},
   "outputs": [
    {
     "data": {
      "text/html": [
       "<div>\n",
       "<style scoped>\n",
       "    .dataframe tbody tr th:only-of-type {\n",
       "        vertical-align: middle;\n",
       "    }\n",
       "\n",
       "    .dataframe tbody tr th {\n",
       "        vertical-align: top;\n",
       "    }\n",
       "\n",
       "    .dataframe thead th {\n",
       "        text-align: right;\n",
       "    }\n",
       "</style>\n",
       "<table border=\"1\" class=\"dataframe\">\n",
       "  <thead>\n",
       "    <tr style=\"text-align: right;\">\n",
       "      <th></th>\n",
       "      <th>Quarter</th>\n",
       "      <th>Expenditure</th>\n",
       "      <th>Revenue</th>\n",
       "    </tr>\n",
       "    <tr>\n",
       "      <th>Product</th>\n",
       "      <th></th>\n",
       "      <th></th>\n",
       "      <th></th>\n",
       "    </tr>\n",
       "  </thead>\n",
       "  <tbody>\n",
       "    <tr>\n",
       "      <th>Board</th>\n",
       "      <td>2014Q1</td>\n",
       "      <td>274847</td>\n",
       "      <td>338768</td>\n",
       "    </tr>\n",
       "    <tr>\n",
       "      <th>Board</th>\n",
       "      <td>2014Q2</td>\n",
       "      <td>345234</td>\n",
       "      <td>387363</td>\n",
       "    </tr>\n",
       "    <tr>\n",
       "      <th>Board</th>\n",
       "      <td>2014Q3</td>\n",
       "      <td>445762</td>\n",
       "      <td>483746</td>\n",
       "    </tr>\n",
       "    <tr>\n",
       "      <th>Board</th>\n",
       "      <td>2014Q4</td>\n",
       "      <td>376235</td>\n",
       "      <td>394798</td>\n",
       "    </tr>\n",
       "  </tbody>\n",
       "</table>\n",
       "</div>"
      ],
      "text/plain": [
       "        Quarter  Expenditure  Revenue\n",
       "Product                              \n",
       "Board    2014Q1       274847   338768\n",
       "Board    2014Q2       345234   387363\n",
       "Board    2014Q3       445762   483746\n",
       "Board    2014Q4       376235   394798"
      ]
     },
     "execution_count": 50,
     "metadata": {},
     "output_type": "execute_result"
    }
   ],
   "source": [
    "df_toys.set_index('Product').loc['Board']"
   ]
  },
  {
   "cell_type": "markdown",
   "id": "16361839-0517-4b08-929b-f1548dc1acb4",
   "metadata": {},
   "source": [
    "## Calculate the Annual Profit for each product"
   ]
  },
  {
   "cell_type": "code",
   "execution_count": 51,
   "id": "72f0aab9-345f-44b7-ae8b-547d589e1557",
   "metadata": {},
   "outputs": [
    {
     "data": {
      "text/html": [
       "<div>\n",
       "<style scoped>\n",
       "    .dataframe tbody tr th:only-of-type {\n",
       "        vertical-align: middle;\n",
       "    }\n",
       "\n",
       "    .dataframe tbody tr th {\n",
       "        vertical-align: top;\n",
       "    }\n",
       "\n",
       "    .dataframe thead th {\n",
       "        text-align: right;\n",
       "    }\n",
       "</style>\n",
       "<table border=\"1\" class=\"dataframe\">\n",
       "  <thead>\n",
       "    <tr style=\"text-align: right;\">\n",
       "      <th></th>\n",
       "      <th>Expenditure</th>\n",
       "      <th>Revenue</th>\n",
       "    </tr>\n",
       "    <tr>\n",
       "      <th>Product</th>\n",
       "      <th></th>\n",
       "      <th></th>\n",
       "    </tr>\n",
       "  </thead>\n",
       "  <tbody>\n",
       "    <tr>\n",
       "      <th>Board</th>\n",
       "      <td>1442078</td>\n",
       "      <td>1604675</td>\n",
       "    </tr>\n",
       "    <tr>\n",
       "      <th>Legos</th>\n",
       "      <td>1371631</td>\n",
       "      <td>1531119</td>\n",
       "    </tr>\n",
       "    <tr>\n",
       "      <th>Outdoor</th>\n",
       "      <td>1219133</td>\n",
       "      <td>1324561</td>\n",
       "    </tr>\n",
       "    <tr>\n",
       "      <th>Puzzles</th>\n",
       "      <td>676850</td>\n",
       "      <td>738423</td>\n",
       "    </tr>\n",
       "    <tr>\n",
       "      <th>Wooden</th>\n",
       "      <td>1022994</td>\n",
       "      <td>1072869</td>\n",
       "    </tr>\n",
       "  </tbody>\n",
       "</table>\n",
       "</div>"
      ],
      "text/plain": [
       "         Expenditure  Revenue\n",
       "Product                      \n",
       "Board        1442078  1604675\n",
       "Legos        1371631  1531119\n",
       "Outdoor      1219133  1324561\n",
       "Puzzles       676850   738423\n",
       "Wooden       1022994  1072869"
      ]
     },
     "execution_count": 51,
     "metadata": {},
     "output_type": "execute_result"
    }
   ],
   "source": [
    "df_pvt"
   ]
  },
  {
   "cell_type": "code",
   "execution_count": 53,
   "id": "23de8db5-df7b-4a53-8fe9-f9d0abc575ba",
   "metadata": {},
   "outputs": [
    {
     "data": {
      "text/plain": [
       "Product\n",
       "Board      1604675\n",
       "Legos      1531119\n",
       "Outdoor    1324561\n",
       "Puzzles     738423\n",
       "Wooden     1072869\n",
       "Name: Revenue, dtype: int64"
      ]
     },
     "execution_count": 53,
     "metadata": {},
     "output_type": "execute_result"
    }
   ],
   "source": [
    "df_pvt.Revenue"
   ]
  },
  {
   "cell_type": "code",
   "execution_count": 54,
   "id": "f37a673c-de33-4323-b026-f35217ae1251",
   "metadata": {},
   "outputs": [
    {
     "data": {
      "text/plain": [
       "Product\n",
       "Board      1442078\n",
       "Legos      1371631\n",
       "Outdoor    1219133\n",
       "Puzzles     676850\n",
       "Wooden     1022994\n",
       "Name: Expenditure, dtype: int64"
      ]
     },
     "execution_count": 54,
     "metadata": {},
     "output_type": "execute_result"
    }
   ],
   "source": [
    "df_pvt.Expenditure"
   ]
  },
  {
   "cell_type": "code",
   "execution_count": 55,
   "id": "0c506f44-ffd4-4a76-ab92-fa07856b1134",
   "metadata": {},
   "outputs": [
    {
     "data": {
      "text/plain": [
       "Product\n",
       "Board      162597\n",
       "Legos      159488\n",
       "Outdoor    105428\n",
       "Puzzles     61573\n",
       "Wooden      49875\n",
       "dtype: int64"
      ]
     },
     "execution_count": 55,
     "metadata": {},
     "output_type": "execute_result"
    }
   ],
   "source": [
    "df_pvt.Revenue - df_pvt.Expenditure"
   ]
  },
  {
   "cell_type": "code",
   "execution_count": 57,
   "id": "82b8039e-fd55-4d7d-a7a2-4dccbd4adf72",
   "metadata": {},
   "outputs": [
    {
     "data": {
      "text/html": [
       "<div>\n",
       "<style scoped>\n",
       "    .dataframe tbody tr th:only-of-type {\n",
       "        vertical-align: middle;\n",
       "    }\n",
       "\n",
       "    .dataframe tbody tr th {\n",
       "        vertical-align: top;\n",
       "    }\n",
       "\n",
       "    .dataframe thead th {\n",
       "        text-align: right;\n",
       "    }\n",
       "</style>\n",
       "<table border=\"1\" class=\"dataframe\">\n",
       "  <thead>\n",
       "    <tr style=\"text-align: right;\">\n",
       "      <th></th>\n",
       "      <th>Expenditure</th>\n",
       "      <th>Revenue</th>\n",
       "      <th>Profit</th>\n",
       "    </tr>\n",
       "    <tr>\n",
       "      <th>Product</th>\n",
       "      <th></th>\n",
       "      <th></th>\n",
       "      <th></th>\n",
       "    </tr>\n",
       "  </thead>\n",
       "  <tbody>\n",
       "    <tr>\n",
       "      <th>Board</th>\n",
       "      <td>1442078</td>\n",
       "      <td>1604675</td>\n",
       "      <td>162597</td>\n",
       "    </tr>\n",
       "    <tr>\n",
       "      <th>Legos</th>\n",
       "      <td>1371631</td>\n",
       "      <td>1531119</td>\n",
       "      <td>159488</td>\n",
       "    </tr>\n",
       "    <tr>\n",
       "      <th>Outdoor</th>\n",
       "      <td>1219133</td>\n",
       "      <td>1324561</td>\n",
       "      <td>105428</td>\n",
       "    </tr>\n",
       "    <tr>\n",
       "      <th>Puzzles</th>\n",
       "      <td>676850</td>\n",
       "      <td>738423</td>\n",
       "      <td>61573</td>\n",
       "    </tr>\n",
       "    <tr>\n",
       "      <th>Wooden</th>\n",
       "      <td>1022994</td>\n",
       "      <td>1072869</td>\n",
       "      <td>49875</td>\n",
       "    </tr>\n",
       "  </tbody>\n",
       "</table>\n",
       "</div>"
      ],
      "text/plain": [
       "         Expenditure  Revenue  Profit\n",
       "Product                              \n",
       "Board        1442078  1604675  162597\n",
       "Legos        1371631  1531119  159488\n",
       "Outdoor      1219133  1324561  105428\n",
       "Puzzles       676850   738423   61573\n",
       "Wooden       1022994  1072869   49875"
      ]
     },
     "execution_count": 57,
     "metadata": {},
     "output_type": "execute_result"
    }
   ],
   "source": [
    "df_pvt.loc[:, 'Profit'] = df_pvt.Revenue - df_pvt.Expenditure\n",
    "df_pvt"
   ]
  },
  {
   "cell_type": "code",
   "execution_count": 63,
   "id": "e616235f-dbc1-4260-a578-7383d689771d",
   "metadata": {},
   "outputs": [
    {
     "data": {
      "text/html": [
       "<div>\n",
       "<style scoped>\n",
       "    .dataframe tbody tr th:only-of-type {\n",
       "        vertical-align: middle;\n",
       "    }\n",
       "\n",
       "    .dataframe tbody tr th {\n",
       "        vertical-align: top;\n",
       "    }\n",
       "\n",
       "    .dataframe thead th {\n",
       "        text-align: right;\n",
       "    }\n",
       "</style>\n",
       "<table border=\"1\" class=\"dataframe\">\n",
       "  <thead>\n",
       "    <tr style=\"text-align: right;\">\n",
       "      <th></th>\n",
       "      <th>Product</th>\n",
       "      <th>Expenditure</th>\n",
       "      <th>Revenue</th>\n",
       "      <th>Profit</th>\n",
       "    </tr>\n",
       "  </thead>\n",
       "  <tbody>\n",
       "    <tr>\n",
       "      <th>0</th>\n",
       "      <td>Board</td>\n",
       "      <td>1442078</td>\n",
       "      <td>1604675</td>\n",
       "      <td>162597</td>\n",
       "    </tr>\n",
       "    <tr>\n",
       "      <th>1</th>\n",
       "      <td>Legos</td>\n",
       "      <td>1371631</td>\n",
       "      <td>1531119</td>\n",
       "      <td>159488</td>\n",
       "    </tr>\n",
       "    <tr>\n",
       "      <th>2</th>\n",
       "      <td>Outdoor</td>\n",
       "      <td>1219133</td>\n",
       "      <td>1324561</td>\n",
       "      <td>105428</td>\n",
       "    </tr>\n",
       "    <tr>\n",
       "      <th>3</th>\n",
       "      <td>Puzzles</td>\n",
       "      <td>676850</td>\n",
       "      <td>738423</td>\n",
       "      <td>61573</td>\n",
       "    </tr>\n",
       "    <tr>\n",
       "      <th>4</th>\n",
       "      <td>Wooden</td>\n",
       "      <td>1022994</td>\n",
       "      <td>1072869</td>\n",
       "      <td>49875</td>\n",
       "    </tr>\n",
       "  </tbody>\n",
       "</table>\n",
       "</div>"
      ],
      "text/plain": [
       "   Product  Expenditure  Revenue  Profit\n",
       "0    Board      1442078  1604675  162597\n",
       "1    Legos      1371631  1531119  159488\n",
       "2  Outdoor      1219133  1324561  105428\n",
       "3  Puzzles       676850   738423   61573\n",
       "4   Wooden      1022994  1072869   49875"
      ]
     },
     "execution_count": 63,
     "metadata": {},
     "output_type": "execute_result"
    }
   ],
   "source": [
    "df_pvt.reset_index()"
   ]
  },
  {
   "cell_type": "code",
   "execution_count": 58,
   "id": "e9988753-277f-472e-8ca2-9ed6c5138448",
   "metadata": {},
   "outputs": [],
   "source": [
    "import seaborn as sns"
   ]
  },
  {
   "cell_type": "code",
   "execution_count": 67,
   "id": "fc744d32-997f-4db0-8139-d1d1e4fbfe7e",
   "metadata": {},
   "outputs": [
    {
     "data": {
      "text/plain": [
       "<AxesSubplot:xlabel='Product', ylabel='Profit'>"
      ]
     },
     "execution_count": 67,
     "metadata": {},
     "output_type": "execute_result"
    },
    {
     "data": {
      "image/png": "[encoded data removed]",
      "text/plain": [
       "<Figure size 432x288 with 1 Axes>"
      ]
     },
     "metadata": {
      "needs_background": "light"
     },
     "output_type": "display_data"
    }
   ],
   "source": [
    "sns.barplot(data = df_pvt.reset_index(),\n",
    "             y = 'Profit',\n",
    "             x = 'Product',\n",
    "            )"
   ]
  },
  {
   "cell_type": "markdown",
   "id": "5d7d33ab-1cbf-4213-9e9c-cec538685f9a",
   "metadata": {},
   "source": [
    "## Plot Revenue for each product"
   ]
  },
  {
   "cell_type": "code",
   "execution_count": 68,
   "id": "c164681a-7e5d-40d9-9470-7edf5bf0d1bb",
   "metadata": {},
   "outputs": [
    {
     "data": {
      "text/html": [
       "<div>\n",
       "<style scoped>\n",
       "    .dataframe tbody tr th:only-of-type {\n",
       "        vertical-align: middle;\n",
       "    }\n",
       "\n",
       "    .dataframe tbody tr th {\n",
       "        vertical-align: top;\n",
       "    }\n",
       "\n",
       "    .dataframe thead th {\n",
       "        text-align: right;\n",
       "    }\n",
       "</style>\n",
       "<table border=\"1\" class=\"dataframe\">\n",
       "  <thead>\n",
       "    <tr style=\"text-align: right;\">\n",
       "      <th></th>\n",
       "      <th>Expenditure</th>\n",
       "      <th>Revenue</th>\n",
       "      <th>Profit</th>\n",
       "    </tr>\n",
       "    <tr>\n",
       "      <th>Product</th>\n",
       "      <th></th>\n",
       "      <th></th>\n",
       "      <th></th>\n",
       "    </tr>\n",
       "  </thead>\n",
       "  <tbody>\n",
       "    <tr>\n",
       "      <th>Board</th>\n",
       "      <td>1442078</td>\n",
       "      <td>1604675</td>\n",
       "      <td>162597</td>\n",
       "    </tr>\n",
       "    <tr>\n",
       "      <th>Legos</th>\n",
       "      <td>1371631</td>\n",
       "      <td>1531119</td>\n",
       "      <td>159488</td>\n",
       "    </tr>\n",
       "    <tr>\n",
       "      <th>Outdoor</th>\n",
       "      <td>1219133</td>\n",
       "      <td>1324561</td>\n",
       "      <td>105428</td>\n",
       "    </tr>\n",
       "    <tr>\n",
       "      <th>Puzzles</th>\n",
       "      <td>676850</td>\n",
       "      <td>738423</td>\n",
       "      <td>61573</td>\n",
       "    </tr>\n",
       "    <tr>\n",
       "      <th>Wooden</th>\n",
       "      <td>1022994</td>\n",
       "      <td>1072869</td>\n",
       "      <td>49875</td>\n",
       "    </tr>\n",
       "  </tbody>\n",
       "</table>\n",
       "</div>"
      ],
      "text/plain": [
       "         Expenditure  Revenue  Profit\n",
       "Product                              \n",
       "Board        1442078  1604675  162597\n",
       "Legos        1371631  1531119  159488\n",
       "Outdoor      1219133  1324561  105428\n",
       "Puzzles       676850   738423   61573\n",
       "Wooden       1022994  1072869   49875"
      ]
     },
     "execution_count": 68,
     "metadata": {},
     "output_type": "execute_result"
    }
   ],
   "source": [
    "df_pvt"
   ]
  },
  {
   "cell_type": "code",
   "execution_count": 70,
   "id": "c3098e40-df56-462c-9343-68157f03e584",
   "metadata": {},
   "outputs": [],
   "source": [
    "sns.set()"
   ]
  },
  {
   "cell_type": "code",
   "execution_count": 87,
   "id": "22a02e64-5d76-4172-9282-a20502cf1ca6",
   "metadata": {},
   "outputs": [
    {
     "data": {
      "image/png": "[encoded data removed]",
      "text/plain": [
       "<Figure size 432x288 with 1 Axes>"
      ]
     },
     "metadata": {},
     "output_type": "display_data"
    }
   ],
   "source": [
    "(\n",
    "    sns.barplot(data=( df_pvt\n",
    "                       .reset_index()\n",
    "                       .sort_values('Revenue', \n",
    "                                    ascending=False,\n",
    "                                   ) \n",
    "                     ),\n",
    "            x = 'Product',\n",
    "            #y = 'Revenue',\n",
    "            y = 'Expenditure',\n",
    "           )\n",
    ");"
   ]
  },
  {
   "cell_type": "markdown",
   "id": "fb68caf0-dec7-413b-9fe4-f00f454df156",
   "metadata": {},
   "source": [
    "## Pie chart"
   ]
  },
  {
   "cell_type": "code",
   "execution_count": 82,
   "id": "8904821c-acd2-4840-b06d-82dda19372d5",
   "metadata": {},
   "outputs": [
    {
     "data": {
      "image/png": "[encoded data removed]",
      "text/plain": [
       "<Figure size 432x288 with 1 Axes>"
      ]
     },
     "metadata": {},
     "output_type": "display_data"
    }
   ],
   "source": [
    "df_pvt.Revenue.plot.pie();"
   ]
  },
  {
   "cell_type": "markdown",
   "id": "39af8af4-a001-412d-81af-affc7661a3cb",
   "metadata": {},
   "source": [
    "## Sort DataFrame based on column values"
   ]
  },
  {
   "cell_type": "code",
   "execution_count": null,
   "id": "0fe707f2-7c29-4470-b3fb-a74dfb21e77a",
   "metadata": {},
   "outputs": [],
   "source": []
  },
  {
   "cell_type": "code",
   "execution_count": 73,
   "id": "c0d76de6-43c4-4326-b9ae-d0036f80f0cd",
   "metadata": {},
   "outputs": [
    {
     "data": {
      "text/html": [
       "<div>\n",
       "<style scoped>\n",
       "    .dataframe tbody tr th:only-of-type {\n",
       "        vertical-align: middle;\n",
       "    }\n",
       "\n",
       "    .dataframe tbody tr th {\n",
       "        vertical-align: top;\n",
       "    }\n",
       "\n",
       "    .dataframe thead th {\n",
       "        text-align: right;\n",
       "    }\n",
       "</style>\n",
       "<table border=\"1\" class=\"dataframe\">\n",
       "  <thead>\n",
       "    <tr style=\"text-align: right;\">\n",
       "      <th></th>\n",
       "      <th>Expenditure</th>\n",
       "      <th>Revenue</th>\n",
       "      <th>Profit</th>\n",
       "    </tr>\n",
       "    <tr>\n",
       "      <th>Product</th>\n",
       "      <th></th>\n",
       "      <th></th>\n",
       "      <th></th>\n",
       "    </tr>\n",
       "  </thead>\n",
       "  <tbody>\n",
       "    <tr>\n",
       "      <th>Puzzles</th>\n",
       "      <td>676850</td>\n",
       "      <td>738423</td>\n",
       "      <td>61573</td>\n",
       "    </tr>\n",
       "    <tr>\n",
       "      <th>Wooden</th>\n",
       "      <td>1022994</td>\n",
       "      <td>1072869</td>\n",
       "      <td>49875</td>\n",
       "    </tr>\n",
       "    <tr>\n",
       "      <th>Outdoor</th>\n",
       "      <td>1219133</td>\n",
       "      <td>1324561</td>\n",
       "      <td>105428</td>\n",
       "    </tr>\n",
       "    <tr>\n",
       "      <th>Legos</th>\n",
       "      <td>1371631</td>\n",
       "      <td>1531119</td>\n",
       "      <td>159488</td>\n",
       "    </tr>\n",
       "    <tr>\n",
       "      <th>Board</th>\n",
       "      <td>1442078</td>\n",
       "      <td>1604675</td>\n",
       "      <td>162597</td>\n",
       "    </tr>\n",
       "  </tbody>\n",
       "</table>\n",
       "</div>"
      ],
      "text/plain": [
       "         Expenditure  Revenue  Profit\n",
       "Product                              \n",
       "Puzzles       676850   738423   61573\n",
       "Wooden       1022994  1072869   49875\n",
       "Outdoor      1219133  1324561  105428\n",
       "Legos        1371631  1531119  159488\n",
       "Board        1442078  1604675  162597"
      ]
     },
     "execution_count": 73,
     "metadata": {},
     "output_type": "execute_result"
    }
   ],
   "source": [
    "df_pvt.sort_values('Revenue')"
   ]
  },
  {
   "cell_type": "markdown",
   "id": "81c42ed7-ef28-4c6f-80b8-40b0119afe16",
   "metadata": {},
   "source": [
    "## Save the plot for Annual profit in a file\n",
    "\n",
    "- Add a title to the image"
   ]
  },
  {
   "cell_type": "code",
   "execution_count": 90,
   "id": "7695eb17-3701-4bcb-a22b-706efb5e61dd",
   "metadata": {},
   "outputs": [],
   "source": [
    "import matplotlib.pyplot as plt"
   ]
  },
  {
   "cell_type": "code",
   "execution_count": 97,
   "id": "c35cd25b-397a-4c98-b40b-4baae1259eb0",
   "metadata": {},
   "outputs": [
    {
     "data": {
      "image/png": "[encoded data removed]",
      "text/plain": [
       "<Figure size 432x288 with 1 Axes>"
      ]
     },
     "metadata": {},
     "output_type": "display_data"
    }
   ],
   "source": [
    "ax = sns.barplot(data = df_pvt.reset_index(),\n",
    "             y = 'Profit',\n",
    "             x = 'Product',\n",
    "            )\n",
    "plt.title('Annual Profit for each Product');\n",
    "plt.tight_layout()\n",
    "plt.savefig('annual_profit.jpg')"
   ]
  },
  {
   "cell_type": "code",
   "execution_count": 95,
   "id": "52058b31-e91b-4744-a59a-73f0825d0cef",
   "metadata": {},
   "outputs": [
    {
     "data": {
      "text/plain": [
       "<AxesSubplot:title={'center':'Annual Profit for each Product'}, xlabel='Product', ylabel='Profit'>"
      ]
     },
     "execution_count": 95,
     "metadata": {},
     "output_type": "execute_result"
    }
   ],
   "source": [
    "ax"
   ]
  },
  {
   "cell_type": "code",
   "execution_count": 98,
   "id": "abf77379-7cce-4bf0-a1c4-9670132fe2cc",
   "metadata": {},
   "outputs": [
    {
     "data": {
      "text/plain": [
       "Product\n",
       "Board      162597\n",
       "Legos      159488\n",
       "Outdoor    105428\n",
       "Puzzles     61573\n",
       "Wooden      49875\n",
       "dtype: int64"
      ]
     },
     "execution_count": 98,
     "metadata": {},
     "output_type": "execute_result"
    }
   ],
   "source": [
    "df_pvt.Revenue - df_pvt.Expenditure"
   ]
  },
  {
   "cell_type": "code",
   "execution_count": 99,
   "id": "62570f01-b27c-485a-b981-0a9d9b4a30c6",
   "metadata": {},
   "outputs": [],
   "source": [
    "df_pvt['Test'] = df_pvt.Revenue - df_pvt.Expenditure"
   ]
  },
  {
   "cell_type": "code",
   "execution_count": 105,
   "id": "b321bc67-4466-43be-962d-583b842ef558",
   "metadata": {},
   "outputs": [
    {
     "data": {
      "text/html": [
       "<div>\n",
       "<style scoped>\n",
       "    .dataframe tbody tr th:only-of-type {\n",
       "        vertical-align: middle;\n",
       "    }\n",
       "\n",
       "    .dataframe tbody tr th {\n",
       "        vertical-align: top;\n",
       "    }\n",
       "\n",
       "    .dataframe thead th {\n",
       "        text-align: right;\n",
       "    }\n",
       "</style>\n",
       "<table border=\"1\" class=\"dataframe\">\n",
       "  <thead>\n",
       "    <tr style=\"text-align: right;\">\n",
       "      <th></th>\n",
       "      <th>Expenditure</th>\n",
       "      <th>Revenue</th>\n",
       "      <th>Profit</th>\n",
       "      <th>Test</th>\n",
       "    </tr>\n",
       "    <tr>\n",
       "      <th>Product</th>\n",
       "      <th></th>\n",
       "      <th></th>\n",
       "      <th></th>\n",
       "      <th></th>\n",
       "    </tr>\n",
       "  </thead>\n",
       "  <tbody>\n",
       "    <tr>\n",
       "      <th>Board</th>\n",
       "      <td>1442078</td>\n",
       "      <td>1604675</td>\n",
       "      <td>162597</td>\n",
       "      <td>162597</td>\n",
       "    </tr>\n",
       "    <tr>\n",
       "      <th>Legos</th>\n",
       "      <td>1371631</td>\n",
       "      <td>1531119</td>\n",
       "      <td>159488</td>\n",
       "      <td>159488</td>\n",
       "    </tr>\n",
       "    <tr>\n",
       "      <th>Outdoor</th>\n",
       "      <td>1219133</td>\n",
       "      <td>1324561</td>\n",
       "      <td>105428</td>\n",
       "      <td>105428</td>\n",
       "    </tr>\n",
       "    <tr>\n",
       "      <th>Wooden</th>\n",
       "      <td>1022994</td>\n",
       "      <td>1072869</td>\n",
       "      <td>49875</td>\n",
       "      <td>49875</td>\n",
       "    </tr>\n",
       "  </tbody>\n",
       "</table>\n",
       "</div>"
      ],
      "text/plain": [
       "         Expenditure  Revenue  Profit    Test\n",
       "Product                                      \n",
       "Board        1442078  1604675  162597  162597\n",
       "Legos        1371631  1531119  159488  159488\n",
       "Outdoor      1219133  1324561  105428  105428\n",
       "Wooden       1022994  1072869   49875   49875"
      ]
     },
     "execution_count": 105,
     "metadata": {},
     "output_type": "execute_result"
    }
   ],
   "source": [
    "dft = df_pvt[df_pvt.Revenue > 999999]\n",
    "dft"
   ]
  },
  {
   "cell_type": "code",
   "execution_count": 107,
   "id": "2815aae3-a0bd-4098-8ced-b2fc56d674d0",
   "metadata": {},
   "outputs": [
    {
     "name": "stderr",
     "output_type": "stream",
     "text": [
      "/var/folders/b3/njv4_yv125j44rpbkvlkn_880000gn/T/ipykernel_74711/1005759770.py:1: SettingWithCopyWarning: \n",
      "A value is trying to be set on a copy of a slice from a DataFrame.\n",
      "Try using .loc[row_indexer,col_indexer] = value instead\n",
      "\n",
      "See the caveats in the documentation: https://pandas.pydata.org/pandas-docs/stable/user_guide/indexing.html#returning-a-view-versus-a-copy\n",
      "  dft['New'] = dft.Expenditure - dft.Revenue\n"
     ]
    }
   ],
   "source": [
    "dft['New'] = dft.Expenditure - dft.Revenue"
   ]
  },
  {
   "cell_type": "code",
   "execution_count": 110,
   "id": "60cb159b-312c-47d9-8139-61f8fe083fd0",
   "metadata": {},
   "outputs": [
    {
     "data": {
      "text/html": [
       "<div>\n",
       "<style scoped>\n",
       "    .dataframe tbody tr th:only-of-type {\n",
       "        vertical-align: middle;\n",
       "    }\n",
       "\n",
       "    .dataframe tbody tr th {\n",
       "        vertical-align: top;\n",
       "    }\n",
       "\n",
       "    .dataframe thead th {\n",
       "        text-align: right;\n",
       "    }\n",
       "</style>\n",
       "<table border=\"1\" class=\"dataframe\">\n",
       "  <thead>\n",
       "    <tr style=\"text-align: right;\">\n",
       "      <th></th>\n",
       "      <th>Expenditure</th>\n",
       "      <th>Revenue</th>\n",
       "      <th>Profit</th>\n",
       "      <th>Test</th>\n",
       "      <th>New</th>\n",
       "    </tr>\n",
       "    <tr>\n",
       "      <th>Product</th>\n",
       "      <th></th>\n",
       "      <th></th>\n",
       "      <th></th>\n",
       "      <th></th>\n",
       "      <th></th>\n",
       "    </tr>\n",
       "  </thead>\n",
       "  <tbody>\n",
       "    <tr>\n",
       "      <th>Board</th>\n",
       "      <td>1442078</td>\n",
       "      <td>1604675</td>\n",
       "      <td>162597</td>\n",
       "      <td>162597</td>\n",
       "      <td>-162597</td>\n",
       "    </tr>\n",
       "    <tr>\n",
       "      <th>Legos</th>\n",
       "      <td>1371631</td>\n",
       "      <td>1531119</td>\n",
       "      <td>159488</td>\n",
       "      <td>159488</td>\n",
       "      <td>-159488</td>\n",
       "    </tr>\n",
       "    <tr>\n",
       "      <th>Outdoor</th>\n",
       "      <td>1219133</td>\n",
       "      <td>1324561</td>\n",
       "      <td>105428</td>\n",
       "      <td>105428</td>\n",
       "      <td>-105428</td>\n",
       "    </tr>\n",
       "    <tr>\n",
       "      <th>Wooden</th>\n",
       "      <td>1022994</td>\n",
       "      <td>1072869</td>\n",
       "      <td>49875</td>\n",
       "      <td>49875</td>\n",
       "      <td>-49875</td>\n",
       "    </tr>\n",
       "  </tbody>\n",
       "</table>\n",
       "</div>"
      ],
      "text/plain": [
       "         Expenditure  Revenue  Profit    Test     New\n",
       "Product                                              \n",
       "Board        1442078  1604675  162597  162597 -162597\n",
       "Legos        1371631  1531119  159488  159488 -159488\n",
       "Outdoor      1219133  1324561  105428  105428 -105428\n",
       "Wooden       1022994  1072869   49875   49875  -49875"
      ]
     },
     "execution_count": 110,
     "metadata": {},
     "output_type": "execute_result"
    }
   ],
   "source": [
    "dft"
   ]
  },
  {
   "cell_type": "markdown",
   "id": "e75c200f-6d88-4e18-a8db-1291502931ca",
   "metadata": {},
   "source": [
    "## How to delete a column"
   ]
  },
  {
   "cell_type": "code",
   "execution_count": 112,
   "id": "2ee12c12-6762-4a8e-b8a1-c7ce07f1f65f",
   "metadata": {},
   "outputs": [
    {
     "data": {
      "text/html": [
       "<div>\n",
       "<style scoped>\n",
       "    .dataframe tbody tr th:only-of-type {\n",
       "        vertical-align: middle;\n",
       "    }\n",
       "\n",
       "    .dataframe tbody tr th {\n",
       "        vertical-align: top;\n",
       "    }\n",
       "\n",
       "    .dataframe thead th {\n",
       "        text-align: right;\n",
       "    }\n",
       "</style>\n",
       "<table border=\"1\" class=\"dataframe\">\n",
       "  <thead>\n",
       "    <tr style=\"text-align: right;\">\n",
       "      <th></th>\n",
       "      <th>Expenditure</th>\n",
       "      <th>Revenue</th>\n",
       "      <th>Profit</th>\n",
       "      <th>Test</th>\n",
       "    </tr>\n",
       "    <tr>\n",
       "      <th>Product</th>\n",
       "      <th></th>\n",
       "      <th></th>\n",
       "      <th></th>\n",
       "      <th></th>\n",
       "    </tr>\n",
       "  </thead>\n",
       "  <tbody>\n",
       "    <tr>\n",
       "      <th>Board</th>\n",
       "      <td>1442078</td>\n",
       "      <td>1604675</td>\n",
       "      <td>162597</td>\n",
       "      <td>162597</td>\n",
       "    </tr>\n",
       "    <tr>\n",
       "      <th>Legos</th>\n",
       "      <td>1371631</td>\n",
       "      <td>1531119</td>\n",
       "      <td>159488</td>\n",
       "      <td>159488</td>\n",
       "    </tr>\n",
       "    <tr>\n",
       "      <th>Outdoor</th>\n",
       "      <td>1219133</td>\n",
       "      <td>1324561</td>\n",
       "      <td>105428</td>\n",
       "      <td>105428</td>\n",
       "    </tr>\n",
       "    <tr>\n",
       "      <th>Puzzles</th>\n",
       "      <td>676850</td>\n",
       "      <td>738423</td>\n",
       "      <td>61573</td>\n",
       "      <td>61573</td>\n",
       "    </tr>\n",
       "    <tr>\n",
       "      <th>Wooden</th>\n",
       "      <td>1022994</td>\n",
       "      <td>1072869</td>\n",
       "      <td>49875</td>\n",
       "      <td>49875</td>\n",
       "    </tr>\n",
       "  </tbody>\n",
       "</table>\n",
       "</div>"
      ],
      "text/plain": [
       "         Expenditure  Revenue  Profit    Test\n",
       "Product                                      \n",
       "Board        1442078  1604675  162597  162597\n",
       "Legos        1371631  1531119  159488  159488\n",
       "Outdoor      1219133  1324561  105428  105428\n",
       "Puzzles       676850   738423   61573   61573\n",
       "Wooden       1022994  1072869   49875   49875"
      ]
     },
     "execution_count": 112,
     "metadata": {},
     "output_type": "execute_result"
    }
   ],
   "source": [
    "df_pvt"
   ]
  },
  {
   "cell_type": "code",
   "execution_count": 119,
   "id": "8050c4cb-8e1a-4368-8215-d4a3ac427930",
   "metadata": {},
   "outputs": [],
   "source": [
    "# df_pvt.drop('Test', axis=1) # Not easy to decipher\n",
    "df_pvt.drop(columns=['Test'], inplace=True) # More readable"
   ]
  },
  {
   "cell_type": "code",
   "execution_count": 120,
   "id": "cd902858-a6cc-412e-82fb-32f81b2a64a5",
   "metadata": {},
   "outputs": [
    {
     "data": {
      "text/html": [
       "<div>\n",
       "<style scoped>\n",
       "    .dataframe tbody tr th:only-of-type {\n",
       "        vertical-align: middle;\n",
       "    }\n",
       "\n",
       "    .dataframe tbody tr th {\n",
       "        vertical-align: top;\n",
       "    }\n",
       "\n",
       "    .dataframe thead th {\n",
       "        text-align: right;\n",
       "    }\n",
       "</style>\n",
       "<table border=\"1\" class=\"dataframe\">\n",
       "  <thead>\n",
       "    <tr style=\"text-align: right;\">\n",
       "      <th></th>\n",
       "      <th>Expenditure</th>\n",
       "      <th>Revenue</th>\n",
       "      <th>Profit</th>\n",
       "    </tr>\n",
       "    <tr>\n",
       "      <th>Product</th>\n",
       "      <th></th>\n",
       "      <th></th>\n",
       "      <th></th>\n",
       "    </tr>\n",
       "  </thead>\n",
       "  <tbody>\n",
       "    <tr>\n",
       "      <th>Board</th>\n",
       "      <td>1442078</td>\n",
       "      <td>1604675</td>\n",
       "      <td>162597</td>\n",
       "    </tr>\n",
       "    <tr>\n",
       "      <th>Legos</th>\n",
       "      <td>1371631</td>\n",
       "      <td>1531119</td>\n",
       "      <td>159488</td>\n",
       "    </tr>\n",
       "    <tr>\n",
       "      <th>Outdoor</th>\n",
       "      <td>1219133</td>\n",
       "      <td>1324561</td>\n",
       "      <td>105428</td>\n",
       "    </tr>\n",
       "    <tr>\n",
       "      <th>Puzzles</th>\n",
       "      <td>676850</td>\n",
       "      <td>738423</td>\n",
       "      <td>61573</td>\n",
       "    </tr>\n",
       "    <tr>\n",
       "      <th>Wooden</th>\n",
       "      <td>1022994</td>\n",
       "      <td>1072869</td>\n",
       "      <td>49875</td>\n",
       "    </tr>\n",
       "  </tbody>\n",
       "</table>\n",
       "</div>"
      ],
      "text/plain": [
       "         Expenditure  Revenue  Profit\n",
       "Product                              \n",
       "Board        1442078  1604675  162597\n",
       "Legos        1371631  1531119  159488\n",
       "Outdoor      1219133  1324561  105428\n",
       "Puzzles       676850   738423   61573\n",
       "Wooden       1022994  1072869   49875"
      ]
     },
     "execution_count": 120,
     "metadata": {},
     "output_type": "execute_result"
    }
   ],
   "source": [
    "df_pvt"
   ]
  },
  {
   "cell_type": "markdown",
   "id": "68eef4bc-a632-4b16-8b98-aa20c432f593",
   "metadata": {},
   "source": [
    "## Save the Annual Revenue Report in excel file\n",
    "\n",
    "- The columns should be in the following order\n",
    "    - Profit\n",
    "    - Revenue\n",
    "    - Expenditure\n",
    "- Also include the image in it"
   ]
  },
  {
   "cell_type": "code",
   "execution_count": 121,
   "id": "5d26b301-06f1-4cfc-a7a8-5655881e7a16",
   "metadata": {},
   "outputs": [
    {
     "data": {
      "text/html": [
       "<div>\n",
       "<style scoped>\n",
       "    .dataframe tbody tr th:only-of-type {\n",
       "        vertical-align: middle;\n",
       "    }\n",
       "\n",
       "    .dataframe tbody tr th {\n",
       "        vertical-align: top;\n",
       "    }\n",
       "\n",
       "    .dataframe thead th {\n",
       "        text-align: right;\n",
       "    }\n",
       "</style>\n",
       "<table border=\"1\" class=\"dataframe\">\n",
       "  <thead>\n",
       "    <tr style=\"text-align: right;\">\n",
       "      <th></th>\n",
       "      <th>Expenditure</th>\n",
       "      <th>Revenue</th>\n",
       "      <th>Profit</th>\n",
       "    </tr>\n",
       "    <tr>\n",
       "      <th>Product</th>\n",
       "      <th></th>\n",
       "      <th></th>\n",
       "      <th></th>\n",
       "    </tr>\n",
       "  </thead>\n",
       "  <tbody>\n",
       "    <tr>\n",
       "      <th>Board</th>\n",
       "      <td>1442078</td>\n",
       "      <td>1604675</td>\n",
       "      <td>162597</td>\n",
       "    </tr>\n",
       "    <tr>\n",
       "      <th>Legos</th>\n",
       "      <td>1371631</td>\n",
       "      <td>1531119</td>\n",
       "      <td>159488</td>\n",
       "    </tr>\n",
       "    <tr>\n",
       "      <th>Outdoor</th>\n",
       "      <td>1219133</td>\n",
       "      <td>1324561</td>\n",
       "      <td>105428</td>\n",
       "    </tr>\n",
       "    <tr>\n",
       "      <th>Puzzles</th>\n",
       "      <td>676850</td>\n",
       "      <td>738423</td>\n",
       "      <td>61573</td>\n",
       "    </tr>\n",
       "    <tr>\n",
       "      <th>Wooden</th>\n",
       "      <td>1022994</td>\n",
       "      <td>1072869</td>\n",
       "      <td>49875</td>\n",
       "    </tr>\n",
       "  </tbody>\n",
       "</table>\n",
       "</div>"
      ],
      "text/plain": [
       "         Expenditure  Revenue  Profit\n",
       "Product                              \n",
       "Board        1442078  1604675  162597\n",
       "Legos        1371631  1531119  159488\n",
       "Outdoor      1219133  1324561  105428\n",
       "Puzzles       676850   738423   61573\n",
       "Wooden       1022994  1072869   49875"
      ]
     },
     "execution_count": 121,
     "metadata": {},
     "output_type": "execute_result"
    }
   ],
   "source": [
    "df_pvt"
   ]
  },
  {
   "cell_type": "code",
   "execution_count": 123,
   "id": "ec55d040-d839-4a38-be82-19b08a4b3390",
   "metadata": {},
   "outputs": [
    {
     "data": {
      "text/plain": [
       "Index(['Expenditure', 'Revenue', 'Profit'], dtype='object')"
      ]
     },
     "execution_count": 123,
     "metadata": {},
     "output_type": "execute_result"
    }
   ],
   "source": [
    "cols = df_pvt.columns\n",
    "cols"
   ]
  },
  {
   "cell_type": "code",
   "execution_count": 125,
   "id": "73932c15-a7a6-46d1-8b42-d57c18bde325",
   "metadata": {},
   "outputs": [
    {
     "data": {
      "text/plain": [
       "Index(['Profit', 'Revenue', 'Expenditure'], dtype='object')"
      ]
     },
     "execution_count": 125,
     "metadata": {},
     "output_type": "execute_result"
    }
   ],
   "source": [
    "cols[::-1] # Reverse the order"
   ]
  },
  {
   "cell_type": "code",
   "execution_count": 126,
   "id": "eb27fa08-f163-4a7e-a0c7-c3f2ef18c013",
   "metadata": {},
   "outputs": [
    {
     "data": {
      "text/plain": [
       "Index(['Profit', 'Revenue', 'Expenditure'], dtype='object')"
      ]
     },
     "execution_count": 126,
     "metadata": {},
     "output_type": "execute_result"
    }
   ],
   "source": [
    "df_pvt.columns[::-1]"
   ]
  },
  {
   "cell_type": "code",
   "execution_count": 127,
   "id": "b78bb8e8-c68d-4785-ba18-0f17a7aab9e9",
   "metadata": {},
   "outputs": [
    {
     "data": {
      "text/html": [
       "<div>\n",
       "<style scoped>\n",
       "    .dataframe tbody tr th:only-of-type {\n",
       "        vertical-align: middle;\n",
       "    }\n",
       "\n",
       "    .dataframe tbody tr th {\n",
       "        vertical-align: top;\n",
       "    }\n",
       "\n",
       "    .dataframe thead th {\n",
       "        text-align: right;\n",
       "    }\n",
       "</style>\n",
       "<table border=\"1\" class=\"dataframe\">\n",
       "  <thead>\n",
       "    <tr style=\"text-align: right;\">\n",
       "      <th></th>\n",
       "      <th>Profit</th>\n",
       "      <th>Revenue</th>\n",
       "      <th>Expenditure</th>\n",
       "    </tr>\n",
       "    <tr>\n",
       "      <th>Product</th>\n",
       "      <th></th>\n",
       "      <th></th>\n",
       "      <th></th>\n",
       "    </tr>\n",
       "  </thead>\n",
       "  <tbody>\n",
       "    <tr>\n",
       "      <th>Board</th>\n",
       "      <td>162597</td>\n",
       "      <td>1604675</td>\n",
       "      <td>1442078</td>\n",
       "    </tr>\n",
       "    <tr>\n",
       "      <th>Legos</th>\n",
       "      <td>159488</td>\n",
       "      <td>1531119</td>\n",
       "      <td>1371631</td>\n",
       "    </tr>\n",
       "    <tr>\n",
       "      <th>Outdoor</th>\n",
       "      <td>105428</td>\n",
       "      <td>1324561</td>\n",
       "      <td>1219133</td>\n",
       "    </tr>\n",
       "    <tr>\n",
       "      <th>Puzzles</th>\n",
       "      <td>61573</td>\n",
       "      <td>738423</td>\n",
       "      <td>676850</td>\n",
       "    </tr>\n",
       "    <tr>\n",
       "      <th>Wooden</th>\n",
       "      <td>49875</td>\n",
       "      <td>1072869</td>\n",
       "      <td>1022994</td>\n",
       "    </tr>\n",
       "  </tbody>\n",
       "</table>\n",
       "</div>"
      ],
      "text/plain": [
       "         Profit  Revenue  Expenditure\n",
       "Product                              \n",
       "Board    162597  1604675      1442078\n",
       "Legos    159488  1531119      1371631\n",
       "Outdoor  105428  1324561      1219133\n",
       "Puzzles   61573   738423       676850\n",
       "Wooden    49875  1072869      1022994"
      ]
     },
     "execution_count": 127,
     "metadata": {},
     "output_type": "execute_result"
    }
   ],
   "source": [
    "df_pvt[df_pvt.columns[::-1]]"
   ]
  },
  {
   "cell_type": "markdown",
   "id": "8b071343-5134-4135-9e63-93747c307d92",
   "metadata": {},
   "source": [
    "## Save the Annual Revenue Report in excel file\n",
    "\n",
    "- The columns should be in the following order\n",
    "    - Revenue\n",
    "    - Expenditure\n",
    "    - Profit\n",
    "- Also include the image in it\n",
    "\n",
    "\n",
    "\n"
   ]
  },
  {
   "cell_type": "code",
   "execution_count": 130,
   "id": "003ba65e-d877-4bbe-8301-46e71694172b",
   "metadata": {},
   "outputs": [
    {
     "data": {
      "text/html": [
       "<div>\n",
       "<style scoped>\n",
       "    .dataframe tbody tr th:only-of-type {\n",
       "        vertical-align: middle;\n",
       "    }\n",
       "\n",
       "    .dataframe tbody tr th {\n",
       "        vertical-align: top;\n",
       "    }\n",
       "\n",
       "    .dataframe thead th {\n",
       "        text-align: right;\n",
       "    }\n",
       "</style>\n",
       "<table border=\"1\" class=\"dataframe\">\n",
       "  <thead>\n",
       "    <tr style=\"text-align: right;\">\n",
       "      <th></th>\n",
       "      <th>Expenditure</th>\n",
       "      <th>Revenue</th>\n",
       "      <th>Profit</th>\n",
       "    </tr>\n",
       "    <tr>\n",
       "      <th>Product</th>\n",
       "      <th></th>\n",
       "      <th></th>\n",
       "      <th></th>\n",
       "    </tr>\n",
       "  </thead>\n",
       "  <tbody>\n",
       "    <tr>\n",
       "      <th>Board</th>\n",
       "      <td>1442078</td>\n",
       "      <td>1604675</td>\n",
       "      <td>162597</td>\n",
       "    </tr>\n",
       "    <tr>\n",
       "      <th>Legos</th>\n",
       "      <td>1371631</td>\n",
       "      <td>1531119</td>\n",
       "      <td>159488</td>\n",
       "    </tr>\n",
       "    <tr>\n",
       "      <th>Outdoor</th>\n",
       "      <td>1219133</td>\n",
       "      <td>1324561</td>\n",
       "      <td>105428</td>\n",
       "    </tr>\n",
       "    <tr>\n",
       "      <th>Puzzles</th>\n",
       "      <td>676850</td>\n",
       "      <td>738423</td>\n",
       "      <td>61573</td>\n",
       "    </tr>\n",
       "    <tr>\n",
       "      <th>Wooden</th>\n",
       "      <td>1022994</td>\n",
       "      <td>1072869</td>\n",
       "      <td>49875</td>\n",
       "    </tr>\n",
       "  </tbody>\n",
       "</table>\n",
       "</div>"
      ],
      "text/plain": [
       "         Expenditure  Revenue  Profit\n",
       "Product                              \n",
       "Board        1442078  1604675  162597\n",
       "Legos        1371631  1531119  159488\n",
       "Outdoor      1219133  1324561  105428\n",
       "Puzzles       676850   738423   61573\n",
       "Wooden       1022994  1072869   49875"
      ]
     },
     "execution_count": 130,
     "metadata": {},
     "output_type": "execute_result"
    }
   ],
   "source": [
    "df_pvt"
   ]
  },
  {
   "cell_type": "code",
   "execution_count": 131,
   "id": "4ff238ef-f0b0-4562-afb7-ca19bc1a3c2a",
   "metadata": {},
   "outputs": [],
   "source": [
    "cols = df_pvt.columns.to_list()"
   ]
  },
  {
   "cell_type": "code",
   "execution_count": 132,
   "id": "7ef312c6-64f1-4536-8967-ae44f401907e",
   "metadata": {},
   "outputs": [
    {
     "data": {
      "text/plain": [
       "['Expenditure', 'Revenue', 'Profit']"
      ]
     },
     "execution_count": 132,
     "metadata": {},
     "output_type": "execute_result"
    }
   ],
   "source": [
    "cols"
   ]
  },
  {
   "cell_type": "code",
   "execution_count": 134,
   "id": "e481d808-e0cd-4b01-a91a-7da437565c98",
   "metadata": {},
   "outputs": [
    {
     "data": {
      "text/plain": [
       "['Revenue', 'Expenditure', 'Profit']"
      ]
     },
     "execution_count": 134,
     "metadata": {},
     "output_type": "execute_result"
    }
   ],
   "source": [
    "# Prefer to do this, instead of writing the names of columns\n",
    "new_cols = [ cols[1], cols[0], cols[-1] ]\n",
    "new_cols"
   ]
  },
  {
   "cell_type": "code",
   "execution_count": 137,
   "id": "c9559cdf-efd1-4254-b435-d3efac428a05",
   "metadata": {},
   "outputs": [
    {
     "data": {
      "text/plain": [
       "Product\n",
       "Board      1604675\n",
       "Legos      1531119\n",
       "Outdoor    1324561\n",
       "Puzzles     738423\n",
       "Wooden     1072869\n",
       "Name: Revenue, dtype: int64"
      ]
     },
     "execution_count": 137,
     "metadata": {},
     "output_type": "execute_result"
    }
   ],
   "source": [
    "df_pvt['Revenue']"
   ]
  },
  {
   "cell_type": "code",
   "execution_count": 138,
   "id": "93a52d9f-845c-4e54-b64a-88610805b4e2",
   "metadata": {},
   "outputs": [
    {
     "data": {
      "text/plain": [
       "Index(['Expenditure', 'Revenue', 'Profit'], dtype='object')"
      ]
     },
     "execution_count": 138,
     "metadata": {},
     "output_type": "execute_result"
    }
   ],
   "source": [
    "df_pvt.columns"
   ]
  },
  {
   "cell_type": "code",
   "execution_count": 139,
   "id": "184ecef5-2e29-4272-9e76-b2b332f3e582",
   "metadata": {},
   "outputs": [
    {
     "data": {
      "text/plain": [
       "Index(['Revenue', 'Expenditure', 'Profit'], dtype='object')"
      ]
     },
     "execution_count": 139,
     "metadata": {},
     "output_type": "execute_result"
    }
   ],
   "source": [
    "df_pvt.columns[ [1, 0, -1] ]"
   ]
  },
  {
   "cell_type": "code",
   "execution_count": 140,
   "id": "5931edc2-cbc4-4a60-9b15-c7f4e0a41ebb",
   "metadata": {},
   "outputs": [
    {
     "data": {
      "text/html": [
       "<div>\n",
       "<style scoped>\n",
       "    .dataframe tbody tr th:only-of-type {\n",
       "        vertical-align: middle;\n",
       "    }\n",
       "\n",
       "    .dataframe tbody tr th {\n",
       "        vertical-align: top;\n",
       "    }\n",
       "\n",
       "    .dataframe thead th {\n",
       "        text-align: right;\n",
       "    }\n",
       "</style>\n",
       "<table border=\"1\" class=\"dataframe\">\n",
       "  <thead>\n",
       "    <tr style=\"text-align: right;\">\n",
       "      <th></th>\n",
       "      <th>Revenue</th>\n",
       "      <th>Expenditure</th>\n",
       "      <th>Profit</th>\n",
       "    </tr>\n",
       "    <tr>\n",
       "      <th>Product</th>\n",
       "      <th></th>\n",
       "      <th></th>\n",
       "      <th></th>\n",
       "    </tr>\n",
       "  </thead>\n",
       "  <tbody>\n",
       "    <tr>\n",
       "      <th>Board</th>\n",
       "      <td>1604675</td>\n",
       "      <td>1442078</td>\n",
       "      <td>162597</td>\n",
       "    </tr>\n",
       "    <tr>\n",
       "      <th>Legos</th>\n",
       "      <td>1531119</td>\n",
       "      <td>1371631</td>\n",
       "      <td>159488</td>\n",
       "    </tr>\n",
       "    <tr>\n",
       "      <th>Outdoor</th>\n",
       "      <td>1324561</td>\n",
       "      <td>1219133</td>\n",
       "      <td>105428</td>\n",
       "    </tr>\n",
       "    <tr>\n",
       "      <th>Puzzles</th>\n",
       "      <td>738423</td>\n",
       "      <td>676850</td>\n",
       "      <td>61573</td>\n",
       "    </tr>\n",
       "    <tr>\n",
       "      <th>Wooden</th>\n",
       "      <td>1072869</td>\n",
       "      <td>1022994</td>\n",
       "      <td>49875</td>\n",
       "    </tr>\n",
       "  </tbody>\n",
       "</table>\n",
       "</div>"
      ],
      "text/plain": [
       "         Revenue  Expenditure  Profit\n",
       "Product                              \n",
       "Board    1604675      1442078  162597\n",
       "Legos    1531119      1371631  159488\n",
       "Outdoor  1324561      1219133  105428\n",
       "Puzzles   738423       676850   61573\n",
       "Wooden   1072869      1022994   49875"
      ]
     },
     "execution_count": 140,
     "metadata": {},
     "output_type": "execute_result"
    }
   ],
   "source": [
    "df_pvt[new_cols]"
   ]
  },
  {
   "cell_type": "code",
   "execution_count": 142,
   "id": "00329831-edcd-4ffa-91ec-aaf5e47d12a5",
   "metadata": {},
   "outputs": [],
   "source": [
    "excel_filename = \"Annual_Report.xlsx\"\n",
    "year = \"2014\"\n"
   ]
  },
  {
   "cell_type": "code",
   "execution_count": 144,
   "id": "1a23ad68-a348-4eee-b984-265392b78f40",
   "metadata": {},
   "outputs": [],
   "source": [
    "# Only for storing DataFrame in an excel file\n",
    "# df_pvt[new_cols].to_excel(excel_filename)"
   ]
  },
  {
   "cell_type": "code",
   "execution_count": 145,
   "id": "92d85278-322a-410a-817b-4c39f7c76d9c",
   "metadata": {},
   "outputs": [],
   "source": [
    "# Storing DataFrame and a plot in excel file\n",
    "\n",
    "from io import BytesIO\n",
    "\n",
    "imgdata = BytesIO()\n",
    "ax.figure.savefig(imgdata)"
   ]
  },
  {
   "cell_type": "code",
   "execution_count": 149,
   "id": "94e5d33f-814d-4981-8664-912e616ad6cb",
   "metadata": {},
   "outputs": [
    {
     "name": "stdout",
     "output_type": "stream",
     "text": [
      "Requirement already satisfied: xlsxwriter in /Users/surf/work/python/py39_env/lib/python3.9/site-packages (3.0.2)\n",
      "\n",
      "\u001b[1m[\u001b[0m\u001b[34;49mnotice\u001b[0m\u001b[1;39;49m]\u001b[0m\u001b[39;49m A new release of pip is available: \u001b[0m\u001b[31;49m23.0.1\u001b[0m\u001b[39;49m -> \u001b[0m\u001b[32;49m23.3.2\u001b[0m\n",
      "\u001b[1m[\u001b[0m\u001b[34;49mnotice\u001b[0m\u001b[1;39;49m]\u001b[0m\u001b[39;49m To update, run: \u001b[0m\u001b[32;49mpip install --upgrade pip\u001b[0m\n"
     ]
    }
   ],
   "source": [
    "! pip install xlsxwriter"
   ]
  },
  {
   "cell_type": "code",
   "execution_count": 150,
   "id": "f0f254fc-4ceb-48ee-bb25-52deece7a664",
   "metadata": {},
   "outputs": [],
   "source": [
    "with pd.ExcelWriter(excel_filename, engine='xlsxwriter') as FH:\n",
    "    df_pvt.to_excel(FH, sheet_name=year)\n",
    "    shobj = FH.sheets[year]\n",
    "    shobj.insert_image('E4', '', {'image_data': imgdata})"
   ]
  },
  {
   "cell_type": "code",
   "execution_count": null,
   "id": "29e63b51-c01b-4289-8964-eb37e74841e6",
   "metadata": {},
   "outputs": [],
   "source": []
  }
 ],
 "metadata": {
  "kernelspec": {
   "display_name": "Python 3 (ipykernel)",
   "language": "python",
   "name": "python3"
  },
  "language_info": {
   "codemirror_mode": {
    "name": "ipython",
    "version": 3
   },
   "file_extension": ".py",
   "mimetype": "text/x-python",
   "name": "python",
   "nbconvert_exporter": "python",
   "pygments_lexer": "ipython3",
   "version": "3.9.8"
  }
 },
 "nbformat": 4,
 "nbformat_minor": 5
}
