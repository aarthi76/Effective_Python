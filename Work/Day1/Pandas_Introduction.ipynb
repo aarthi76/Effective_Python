{
 "cells": [
  {
   "cell_type": "markdown",
   "id": "e848e7f2-27a6-47c8-a5bf-98b637a84483",
   "metadata": {},
   "source": [
    "# Introduction to Pandas\n",
    "\n",
    "- Things that bother me a lot when using Pandas\n",
    "\n",
    "    - When to take a copy of a DataFrame ? ( v/s using inplace ? )\n",
    "    - loc / and iloc ? When to use them?\n",
    "    - To check if a value in a column is present in a list ( a.any() a.all() ... )\n",
    "    - Handling data types of columns\n",
    "        - same column has integer and a string data types .. how to handle that\n",
    "        - How to fetch only integer values from a column ( assuming it has other types )\n",
    "    - How to handle fetching data from large datasets ( 2GB+ )\n",
    "    - Filtering data based on multiple conditions\n",
    "        - np.select ? with choices along with DataFrames\n",
    "    - Groupby .. need more understanding\n",
    "    - Working on a specific row ( Get the 3rd field from 10th row )\n",
    "        - Does a method perform the operation on the column or a row/field?\n",
    "    "
   ]
  },
  {
   "cell_type": "code",
   "execution_count": 1,
   "id": "af076bb3-a37a-418c-b016-ddd57ce3aa33",
   "metadata": {},
   "outputs": [],
   "source": [
    "import pandas as pd"
   ]
  },
  {
   "cell_type": "code",
   "execution_count": 2,
   "id": "f1836fd5-5f87-4068-9233-e4f53d9b9a6a",
   "metadata": {
    "scrolled": true,
    "tags": []
   },
   "outputs": [
    {
     "data": {
      "text/plain": [
       "['BooleanDtype',\n",
       " 'Categorical',\n",
       " 'CategoricalDtype',\n",
       " 'CategoricalIndex',\n",
       " 'DataFrame',\n",
       " 'DateOffset',\n",
       " 'DatetimeIndex',\n",
       " 'DatetimeTZDtype',\n",
       " 'ExcelFile',\n",
       " 'ExcelWriter',\n",
       " 'Flags',\n",
       " 'Float32Dtype',\n",
       " 'Float64Dtype',\n",
       " 'Float64Index',\n",
       " 'Grouper',\n",
       " 'HDFStore',\n",
       " 'Index',\n",
       " 'IndexSlice',\n",
       " 'Int16Dtype',\n",
       " 'Int32Dtype',\n",
       " 'Int64Dtype',\n",
       " 'Int64Index',\n",
       " 'Int8Dtype',\n",
       " 'Interval',\n",
       " 'IntervalDtype',\n",
       " 'IntervalIndex',\n",
       " 'MultiIndex',\n",
       " 'NA',\n",
       " 'NaT',\n",
       " 'NamedAgg',\n",
       " 'Period',\n",
       " 'PeriodDtype',\n",
       " 'PeriodIndex',\n",
       " 'RangeIndex',\n",
       " 'Series',\n",
       " 'SparseDtype',\n",
       " 'StringDtype',\n",
       " 'Timedelta',\n",
       " 'TimedeltaIndex',\n",
       " 'Timestamp',\n",
       " 'UInt16Dtype',\n",
       " 'UInt32Dtype',\n",
       " 'UInt64Dtype',\n",
       " 'UInt64Index',\n",
       " 'UInt8Dtype',\n",
       " '__builtins__',\n",
       " '__cached__',\n",
       " '__doc__',\n",
       " '__docformat__',\n",
       " '__file__',\n",
       " '__getattr__',\n",
       " '__git_version__',\n",
       " '__loader__',\n",
       " '__name__',\n",
       " '__package__',\n",
       " '__path__',\n",
       " '__spec__',\n",
       " '__version__',\n",
       " '_config',\n",
       " '_hashtable',\n",
       " '_is_numpy_dev',\n",
       " '_lib',\n",
       " '_libs',\n",
       " '_np_version_under1p18',\n",
       " '_testing',\n",
       " '_tslib',\n",
       " '_typing',\n",
       " '_version',\n",
       " 'api',\n",
       " 'array',\n",
       " 'arrays',\n",
       " 'bdate_range',\n",
       " 'compat',\n",
       " 'concat',\n",
       " 'core',\n",
       " 'crosstab',\n",
       " 'cut',\n",
       " 'date_range',\n",
       " 'describe_option',\n",
       " 'errors',\n",
       " 'eval',\n",
       " 'factorize',\n",
       " 'get_dummies',\n",
       " 'get_option',\n",
       " 'infer_freq',\n",
       " 'interval_range',\n",
       " 'io',\n",
       " 'isna',\n",
       " 'isnull',\n",
       " 'json_normalize',\n",
       " 'lreshape',\n",
       " 'melt',\n",
       " 'merge',\n",
       " 'merge_asof',\n",
       " 'merge_ordered',\n",
       " 'notna',\n",
       " 'notnull',\n",
       " 'offsets',\n",
       " 'option_context',\n",
       " 'options',\n",
       " 'pandas',\n",
       " 'period_range',\n",
       " 'pivot',\n",
       " 'pivot_table',\n",
       " 'plotting',\n",
       " 'qcut',\n",
       " 'read_clipboard',\n",
       " 'read_csv',\n",
       " 'read_excel',\n",
       " 'read_feather',\n",
       " 'read_fwf',\n",
       " 'read_gbq',\n",
       " 'read_hdf',\n",
       " 'read_html',\n",
       " 'read_json',\n",
       " 'read_orc',\n",
       " 'read_parquet',\n",
       " 'read_pickle',\n",
       " 'read_sas',\n",
       " 'read_spss',\n",
       " 'read_sql',\n",
       " 'read_sql_query',\n",
       " 'read_sql_table',\n",
       " 'read_stata',\n",
       " 'read_table',\n",
       " 'read_xml',\n",
       " 'reset_option',\n",
       " 'set_eng_float_format',\n",
       " 'set_option',\n",
       " 'show_versions',\n",
       " 'test',\n",
       " 'testing',\n",
       " 'timedelta_range',\n",
       " 'to_datetime',\n",
       " 'to_numeric',\n",
       " 'to_pickle',\n",
       " 'to_timedelta',\n",
       " 'tseries',\n",
       " 'unique',\n",
       " 'util',\n",
       " 'value_counts',\n",
       " 'wide_to_long']"
      ]
     },
     "execution_count": 2,
     "metadata": {},
     "output_type": "execute_result"
    }
   ],
   "source": [
    "dir(pd)"
   ]
  },
  {
   "cell_type": "code",
   "execution_count": 3,
   "id": "ff54140d-2162-4e9d-85f7-cca554c3d41c",
   "metadata": {},
   "outputs": [
    {
     "data": {
      "text/plain": [
       "142"
      ]
     },
     "execution_count": 3,
     "metadata": {},
     "output_type": "execute_result"
    }
   ],
   "source": [
    "len(dir(pd))"
   ]
  },
  {
   "cell_type": "code",
   "execution_count": 5,
   "id": "3eea7e92-e3a1-48f1-83d6-fb03134fd83e",
   "metadata": {
    "tags": []
   },
   "outputs": [
    {
     "data": {
      "text/plain": [
       "432"
      ]
     },
     "execution_count": 5,
     "metadata": {},
     "output_type": "execute_result"
    }
   ],
   "source": [
    "len(dir(pd.DataFrame))"
   ]
  },
  {
   "cell_type": "code",
   "execution_count": 7,
   "id": "727d0b69-de5c-46f8-87ba-a8756ec5d781",
   "metadata": {},
   "outputs": [],
   "source": [
    "# pd.read_csv()"
   ]
  },
  {
   "cell_type": "code",
   "execution_count": 8,
   "id": "2beef6aa-1090-4856-b147-2d01832f60f6",
   "metadata": {},
   "outputs": [],
   "source": [
    "caps_url = \"https://raw.githubusercontent.com/asarfraaz/PyPractice/master/data/captains.txt\""
   ]
  },
  {
   "cell_type": "code",
   "execution_count": 10,
   "id": "51623ab1-3fe7-4e60-b75f-378bc3d4d0f9",
   "metadata": {},
   "outputs": [
    {
     "data": {
      "text/html": [
       "<div>\n",
       "<style scoped>\n",
       "    .dataframe tbody tr th:only-of-type {\n",
       "        vertical-align: middle;\n",
       "    }\n",
       "\n",
       "    .dataframe tbody tr th {\n",
       "        vertical-align: top;\n",
       "    }\n",
       "\n",
       "    .dataframe thead th {\n",
       "        text-align: right;\n",
       "    }\n",
       "</style>\n",
       "<table border=\"1\" class=\"dataframe\">\n",
       "  <thead>\n",
       "    <tr style=\"text-align: right;\">\n",
       "      <th></th>\n",
       "      <th>Player</th>\n",
       "      <th>Span</th>\n",
       "      <th>Mat</th>\n",
       "      <th>Won</th>\n",
       "      <th>Lost</th>\n",
       "      <th>Tied</th>\n",
       "      <th>NR</th>\n",
       "      <th>%</th>\n",
       "    </tr>\n",
       "  </thead>\n",
       "  <tbody>\n",
       "    <tr>\n",
       "      <th>0</th>\n",
       "      <td>S Venkat</td>\n",
       "      <td>1975-1979</td>\n",
       "      <td>7</td>\n",
       "      <td>1</td>\n",
       "      <td>6</td>\n",
       "      <td>0</td>\n",
       "      <td>0</td>\n",
       "      <td>14.28</td>\n",
       "    </tr>\n",
       "    <tr>\n",
       "      <th>1</th>\n",
       "      <td>BS Bedi</td>\n",
       "      <td>1976-1978</td>\n",
       "      <td>4</td>\n",
       "      <td>1</td>\n",
       "      <td>3</td>\n",
       "      <td>0</td>\n",
       "      <td>0</td>\n",
       "      <td>25.00</td>\n",
       "    </tr>\n",
       "    <tr>\n",
       "      <th>2</th>\n",
       "      <td>AL Wadekar</td>\n",
       "      <td>1974-1974</td>\n",
       "      <td>2</td>\n",
       "      <td>0</td>\n",
       "      <td>2</td>\n",
       "      <td>0</td>\n",
       "      <td>0</td>\n",
       "      <td>0.00</td>\n",
       "    </tr>\n",
       "    <tr>\n",
       "      <th>3</th>\n",
       "      <td>SM Gavaskar</td>\n",
       "      <td>1980-1985</td>\n",
       "      <td>37</td>\n",
       "      <td>14</td>\n",
       "      <td>21</td>\n",
       "      <td>0</td>\n",
       "      <td>2</td>\n",
       "      <td>40.00</td>\n",
       "    </tr>\n",
       "    <tr>\n",
       "      <th>4</th>\n",
       "      <td>GR Viswanath</td>\n",
       "      <td>1981-1981</td>\n",
       "      <td>1</td>\n",
       "      <td>0</td>\n",
       "      <td>1</td>\n",
       "      <td>0</td>\n",
       "      <td>0</td>\n",
       "      <td>0.00</td>\n",
       "    </tr>\n",
       "    <tr>\n",
       "      <th>5</th>\n",
       "      <td>N Kapil Dev</td>\n",
       "      <td>1982-1987</td>\n",
       "      <td>74</td>\n",
       "      <td>39</td>\n",
       "      <td>33</td>\n",
       "      <td>0</td>\n",
       "      <td>2</td>\n",
       "      <td>54.16</td>\n",
       "    </tr>\n",
       "    <tr>\n",
       "      <th>6</th>\n",
       "      <td>SMH Kirmani</td>\n",
       "      <td>1983-1983</td>\n",
       "      <td>1</td>\n",
       "      <td>0</td>\n",
       "      <td>1</td>\n",
       "      <td>0</td>\n",
       "      <td>0</td>\n",
       "      <td>0.00</td>\n",
       "    </tr>\n",
       "    <tr>\n",
       "      <th>7</th>\n",
       "      <td>M Amarnath</td>\n",
       "      <td>1984-1984</td>\n",
       "      <td>1</td>\n",
       "      <td>0</td>\n",
       "      <td>0</td>\n",
       "      <td>0</td>\n",
       "      <td>1</td>\n",
       "      <td>-</td>\n",
       "    </tr>\n",
       "    <tr>\n",
       "      <th>8</th>\n",
       "      <td>DB Vengsarkar</td>\n",
       "      <td>1987-1989</td>\n",
       "      <td>18</td>\n",
       "      <td>8</td>\n",
       "      <td>10</td>\n",
       "      <td>0</td>\n",
       "      <td>0</td>\n",
       "      <td>44.44</td>\n",
       "    </tr>\n",
       "    <tr>\n",
       "      <th>9</th>\n",
       "      <td>RJ Shastri</td>\n",
       "      <td>1987-1991</td>\n",
       "      <td>11</td>\n",
       "      <td>4</td>\n",
       "      <td>7</td>\n",
       "      <td>0</td>\n",
       "      <td>0</td>\n",
       "      <td>36.36</td>\n",
       "    </tr>\n",
       "    <tr>\n",
       "      <th>10</th>\n",
       "      <td>K Srikkanth</td>\n",
       "      <td>1989-1989</td>\n",
       "      <td>13</td>\n",
       "      <td>4</td>\n",
       "      <td>8</td>\n",
       "      <td>0</td>\n",
       "      <td>1</td>\n",
       "      <td>33.33</td>\n",
       "    </tr>\n",
       "    <tr>\n",
       "      <th>11</th>\n",
       "      <td>M Azharuddin</td>\n",
       "      <td>1990-1999</td>\n",
       "      <td>174</td>\n",
       "      <td>90</td>\n",
       "      <td>76</td>\n",
       "      <td>2</td>\n",
       "      <td>6</td>\n",
       "      <td>54.16</td>\n",
       "    </tr>\n",
       "    <tr>\n",
       "      <th>12</th>\n",
       "      <td>SR Tendulkar</td>\n",
       "      <td>1996-2000</td>\n",
       "      <td>73</td>\n",
       "      <td>23</td>\n",
       "      <td>43</td>\n",
       "      <td>1</td>\n",
       "      <td>6</td>\n",
       "      <td>35.07</td>\n",
       "    </tr>\n",
       "    <tr>\n",
       "      <th>13</th>\n",
       "      <td>A Jadeja</td>\n",
       "      <td>1998-1999</td>\n",
       "      <td>13</td>\n",
       "      <td>8</td>\n",
       "      <td>5</td>\n",
       "      <td>0</td>\n",
       "      <td>0</td>\n",
       "      <td>61.53</td>\n",
       "    </tr>\n",
       "    <tr>\n",
       "      <th>14</th>\n",
       "      <td>SC Ganguly</td>\n",
       "      <td>1999-2005</td>\n",
       "      <td>146</td>\n",
       "      <td>76</td>\n",
       "      <td>65</td>\n",
       "      <td>0</td>\n",
       "      <td>5</td>\n",
       "      <td>53.90</td>\n",
       "    </tr>\n",
       "    <tr>\n",
       "      <th>15</th>\n",
       "      <td>R Dravid</td>\n",
       "      <td>2000-2007</td>\n",
       "      <td>79</td>\n",
       "      <td>42</td>\n",
       "      <td>33</td>\n",
       "      <td>0</td>\n",
       "      <td>4</td>\n",
       "      <td>56.00</td>\n",
       "    </tr>\n",
       "    <tr>\n",
       "      <th>16</th>\n",
       "      <td>A Kumble</td>\n",
       "      <td>2002-2002</td>\n",
       "      <td>1</td>\n",
       "      <td>1</td>\n",
       "      <td>0</td>\n",
       "      <td>0</td>\n",
       "      <td>0</td>\n",
       "      <td>100.00</td>\n",
       "    </tr>\n",
       "    <tr>\n",
       "      <th>17</th>\n",
       "      <td>V Sehwag</td>\n",
       "      <td>2003-2012</td>\n",
       "      <td>12</td>\n",
       "      <td>7</td>\n",
       "      <td>5</td>\n",
       "      <td>0</td>\n",
       "      <td>0</td>\n",
       "      <td>58.33</td>\n",
       "    </tr>\n",
       "    <tr>\n",
       "      <th>18</th>\n",
       "      <td>MS Dhoni</td>\n",
       "      <td>2007-2016</td>\n",
       "      <td>199</td>\n",
       "      <td>110</td>\n",
       "      <td>74</td>\n",
       "      <td>4</td>\n",
       "      <td>11</td>\n",
       "      <td>59.57</td>\n",
       "    </tr>\n",
       "    <tr>\n",
       "      <th>19</th>\n",
       "      <td>SK Raina</td>\n",
       "      <td>2010-2014</td>\n",
       "      <td>12</td>\n",
       "      <td>6</td>\n",
       "      <td>5</td>\n",
       "      <td>0</td>\n",
       "      <td>1</td>\n",
       "      <td>54.54</td>\n",
       "    </tr>\n",
       "    <tr>\n",
       "      <th>20</th>\n",
       "      <td>G Gambhir</td>\n",
       "      <td>2010-2011</td>\n",
       "      <td>6</td>\n",
       "      <td>6</td>\n",
       "      <td>0</td>\n",
       "      <td>0</td>\n",
       "      <td>0</td>\n",
       "      <td>100.00</td>\n",
       "    </tr>\n",
       "    <tr>\n",
       "      <th>21</th>\n",
       "      <td>V Kohli</td>\n",
       "      <td>2013-2018</td>\n",
       "      <td>52</td>\n",
       "      <td>39</td>\n",
       "      <td>12</td>\n",
       "      <td>0</td>\n",
       "      <td>1</td>\n",
       "      <td>76.47</td>\n",
       "    </tr>\n",
       "    <tr>\n",
       "      <th>22</th>\n",
       "      <td>AM Rahane</td>\n",
       "      <td>2015-2015</td>\n",
       "      <td>3</td>\n",
       "      <td>3</td>\n",
       "      <td>0</td>\n",
       "      <td>0</td>\n",
       "      <td>0</td>\n",
       "      <td>100.00</td>\n",
       "    </tr>\n",
       "    <tr>\n",
       "      <th>23</th>\n",
       "      <td>RG Sharma</td>\n",
       "      <td>2017-2017</td>\n",
       "      <td>3</td>\n",
       "      <td>2</td>\n",
       "      <td>1</td>\n",
       "      <td>0</td>\n",
       "      <td>0</td>\n",
       "      <td>66.66</td>\n",
       "    </tr>\n",
       "  </tbody>\n",
       "</table>\n",
       "</div>"
      ],
      "text/plain": [
       "           Player       Span  Mat  Won  Lost  Tied  NR       %\n",
       "0        S Venkat  1975-1979    7    1     6     0   0   14.28\n",
       "1         BS Bedi  1976-1978    4    1     3     0   0   25.00\n",
       "2      AL Wadekar  1974-1974    2    0     2     0   0    0.00\n",
       "3     SM Gavaskar  1980-1985   37   14    21     0   2   40.00\n",
       "4    GR Viswanath  1981-1981    1    0     1     0   0    0.00\n",
       "5     N Kapil Dev  1982-1987   74   39    33     0   2   54.16\n",
       "6     SMH Kirmani  1983-1983    1    0     1     0   0    0.00\n",
       "7      M Amarnath  1984-1984    1    0     0     0   1       -\n",
       "8   DB Vengsarkar  1987-1989   18    8    10     0   0   44.44\n",
       "9      RJ Shastri  1987-1991   11    4     7     0   0   36.36\n",
       "10    K Srikkanth  1989-1989   13    4     8     0   1   33.33\n",
       "11   M Azharuddin  1990-1999  174   90    76     2   6   54.16\n",
       "12   SR Tendulkar  1996-2000   73   23    43     1   6   35.07\n",
       "13       A Jadeja  1998-1999   13    8     5     0   0   61.53\n",
       "14     SC Ganguly  1999-2005  146   76    65     0   5   53.90\n",
       "15       R Dravid  2000-2007   79   42    33     0   4   56.00\n",
       "16       A Kumble  2002-2002    1    1     0     0   0  100.00\n",
       "17       V Sehwag  2003-2012   12    7     5     0   0   58.33\n",
       "18       MS Dhoni  2007-2016  199  110    74     4  11   59.57\n",
       "19       SK Raina  2010-2014   12    6     5     0   1   54.54\n",
       "20      G Gambhir  2010-2011    6    6     0     0   0  100.00\n",
       "21        V Kohli  2013-2018   52   39    12     0   1   76.47\n",
       "22      AM Rahane  2015-2015    3    3     0     0   0  100.00\n",
       "23      RG Sharma  2017-2017    3    2     1     0   0   66.66"
      ]
     },
     "execution_count": 10,
     "metadata": {},
     "output_type": "execute_result"
    }
   ],
   "source": [
    "df = pd.read_csv(caps_url)\n",
    "df\n",
    "\n",
    "# Column Labels : Player, Span, Mat ....\n",
    "# Row labels : 0, 1, 2, 3 ...."
   ]
  },
  {
   "cell_type": "code",
   "execution_count": 11,
   "id": "50261d76-1807-4d5e-a962-e0171f1936e6",
   "metadata": {},
   "outputs": [
    {
     "data": {
      "text/plain": [
       "pandas.core.frame.DataFrame"
      ]
     },
     "execution_count": 11,
     "metadata": {},
     "output_type": "execute_result"
    }
   ],
   "source": [
    "type(df)"
   ]
  },
  {
   "cell_type": "markdown",
   "id": "2a80057c-071b-42ca-947a-c4466c02f379",
   "metadata": {},
   "source": [
    "## View only a few lines at the top the dataset ( Sneak Peek )"
   ]
  },
  {
   "cell_type": "code",
   "execution_count": 12,
   "id": "a5c02170-f148-42a4-9c74-ba2478bacc18",
   "metadata": {},
   "outputs": [
    {
     "data": {
      "text/html": [
       "<div>\n",
       "<style scoped>\n",
       "    .dataframe tbody tr th:only-of-type {\n",
       "        vertical-align: middle;\n",
       "    }\n",
       "\n",
       "    .dataframe tbody tr th {\n",
       "        vertical-align: top;\n",
       "    }\n",
       "\n",
       "    .dataframe thead th {\n",
       "        text-align: right;\n",
       "    }\n",
       "</style>\n",
       "<table border=\"1\" class=\"dataframe\">\n",
       "  <thead>\n",
       "    <tr style=\"text-align: right;\">\n",
       "      <th></th>\n",
       "      <th>Player</th>\n",
       "      <th>Span</th>\n",
       "      <th>Mat</th>\n",
       "      <th>Won</th>\n",
       "      <th>Lost</th>\n",
       "      <th>Tied</th>\n",
       "      <th>NR</th>\n",
       "      <th>%</th>\n",
       "    </tr>\n",
       "  </thead>\n",
       "  <tbody>\n",
       "    <tr>\n",
       "      <th>0</th>\n",
       "      <td>S Venkat</td>\n",
       "      <td>1975-1979</td>\n",
       "      <td>7</td>\n",
       "      <td>1</td>\n",
       "      <td>6</td>\n",
       "      <td>0</td>\n",
       "      <td>0</td>\n",
       "      <td>14.28</td>\n",
       "    </tr>\n",
       "    <tr>\n",
       "      <th>1</th>\n",
       "      <td>BS Bedi</td>\n",
       "      <td>1976-1978</td>\n",
       "      <td>4</td>\n",
       "      <td>1</td>\n",
       "      <td>3</td>\n",
       "      <td>0</td>\n",
       "      <td>0</td>\n",
       "      <td>25.00</td>\n",
       "    </tr>\n",
       "    <tr>\n",
       "      <th>2</th>\n",
       "      <td>AL Wadekar</td>\n",
       "      <td>1974-1974</td>\n",
       "      <td>2</td>\n",
       "      <td>0</td>\n",
       "      <td>2</td>\n",
       "      <td>0</td>\n",
       "      <td>0</td>\n",
       "      <td>0.00</td>\n",
       "    </tr>\n",
       "    <tr>\n",
       "      <th>3</th>\n",
       "      <td>SM Gavaskar</td>\n",
       "      <td>1980-1985</td>\n",
       "      <td>37</td>\n",
       "      <td>14</td>\n",
       "      <td>21</td>\n",
       "      <td>0</td>\n",
       "      <td>2</td>\n",
       "      <td>40.00</td>\n",
       "    </tr>\n",
       "    <tr>\n",
       "      <th>4</th>\n",
       "      <td>GR Viswanath</td>\n",
       "      <td>1981-1981</td>\n",
       "      <td>1</td>\n",
       "      <td>0</td>\n",
       "      <td>1</td>\n",
       "      <td>0</td>\n",
       "      <td>0</td>\n",
       "      <td>0.00</td>\n",
       "    </tr>\n",
       "  </tbody>\n",
       "</table>\n",
       "</div>"
      ],
      "text/plain": [
       "         Player       Span  Mat  Won  Lost  Tied  NR      %\n",
       "0      S Venkat  1975-1979    7    1     6     0   0  14.28\n",
       "1       BS Bedi  1976-1978    4    1     3     0   0  25.00\n",
       "2    AL Wadekar  1974-1974    2    0     2     0   0   0.00\n",
       "3   SM Gavaskar  1980-1985   37   14    21     0   2  40.00\n",
       "4  GR Viswanath  1981-1981    1    0     1     0   0   0.00"
      ]
     },
     "execution_count": 12,
     "metadata": {},
     "output_type": "execute_result"
    }
   ],
   "source": [
    "df.head()"
   ]
  },
  {
   "cell_type": "code",
   "execution_count": 13,
   "id": "324f4364-b14a-4b17-90b0-db9cb44a70cf",
   "metadata": {},
   "outputs": [
    {
     "data": {
      "text/html": [
       "<div>\n",
       "<style scoped>\n",
       "    .dataframe tbody tr th:only-of-type {\n",
       "        vertical-align: middle;\n",
       "    }\n",
       "\n",
       "    .dataframe tbody tr th {\n",
       "        vertical-align: top;\n",
       "    }\n",
       "\n",
       "    .dataframe thead th {\n",
       "        text-align: right;\n",
       "    }\n",
       "</style>\n",
       "<table border=\"1\" class=\"dataframe\">\n",
       "  <thead>\n",
       "    <tr style=\"text-align: right;\">\n",
       "      <th></th>\n",
       "      <th>Player</th>\n",
       "      <th>Span</th>\n",
       "      <th>Mat</th>\n",
       "      <th>Won</th>\n",
       "      <th>Lost</th>\n",
       "      <th>Tied</th>\n",
       "      <th>NR</th>\n",
       "      <th>%</th>\n",
       "    </tr>\n",
       "  </thead>\n",
       "  <tbody>\n",
       "    <tr>\n",
       "      <th>19</th>\n",
       "      <td>SK Raina</td>\n",
       "      <td>2010-2014</td>\n",
       "      <td>12</td>\n",
       "      <td>6</td>\n",
       "      <td>5</td>\n",
       "      <td>0</td>\n",
       "      <td>1</td>\n",
       "      <td>54.54</td>\n",
       "    </tr>\n",
       "    <tr>\n",
       "      <th>20</th>\n",
       "      <td>G Gambhir</td>\n",
       "      <td>2010-2011</td>\n",
       "      <td>6</td>\n",
       "      <td>6</td>\n",
       "      <td>0</td>\n",
       "      <td>0</td>\n",
       "      <td>0</td>\n",
       "      <td>100.00</td>\n",
       "    </tr>\n",
       "    <tr>\n",
       "      <th>21</th>\n",
       "      <td>V Kohli</td>\n",
       "      <td>2013-2018</td>\n",
       "      <td>52</td>\n",
       "      <td>39</td>\n",
       "      <td>12</td>\n",
       "      <td>0</td>\n",
       "      <td>1</td>\n",
       "      <td>76.47</td>\n",
       "    </tr>\n",
       "    <tr>\n",
       "      <th>22</th>\n",
       "      <td>AM Rahane</td>\n",
       "      <td>2015-2015</td>\n",
       "      <td>3</td>\n",
       "      <td>3</td>\n",
       "      <td>0</td>\n",
       "      <td>0</td>\n",
       "      <td>0</td>\n",
       "      <td>100.00</td>\n",
       "    </tr>\n",
       "    <tr>\n",
       "      <th>23</th>\n",
       "      <td>RG Sharma</td>\n",
       "      <td>2017-2017</td>\n",
       "      <td>3</td>\n",
       "      <td>2</td>\n",
       "      <td>1</td>\n",
       "      <td>0</td>\n",
       "      <td>0</td>\n",
       "      <td>66.66</td>\n",
       "    </tr>\n",
       "  </tbody>\n",
       "</table>\n",
       "</div>"
      ],
      "text/plain": [
       "       Player       Span  Mat  Won  Lost  Tied  NR       %\n",
       "19   SK Raina  2010-2014   12    6     5     0   1   54.54\n",
       "20  G Gambhir  2010-2011    6    6     0     0   0  100.00\n",
       "21    V Kohli  2013-2018   52   39    12     0   1   76.47\n",
       "22  AM Rahane  2015-2015    3    3     0     0   0  100.00\n",
       "23  RG Sharma  2017-2017    3    2     1     0   0   66.66"
      ]
     },
     "execution_count": 13,
     "metadata": {},
     "output_type": "execute_result"
    }
   ],
   "source": [
    "df.tail()"
   ]
  },
  {
   "cell_type": "code",
   "execution_count": 14,
   "id": "2e57d21f-4bc2-4857-ace7-421b37f7fecc",
   "metadata": {},
   "outputs": [
    {
     "data": {
      "text/html": [
       "<div>\n",
       "<style scoped>\n",
       "    .dataframe tbody tr th:only-of-type {\n",
       "        vertical-align: middle;\n",
       "    }\n",
       "\n",
       "    .dataframe tbody tr th {\n",
       "        vertical-align: top;\n",
       "    }\n",
       "\n",
       "    .dataframe thead th {\n",
       "        text-align: right;\n",
       "    }\n",
       "</style>\n",
       "<table border=\"1\" class=\"dataframe\">\n",
       "  <thead>\n",
       "    <tr style=\"text-align: right;\">\n",
       "      <th></th>\n",
       "      <th>Player</th>\n",
       "      <th>Span</th>\n",
       "      <th>Mat</th>\n",
       "      <th>Won</th>\n",
       "      <th>Lost</th>\n",
       "      <th>Tied</th>\n",
       "      <th>NR</th>\n",
       "      <th>%</th>\n",
       "    </tr>\n",
       "  </thead>\n",
       "  <tbody>\n",
       "    <tr>\n",
       "      <th>16</th>\n",
       "      <td>A Kumble</td>\n",
       "      <td>2002-2002</td>\n",
       "      <td>1</td>\n",
       "      <td>1</td>\n",
       "      <td>0</td>\n",
       "      <td>0</td>\n",
       "      <td>0</td>\n",
       "      <td>100.00</td>\n",
       "    </tr>\n",
       "    <tr>\n",
       "      <th>17</th>\n",
       "      <td>V Sehwag</td>\n",
       "      <td>2003-2012</td>\n",
       "      <td>12</td>\n",
       "      <td>7</td>\n",
       "      <td>5</td>\n",
       "      <td>0</td>\n",
       "      <td>0</td>\n",
       "      <td>58.33</td>\n",
       "    </tr>\n",
       "    <tr>\n",
       "      <th>18</th>\n",
       "      <td>MS Dhoni</td>\n",
       "      <td>2007-2016</td>\n",
       "      <td>199</td>\n",
       "      <td>110</td>\n",
       "      <td>74</td>\n",
       "      <td>4</td>\n",
       "      <td>11</td>\n",
       "      <td>59.57</td>\n",
       "    </tr>\n",
       "    <tr>\n",
       "      <th>19</th>\n",
       "      <td>SK Raina</td>\n",
       "      <td>2010-2014</td>\n",
       "      <td>12</td>\n",
       "      <td>6</td>\n",
       "      <td>5</td>\n",
       "      <td>0</td>\n",
       "      <td>1</td>\n",
       "      <td>54.54</td>\n",
       "    </tr>\n",
       "    <tr>\n",
       "      <th>20</th>\n",
       "      <td>G Gambhir</td>\n",
       "      <td>2010-2011</td>\n",
       "      <td>6</td>\n",
       "      <td>6</td>\n",
       "      <td>0</td>\n",
       "      <td>0</td>\n",
       "      <td>0</td>\n",
       "      <td>100.00</td>\n",
       "    </tr>\n",
       "    <tr>\n",
       "      <th>21</th>\n",
       "      <td>V Kohli</td>\n",
       "      <td>2013-2018</td>\n",
       "      <td>52</td>\n",
       "      <td>39</td>\n",
       "      <td>12</td>\n",
       "      <td>0</td>\n",
       "      <td>1</td>\n",
       "      <td>76.47</td>\n",
       "    </tr>\n",
       "    <tr>\n",
       "      <th>22</th>\n",
       "      <td>AM Rahane</td>\n",
       "      <td>2015-2015</td>\n",
       "      <td>3</td>\n",
       "      <td>3</td>\n",
       "      <td>0</td>\n",
       "      <td>0</td>\n",
       "      <td>0</td>\n",
       "      <td>100.00</td>\n",
       "    </tr>\n",
       "    <tr>\n",
       "      <th>23</th>\n",
       "      <td>RG Sharma</td>\n",
       "      <td>2017-2017</td>\n",
       "      <td>3</td>\n",
       "      <td>2</td>\n",
       "      <td>1</td>\n",
       "      <td>0</td>\n",
       "      <td>0</td>\n",
       "      <td>66.66</td>\n",
       "    </tr>\n",
       "  </tbody>\n",
       "</table>\n",
       "</div>"
      ],
      "text/plain": [
       "       Player       Span  Mat  Won  Lost  Tied  NR       %\n",
       "16   A Kumble  2002-2002    1    1     0     0   0  100.00\n",
       "17   V Sehwag  2003-2012   12    7     5     0   0   58.33\n",
       "18   MS Dhoni  2007-2016  199  110    74     4  11   59.57\n",
       "19   SK Raina  2010-2014   12    6     5     0   1   54.54\n",
       "20  G Gambhir  2010-2011    6    6     0     0   0  100.00\n",
       "21    V Kohli  2013-2018   52   39    12     0   1   76.47\n",
       "22  AM Rahane  2015-2015    3    3     0     0   0  100.00\n",
       "23  RG Sharma  2017-2017    3    2     1     0   0   66.66"
      ]
     },
     "execution_count": 14,
     "metadata": {},
     "output_type": "execute_result"
    }
   ],
   "source": [
    "df.tail(8)"
   ]
  },
  {
   "cell_type": "code",
   "execution_count": 15,
   "id": "ea9d0ae0-c687-4a43-8b7a-a1c4730a213d",
   "metadata": {},
   "outputs": [
    {
     "data": {
      "text/html": [
       "<div>\n",
       "<style scoped>\n",
       "    .dataframe tbody tr th:only-of-type {\n",
       "        vertical-align: middle;\n",
       "    }\n",
       "\n",
       "    .dataframe tbody tr th {\n",
       "        vertical-align: top;\n",
       "    }\n",
       "\n",
       "    .dataframe thead th {\n",
       "        text-align: right;\n",
       "    }\n",
       "</style>\n",
       "<table border=\"1\" class=\"dataframe\">\n",
       "  <thead>\n",
       "    <tr style=\"text-align: right;\">\n",
       "      <th></th>\n",
       "      <th>Player</th>\n",
       "      <th>Span</th>\n",
       "      <th>Mat</th>\n",
       "      <th>Won</th>\n",
       "      <th>Lost</th>\n",
       "      <th>Tied</th>\n",
       "      <th>NR</th>\n",
       "      <th>%</th>\n",
       "    </tr>\n",
       "  </thead>\n",
       "  <tbody>\n",
       "    <tr>\n",
       "      <th>0</th>\n",
       "      <td>S Venkat</td>\n",
       "      <td>1975-1979</td>\n",
       "      <td>7</td>\n",
       "      <td>1</td>\n",
       "      <td>6</td>\n",
       "      <td>0</td>\n",
       "      <td>0</td>\n",
       "      <td>14.28</td>\n",
       "    </tr>\n",
       "    <tr>\n",
       "      <th>1</th>\n",
       "      <td>BS Bedi</td>\n",
       "      <td>1976-1978</td>\n",
       "      <td>4</td>\n",
       "      <td>1</td>\n",
       "      <td>3</td>\n",
       "      <td>0</td>\n",
       "      <td>0</td>\n",
       "      <td>25.00</td>\n",
       "    </tr>\n",
       "    <tr>\n",
       "      <th>2</th>\n",
       "      <td>AL Wadekar</td>\n",
       "      <td>1974-1974</td>\n",
       "      <td>2</td>\n",
       "      <td>0</td>\n",
       "      <td>2</td>\n",
       "      <td>0</td>\n",
       "      <td>0</td>\n",
       "      <td>0.00</td>\n",
       "    </tr>\n",
       "  </tbody>\n",
       "</table>\n",
       "</div>"
      ],
      "text/plain": [
       "       Player       Span  Mat  Won  Lost  Tied  NR      %\n",
       "0    S Venkat  1975-1979    7    1     6     0   0  14.28\n",
       "1     BS Bedi  1976-1978    4    1     3     0   0  25.00\n",
       "2  AL Wadekar  1974-1974    2    0     2     0   0   0.00"
      ]
     },
     "execution_count": 15,
     "metadata": {},
     "output_type": "execute_result"
    }
   ],
   "source": [
    "df.head(3)"
   ]
  },
  {
   "cell_type": "markdown",
   "id": "a3437dd4-3cfb-46ef-95f4-29b517255ed8",
   "metadata": {},
   "source": [
    "## How many rows and columns are present in my dataset"
   ]
  },
  {
   "cell_type": "code",
   "execution_count": 16,
   "id": "698eafce-be51-43a7-baec-9f9d2f8a6b77",
   "metadata": {},
   "outputs": [
    {
     "data": {
      "text/plain": [
       "(24, 8)"
      ]
     },
     "execution_count": 16,
     "metadata": {},
     "output_type": "execute_result"
    }
   ],
   "source": [
    "df.shape"
   ]
  },
  {
   "cell_type": "code",
   "execution_count": 17,
   "id": "8a358834-0b63-4cbb-b796-aa1a349a8de5",
   "metadata": {},
   "outputs": [],
   "source": [
    "n_rows, n_cols = df.shape"
   ]
  },
  {
   "cell_type": "code",
   "execution_count": 18,
   "id": "8f81baf5-2f53-42bf-9ae9-06615a24293f",
   "metadata": {},
   "outputs": [
    {
     "data": {
      "text/plain": [
       "24"
      ]
     },
     "execution_count": 18,
     "metadata": {},
     "output_type": "execute_result"
    }
   ],
   "source": [
    "n_rows"
   ]
  },
  {
   "cell_type": "code",
   "execution_count": 19,
   "id": "b3c890ce-0323-4f98-8dda-be92c4009784",
   "metadata": {},
   "outputs": [
    {
     "data": {
      "text/plain": [
       "8"
      ]
     },
     "execution_count": 19,
     "metadata": {},
     "output_type": "execute_result"
    }
   ],
   "source": [
    "n_cols"
   ]
  },
  {
   "cell_type": "markdown",
   "id": "0d61b73f-2ba2-4216-8024-95a8c4d618e8",
   "metadata": {},
   "source": [
    "## List out the names of all the columns in the dataset"
   ]
  },
  {
   "cell_type": "code",
   "execution_count": 20,
   "id": "5110cfbf-fa17-4efe-9605-fbe74b1177bc",
   "metadata": {},
   "outputs": [
    {
     "data": {
      "text/plain": [
       "Index(['Player', 'Span', 'Mat', 'Won', 'Lost', 'Tied', 'NR', '%'], dtype='object')"
      ]
     },
     "execution_count": 20,
     "metadata": {},
     "output_type": "execute_result"
    }
   ],
   "source": [
    "df.columns"
   ]
  },
  {
   "cell_type": "markdown",
   "id": "56d36494-33ec-4082-9aab-9ed349c3457d",
   "metadata": {},
   "source": [
    "### Rename the last column from '%' to 'Perc'"
   ]
  },
  {
   "cell_type": "code",
   "execution_count": 21,
   "id": "f1c40b61-acf2-4f4f-b520-3cee2fc624eb",
   "metadata": {},
   "outputs": [
    {
     "data": {
      "text/plain": [
       "['Player', 'Span', 'Mat', 'Won', 'Lost', 'Tied', 'NR', '%']"
      ]
     },
     "execution_count": 21,
     "metadata": {},
     "output_type": "execute_result"
    }
   ],
   "source": [
    "cols = df.columns.to_list()\n",
    "cols"
   ]
  },
  {
   "cell_type": "code",
   "execution_count": 23,
   "id": "f3eae16a-898f-479d-baa7-86e95f6303ab",
   "metadata": {},
   "outputs": [
    {
     "data": {
      "text/plain": [
       "['Player', 'Span', 'Mat', 'Won', 'Lost', 'Tied', 'NR', 'Perc']"
      ]
     },
     "execution_count": 23,
     "metadata": {},
     "output_type": "execute_result"
    }
   ],
   "source": [
    "cols[-1] = \"Perc\"\n",
    "cols"
   ]
  },
  {
   "cell_type": "code",
   "execution_count": 24,
   "id": "415b0422-5526-46d5-a6fb-2617f89abaea",
   "metadata": {},
   "outputs": [],
   "source": [
    "df.columns = cols"
   ]
  },
  {
   "cell_type": "code",
   "execution_count": 25,
   "id": "3cd4e9db-b280-4c83-8003-9a541eb86e5d",
   "metadata": {},
   "outputs": [
    {
     "data": {
      "text/html": [
       "<div>\n",
       "<style scoped>\n",
       "    .dataframe tbody tr th:only-of-type {\n",
       "        vertical-align: middle;\n",
       "    }\n",
       "\n",
       "    .dataframe tbody tr th {\n",
       "        vertical-align: top;\n",
       "    }\n",
       "\n",
       "    .dataframe thead th {\n",
       "        text-align: right;\n",
       "    }\n",
       "</style>\n",
       "<table border=\"1\" class=\"dataframe\">\n",
       "  <thead>\n",
       "    <tr style=\"text-align: right;\">\n",
       "      <th></th>\n",
       "      <th>Player</th>\n",
       "      <th>Span</th>\n",
       "      <th>Mat</th>\n",
       "      <th>Won</th>\n",
       "      <th>Lost</th>\n",
       "      <th>Tied</th>\n",
       "      <th>NR</th>\n",
       "      <th>Perc</th>\n",
       "    </tr>\n",
       "  </thead>\n",
       "  <tbody>\n",
       "    <tr>\n",
       "      <th>0</th>\n",
       "      <td>S Venkat</td>\n",
       "      <td>1975-1979</td>\n",
       "      <td>7</td>\n",
       "      <td>1</td>\n",
       "      <td>6</td>\n",
       "      <td>0</td>\n",
       "      <td>0</td>\n",
       "      <td>14.28</td>\n",
       "    </tr>\n",
       "    <tr>\n",
       "      <th>1</th>\n",
       "      <td>BS Bedi</td>\n",
       "      <td>1976-1978</td>\n",
       "      <td>4</td>\n",
       "      <td>1</td>\n",
       "      <td>3</td>\n",
       "      <td>0</td>\n",
       "      <td>0</td>\n",
       "      <td>25.00</td>\n",
       "    </tr>\n",
       "    <tr>\n",
       "      <th>2</th>\n",
       "      <td>AL Wadekar</td>\n",
       "      <td>1974-1974</td>\n",
       "      <td>2</td>\n",
       "      <td>0</td>\n",
       "      <td>2</td>\n",
       "      <td>0</td>\n",
       "      <td>0</td>\n",
       "      <td>0.00</td>\n",
       "    </tr>\n",
       "    <tr>\n",
       "      <th>3</th>\n",
       "      <td>SM Gavaskar</td>\n",
       "      <td>1980-1985</td>\n",
       "      <td>37</td>\n",
       "      <td>14</td>\n",
       "      <td>21</td>\n",
       "      <td>0</td>\n",
       "      <td>2</td>\n",
       "      <td>40.00</td>\n",
       "    </tr>\n",
       "    <tr>\n",
       "      <th>4</th>\n",
       "      <td>GR Viswanath</td>\n",
       "      <td>1981-1981</td>\n",
       "      <td>1</td>\n",
       "      <td>0</td>\n",
       "      <td>1</td>\n",
       "      <td>0</td>\n",
       "      <td>0</td>\n",
       "      <td>0.00</td>\n",
       "    </tr>\n",
       "  </tbody>\n",
       "</table>\n",
       "</div>"
      ],
      "text/plain": [
       "         Player       Span  Mat  Won  Lost  Tied  NR   Perc\n",
       "0      S Venkat  1975-1979    7    1     6     0   0  14.28\n",
       "1       BS Bedi  1976-1978    4    1     3     0   0  25.00\n",
       "2    AL Wadekar  1974-1974    2    0     2     0   0   0.00\n",
       "3   SM Gavaskar  1980-1985   37   14    21     0   2  40.00\n",
       "4  GR Viswanath  1981-1981    1    0     1     0   0   0.00"
      ]
     },
     "execution_count": 25,
     "metadata": {},
     "output_type": "execute_result"
    }
   ],
   "source": [
    "df.head()"
   ]
  },
  {
   "cell_type": "code",
   "execution_count": 26,
   "id": "be4549a2-cc24-45ee-8d73-198b0c5e50c4",
   "metadata": {},
   "outputs": [
    {
     "name": "stdout",
     "output_type": "stream",
     "text": [
      "<class 'pandas.core.frame.DataFrame'>\n",
      "RangeIndex: 24 entries, 0 to 23\n",
      "Data columns (total 8 columns):\n",
      " #   Column  Non-Null Count  Dtype \n",
      "---  ------  --------------  ----- \n",
      " 0   Player  24 non-null     object\n",
      " 1   Span    24 non-null     object\n",
      " 2   Mat     24 non-null     int64 \n",
      " 3   Won     24 non-null     int64 \n",
      " 4   Lost    24 non-null     int64 \n",
      " 5   Tied    24 non-null     int64 \n",
      " 6   NR      24 non-null     int64 \n",
      " 7   Perc    24 non-null     object\n",
      "dtypes: int64(5), object(3)\n",
      "memory usage: 1.6+ KB\n"
     ]
    }
   ],
   "source": [
    "df.info()"
   ]
  },
  {
   "cell_type": "markdown",
   "id": "5516ef6e-ac44-4177-a372-82e6906e0c64",
   "metadata": {},
   "source": [
    "## Fetch one column"
   ]
  },
  {
   "cell_type": "code",
   "execution_count": 27,
   "id": "80126d15-1e76-431e-ba26-e90457219818",
   "metadata": {},
   "outputs": [
    {
     "data": {
      "text/html": [
       "<div>\n",
       "<style scoped>\n",
       "    .dataframe tbody tr th:only-of-type {\n",
       "        vertical-align: middle;\n",
       "    }\n",
       "\n",
       "    .dataframe tbody tr th {\n",
       "        vertical-align: top;\n",
       "    }\n",
       "\n",
       "    .dataframe thead th {\n",
       "        text-align: right;\n",
       "    }\n",
       "</style>\n",
       "<table border=\"1\" class=\"dataframe\">\n",
       "  <thead>\n",
       "    <tr style=\"text-align: right;\">\n",
       "      <th></th>\n",
       "      <th>Player</th>\n",
       "      <th>Span</th>\n",
       "      <th>Mat</th>\n",
       "      <th>Won</th>\n",
       "      <th>Lost</th>\n",
       "      <th>Tied</th>\n",
       "      <th>NR</th>\n",
       "      <th>Perc</th>\n",
       "    </tr>\n",
       "  </thead>\n",
       "  <tbody>\n",
       "    <tr>\n",
       "      <th>0</th>\n",
       "      <td>S Venkat</td>\n",
       "      <td>1975-1979</td>\n",
       "      <td>7</td>\n",
       "      <td>1</td>\n",
       "      <td>6</td>\n",
       "      <td>0</td>\n",
       "      <td>0</td>\n",
       "      <td>14.28</td>\n",
       "    </tr>\n",
       "    <tr>\n",
       "      <th>1</th>\n",
       "      <td>BS Bedi</td>\n",
       "      <td>1976-1978</td>\n",
       "      <td>4</td>\n",
       "      <td>1</td>\n",
       "      <td>3</td>\n",
       "      <td>0</td>\n",
       "      <td>0</td>\n",
       "      <td>25.00</td>\n",
       "    </tr>\n",
       "    <tr>\n",
       "      <th>2</th>\n",
       "      <td>AL Wadekar</td>\n",
       "      <td>1974-1974</td>\n",
       "      <td>2</td>\n",
       "      <td>0</td>\n",
       "      <td>2</td>\n",
       "      <td>0</td>\n",
       "      <td>0</td>\n",
       "      <td>0.00</td>\n",
       "    </tr>\n",
       "    <tr>\n",
       "      <th>3</th>\n",
       "      <td>SM Gavaskar</td>\n",
       "      <td>1980-1985</td>\n",
       "      <td>37</td>\n",
       "      <td>14</td>\n",
       "      <td>21</td>\n",
       "      <td>0</td>\n",
       "      <td>2</td>\n",
       "      <td>40.00</td>\n",
       "    </tr>\n",
       "    <tr>\n",
       "      <th>4</th>\n",
       "      <td>GR Viswanath</td>\n",
       "      <td>1981-1981</td>\n",
       "      <td>1</td>\n",
       "      <td>0</td>\n",
       "      <td>1</td>\n",
       "      <td>0</td>\n",
       "      <td>0</td>\n",
       "      <td>0.00</td>\n",
       "    </tr>\n",
       "  </tbody>\n",
       "</table>\n",
       "</div>"
      ],
      "text/plain": [
       "         Player       Span  Mat  Won  Lost  Tied  NR   Perc\n",
       "0      S Venkat  1975-1979    7    1     6     0   0  14.28\n",
       "1       BS Bedi  1976-1978    4    1     3     0   0  25.00\n",
       "2    AL Wadekar  1974-1974    2    0     2     0   0   0.00\n",
       "3   SM Gavaskar  1980-1985   37   14    21     0   2  40.00\n",
       "4  GR Viswanath  1981-1981    1    0     1     0   0   0.00"
      ]
     },
     "execution_count": 27,
     "metadata": {},
     "output_type": "execute_result"
    }
   ],
   "source": [
    "df.head()"
   ]
  },
  {
   "cell_type": "code",
   "execution_count": 31,
   "id": "be252160-36b8-493a-9438-5585dbd5dc18",
   "metadata": {},
   "outputs": [
    {
     "data": {
      "text/plain": [
       "pandas.core.frame.DataFrame"
      ]
     },
     "execution_count": 31,
     "metadata": {},
     "output_type": "execute_result"
    }
   ],
   "source": [
    "type(df.head())"
   ]
  },
  {
   "cell_type": "markdown",
   "id": "17379102-5bd6-4a96-acb2-89b6b3e14270",
   "metadata": {},
   "source": [
    "- All operations are performed for columns, by default\n",
    "- For performing similar operations on a row, there would be other specific ways to do it"
   ]
  },
  {
   "cell_type": "code",
   "execution_count": 29,
   "id": "fb4eef97-424f-4559-aa50-42f3dd8ffabf",
   "metadata": {},
   "outputs": [
    {
     "data": {
      "text/plain": [
       "0        S Venkat\n",
       "1         BS Bedi\n",
       "2      AL Wadekar\n",
       "3     SM Gavaskar\n",
       "4    GR Viswanath\n",
       "Name: Player, dtype: object"
      ]
     },
     "execution_count": 29,
     "metadata": {},
     "output_type": "execute_result"
    }
   ],
   "source": [
    "df['Player'].head()"
   ]
  },
  {
   "cell_type": "code",
   "execution_count": 30,
   "id": "cf32aedb-b7cb-4338-afbc-d15c5eccf4da",
   "metadata": {},
   "outputs": [
    {
     "data": {
      "text/plain": [
       "pandas.core.series.Series"
      ]
     },
     "execution_count": 30,
     "metadata": {},
     "output_type": "execute_result"
    }
   ],
   "source": [
    "type(df['Player'])"
   ]
  },
  {
   "cell_type": "markdown",
   "id": "3ae3a701-68aa-4908-ad9f-f6ebbff17f56",
   "metadata": {},
   "source": [
    "## Fetch a single row"
   ]
  },
  {
   "cell_type": "code",
   "execution_count": 32,
   "id": "6b240321-561b-4484-8096-07a88665ba4c",
   "metadata": {},
   "outputs": [
    {
     "data": {
      "text/plain": [
       "Player     S Venkat\n",
       "Span      1975-1979\n",
       "Mat               7\n",
       "Won               1\n",
       "Lost              6\n",
       "Tied              0\n",
       "NR                0\n",
       "Perc          14.28\n",
       "Name: 0, dtype: object"
      ]
     },
     "execution_count": 32,
     "metadata": {},
     "output_type": "execute_result"
    }
   ],
   "source": [
    "df.loc[0]"
   ]
  },
  {
   "cell_type": "code",
   "execution_count": 33,
   "id": "9e35735c-d687-4f89-b901-a013ac1663f3",
   "metadata": {},
   "outputs": [
    {
     "data": {
      "text/html": [
       "<div>\n",
       "<style scoped>\n",
       "    .dataframe tbody tr th:only-of-type {\n",
       "        vertical-align: middle;\n",
       "    }\n",
       "\n",
       "    .dataframe tbody tr th {\n",
       "        vertical-align: top;\n",
       "    }\n",
       "\n",
       "    .dataframe thead th {\n",
       "        text-align: right;\n",
       "    }\n",
       "</style>\n",
       "<table border=\"1\" class=\"dataframe\">\n",
       "  <thead>\n",
       "    <tr style=\"text-align: right;\">\n",
       "      <th></th>\n",
       "      <th>Player</th>\n",
       "      <th>Span</th>\n",
       "      <th>Mat</th>\n",
       "      <th>Won</th>\n",
       "      <th>Lost</th>\n",
       "      <th>Tied</th>\n",
       "      <th>NR</th>\n",
       "      <th>Perc</th>\n",
       "    </tr>\n",
       "  </thead>\n",
       "  <tbody>\n",
       "    <tr>\n",
       "      <th>0</th>\n",
       "      <td>S Venkat</td>\n",
       "      <td>1975-1979</td>\n",
       "      <td>7</td>\n",
       "      <td>1</td>\n",
       "      <td>6</td>\n",
       "      <td>0</td>\n",
       "      <td>0</td>\n",
       "      <td>14.28</td>\n",
       "    </tr>\n",
       "    <tr>\n",
       "      <th>1</th>\n",
       "      <td>BS Bedi</td>\n",
       "      <td>1976-1978</td>\n",
       "      <td>4</td>\n",
       "      <td>1</td>\n",
       "      <td>3</td>\n",
       "      <td>0</td>\n",
       "      <td>0</td>\n",
       "      <td>25.00</td>\n",
       "    </tr>\n",
       "    <tr>\n",
       "      <th>2</th>\n",
       "      <td>AL Wadekar</td>\n",
       "      <td>1974-1974</td>\n",
       "      <td>2</td>\n",
       "      <td>0</td>\n",
       "      <td>2</td>\n",
       "      <td>0</td>\n",
       "      <td>0</td>\n",
       "      <td>0.00</td>\n",
       "    </tr>\n",
       "    <tr>\n",
       "      <th>3</th>\n",
       "      <td>SM Gavaskar</td>\n",
       "      <td>1980-1985</td>\n",
       "      <td>37</td>\n",
       "      <td>14</td>\n",
       "      <td>21</td>\n",
       "      <td>0</td>\n",
       "      <td>2</td>\n",
       "      <td>40.00</td>\n",
       "    </tr>\n",
       "    <tr>\n",
       "      <th>4</th>\n",
       "      <td>GR Viswanath</td>\n",
       "      <td>1981-1981</td>\n",
       "      <td>1</td>\n",
       "      <td>0</td>\n",
       "      <td>1</td>\n",
       "      <td>0</td>\n",
       "      <td>0</td>\n",
       "      <td>0.00</td>\n",
       "    </tr>\n",
       "  </tbody>\n",
       "</table>\n",
       "</div>"
      ],
      "text/plain": [
       "         Player       Span  Mat  Won  Lost  Tied  NR   Perc\n",
       "0      S Venkat  1975-1979    7    1     6     0   0  14.28\n",
       "1       BS Bedi  1976-1978    4    1     3     0   0  25.00\n",
       "2    AL Wadekar  1974-1974    2    0     2     0   0   0.00\n",
       "3   SM Gavaskar  1980-1985   37   14    21     0   2  40.00\n",
       "4  GR Viswanath  1981-1981    1    0     1     0   0   0.00"
      ]
     },
     "execution_count": 33,
     "metadata": {},
     "output_type": "execute_result"
    }
   ],
   "source": [
    "df.head()"
   ]
  },
  {
   "cell_type": "markdown",
   "id": "5fe6d89b-b826-431f-bf5a-8c8feab0ddd6",
   "metadata": {},
   "source": [
    "## Fetching multiple columns"
   ]
  },
  {
   "cell_type": "markdown",
   "id": "8745cad1-4833-49a8-8465-509614f76142",
   "metadata": {},
   "source": [
    "- Represent my friend's name\n",
    "\n",
    "`name = \"Ajay\"`\n",
    "\n",
    "- Represent names of 2 friends\n",
    "\n",
    "`friends = [\"Ajay\", \"Vishal\"]`\n",
    "\n",
    "- When dealing with multiple columns/rows think of lists to represent their names"
   ]
  },
  {
   "cell_type": "code",
   "execution_count": 34,
   "id": "eab1875b-b7d6-4feb-bab5-cffdf9080366",
   "metadata": {},
   "outputs": [
    {
     "data": {
      "text/html": [
       "<div>\n",
       "<style scoped>\n",
       "    .dataframe tbody tr th:only-of-type {\n",
       "        vertical-align: middle;\n",
       "    }\n",
       "\n",
       "    .dataframe tbody tr th {\n",
       "        vertical-align: top;\n",
       "    }\n",
       "\n",
       "    .dataframe thead th {\n",
       "        text-align: right;\n",
       "    }\n",
       "</style>\n",
       "<table border=\"1\" class=\"dataframe\">\n",
       "  <thead>\n",
       "    <tr style=\"text-align: right;\">\n",
       "      <th></th>\n",
       "      <th>Player</th>\n",
       "      <th>Span</th>\n",
       "      <th>Mat</th>\n",
       "      <th>Won</th>\n",
       "      <th>Lost</th>\n",
       "      <th>Tied</th>\n",
       "      <th>NR</th>\n",
       "      <th>Perc</th>\n",
       "    </tr>\n",
       "  </thead>\n",
       "  <tbody>\n",
       "    <tr>\n",
       "      <th>0</th>\n",
       "      <td>S Venkat</td>\n",
       "      <td>1975-1979</td>\n",
       "      <td>7</td>\n",
       "      <td>1</td>\n",
       "      <td>6</td>\n",
       "      <td>0</td>\n",
       "      <td>0</td>\n",
       "      <td>14.28</td>\n",
       "    </tr>\n",
       "    <tr>\n",
       "      <th>1</th>\n",
       "      <td>BS Bedi</td>\n",
       "      <td>1976-1978</td>\n",
       "      <td>4</td>\n",
       "      <td>1</td>\n",
       "      <td>3</td>\n",
       "      <td>0</td>\n",
       "      <td>0</td>\n",
       "      <td>25.00</td>\n",
       "    </tr>\n",
       "    <tr>\n",
       "      <th>2</th>\n",
       "      <td>AL Wadekar</td>\n",
       "      <td>1974-1974</td>\n",
       "      <td>2</td>\n",
       "      <td>0</td>\n",
       "      <td>2</td>\n",
       "      <td>0</td>\n",
       "      <td>0</td>\n",
       "      <td>0.00</td>\n",
       "    </tr>\n",
       "    <tr>\n",
       "      <th>3</th>\n",
       "      <td>SM Gavaskar</td>\n",
       "      <td>1980-1985</td>\n",
       "      <td>37</td>\n",
       "      <td>14</td>\n",
       "      <td>21</td>\n",
       "      <td>0</td>\n",
       "      <td>2</td>\n",
       "      <td>40.00</td>\n",
       "    </tr>\n",
       "    <tr>\n",
       "      <th>4</th>\n",
       "      <td>GR Viswanath</td>\n",
       "      <td>1981-1981</td>\n",
       "      <td>1</td>\n",
       "      <td>0</td>\n",
       "      <td>1</td>\n",
       "      <td>0</td>\n",
       "      <td>0</td>\n",
       "      <td>0.00</td>\n",
       "    </tr>\n",
       "  </tbody>\n",
       "</table>\n",
       "</div>"
      ],
      "text/plain": [
       "         Player       Span  Mat  Won  Lost  Tied  NR   Perc\n",
       "0      S Venkat  1975-1979    7    1     6     0   0  14.28\n",
       "1       BS Bedi  1976-1978    4    1     3     0   0  25.00\n",
       "2    AL Wadekar  1974-1974    2    0     2     0   0   0.00\n",
       "3   SM Gavaskar  1980-1985   37   14    21     0   2  40.00\n",
       "4  GR Viswanath  1981-1981    1    0     1     0   0   0.00"
      ]
     },
     "execution_count": 34,
     "metadata": {},
     "output_type": "execute_result"
    }
   ],
   "source": [
    "df.head()"
   ]
  },
  {
   "cell_type": "markdown",
   "id": "465f45d0-1f0b-48fb-82c9-bcbe91ec2538",
   "metadata": {},
   "source": [
    "- Fetch Player and Span columns"
   ]
  },
  {
   "cell_type": "code",
   "execution_count": 37,
   "id": "7b47b007-6489-43e6-a6cd-9ce194d54921",
   "metadata": {},
   "outputs": [
    {
     "data": {
      "text/html": [
       "<div>\n",
       "<style scoped>\n",
       "    .dataframe tbody tr th:only-of-type {\n",
       "        vertical-align: middle;\n",
       "    }\n",
       "\n",
       "    .dataframe tbody tr th {\n",
       "        vertical-align: top;\n",
       "    }\n",
       "\n",
       "    .dataframe thead th {\n",
       "        text-align: right;\n",
       "    }\n",
       "</style>\n",
       "<table border=\"1\" class=\"dataframe\">\n",
       "  <thead>\n",
       "    <tr style=\"text-align: right;\">\n",
       "      <th></th>\n",
       "      <th>Player</th>\n",
       "      <th>Span</th>\n",
       "    </tr>\n",
       "  </thead>\n",
       "  <tbody>\n",
       "    <tr>\n",
       "      <th>0</th>\n",
       "      <td>S Venkat</td>\n",
       "      <td>1975-1979</td>\n",
       "    </tr>\n",
       "    <tr>\n",
       "      <th>1</th>\n",
       "      <td>BS Bedi</td>\n",
       "      <td>1976-1978</td>\n",
       "    </tr>\n",
       "    <tr>\n",
       "      <th>2</th>\n",
       "      <td>AL Wadekar</td>\n",
       "      <td>1974-1974</td>\n",
       "    </tr>\n",
       "    <tr>\n",
       "      <th>3</th>\n",
       "      <td>SM Gavaskar</td>\n",
       "      <td>1980-1985</td>\n",
       "    </tr>\n",
       "    <tr>\n",
       "      <th>4</th>\n",
       "      <td>GR Viswanath</td>\n",
       "      <td>1981-1981</td>\n",
       "    </tr>\n",
       "  </tbody>\n",
       "</table>\n",
       "</div>"
      ],
      "text/plain": [
       "         Player       Span\n",
       "0      S Venkat  1975-1979\n",
       "1       BS Bedi  1976-1978\n",
       "2    AL Wadekar  1974-1974\n",
       "3   SM Gavaskar  1980-1985\n",
       "4  GR Viswanath  1981-1981"
      ]
     },
     "execution_count": 37,
     "metadata": {},
     "output_type": "execute_result"
    }
   ],
   "source": [
    "cols = [ 'Player', 'Span' ]\n",
    "df[cols].head()"
   ]
  },
  {
   "cell_type": "code",
   "execution_count": 40,
   "id": "d35b500b-c73b-44e0-a87e-64a13bcf096d",
   "metadata": {},
   "outputs": [
    {
     "data": {
      "text/html": [
       "<div>\n",
       "<style scoped>\n",
       "    .dataframe tbody tr th:only-of-type {\n",
       "        vertical-align: middle;\n",
       "    }\n",
       "\n",
       "    .dataframe tbody tr th {\n",
       "        vertical-align: top;\n",
       "    }\n",
       "\n",
       "    .dataframe thead th {\n",
       "        text-align: right;\n",
       "    }\n",
       "</style>\n",
       "<table border=\"1\" class=\"dataframe\">\n",
       "  <thead>\n",
       "    <tr style=\"text-align: right;\">\n",
       "      <th></th>\n",
       "      <th>Player</th>\n",
       "      <th>Span</th>\n",
       "    </tr>\n",
       "  </thead>\n",
       "  <tbody>\n",
       "    <tr>\n",
       "      <th>0</th>\n",
       "      <td>S Venkat</td>\n",
       "      <td>1975-1979</td>\n",
       "    </tr>\n",
       "    <tr>\n",
       "      <th>1</th>\n",
       "      <td>BS Bedi</td>\n",
       "      <td>1976-1978</td>\n",
       "    </tr>\n",
       "    <tr>\n",
       "      <th>2</th>\n",
       "      <td>AL Wadekar</td>\n",
       "      <td>1974-1974</td>\n",
       "    </tr>\n",
       "    <tr>\n",
       "      <th>3</th>\n",
       "      <td>SM Gavaskar</td>\n",
       "      <td>1980-1985</td>\n",
       "    </tr>\n",
       "    <tr>\n",
       "      <th>4</th>\n",
       "      <td>GR Viswanath</td>\n",
       "      <td>1981-1981</td>\n",
       "    </tr>\n",
       "  </tbody>\n",
       "</table>\n",
       "</div>"
      ],
      "text/plain": [
       "         Player       Span\n",
       "0      S Venkat  1975-1979\n",
       "1       BS Bedi  1976-1978\n",
       "2    AL Wadekar  1974-1974\n",
       "3   SM Gavaskar  1980-1985\n",
       "4  GR Viswanath  1981-1981"
      ]
     },
     "execution_count": 40,
     "metadata": {},
     "output_type": "execute_result"
    }
   ],
   "source": [
    "df[ ['Player', 'Span'] ].head()"
   ]
  },
  {
   "cell_type": "markdown",
   "id": "64f72cfc-327c-4d8a-8b37-97581329b817",
   "metadata": {},
   "source": [
    "## Fetching multiple rows"
   ]
  },
  {
   "cell_type": "code",
   "execution_count": 39,
   "id": "b9f879bf-c228-4a2f-89e4-445d047bb702",
   "metadata": {},
   "outputs": [
    {
     "data": {
      "text/html": [
       "<div>\n",
       "<style scoped>\n",
       "    .dataframe tbody tr th:only-of-type {\n",
       "        vertical-align: middle;\n",
       "    }\n",
       "\n",
       "    .dataframe tbody tr th {\n",
       "        vertical-align: top;\n",
       "    }\n",
       "\n",
       "    .dataframe thead th {\n",
       "        text-align: right;\n",
       "    }\n",
       "</style>\n",
       "<table border=\"1\" class=\"dataframe\">\n",
       "  <thead>\n",
       "    <tr style=\"text-align: right;\">\n",
       "      <th></th>\n",
       "      <th>Player</th>\n",
       "      <th>Span</th>\n",
       "      <th>Mat</th>\n",
       "      <th>Won</th>\n",
       "      <th>Lost</th>\n",
       "      <th>Tied</th>\n",
       "      <th>NR</th>\n",
       "      <th>Perc</th>\n",
       "    </tr>\n",
       "  </thead>\n",
       "  <tbody>\n",
       "    <tr>\n",
       "      <th>0</th>\n",
       "      <td>S Venkat</td>\n",
       "      <td>1975-1979</td>\n",
       "      <td>7</td>\n",
       "      <td>1</td>\n",
       "      <td>6</td>\n",
       "      <td>0</td>\n",
       "      <td>0</td>\n",
       "      <td>14.28</td>\n",
       "    </tr>\n",
       "    <tr>\n",
       "      <th>1</th>\n",
       "      <td>BS Bedi</td>\n",
       "      <td>1976-1978</td>\n",
       "      <td>4</td>\n",
       "      <td>1</td>\n",
       "      <td>3</td>\n",
       "      <td>0</td>\n",
       "      <td>0</td>\n",
       "      <td>25.00</td>\n",
       "    </tr>\n",
       "  </tbody>\n",
       "</table>\n",
       "</div>"
      ],
      "text/plain": [
       "     Player       Span  Mat  Won  Lost  Tied  NR   Perc\n",
       "0  S Venkat  1975-1979    7    1     6     0   0  14.28\n",
       "1   BS Bedi  1976-1978    4    1     3     0   0  25.00"
      ]
     },
     "execution_count": 39,
     "metadata": {},
     "output_type": "execute_result"
    }
   ],
   "source": [
    "row_labels = [ 0, 1 ]\n",
    "df.loc[row_labels]"
   ]
  },
  {
   "cell_type": "code",
   "execution_count": 42,
   "id": "afb9a145-f9e4-4e16-87b8-7b824670b7a1",
   "metadata": {},
   "outputs": [
    {
     "data": {
      "text/html": [
       "<div>\n",
       "<style scoped>\n",
       "    .dataframe tbody tr th:only-of-type {\n",
       "        vertical-align: middle;\n",
       "    }\n",
       "\n",
       "    .dataframe tbody tr th {\n",
       "        vertical-align: top;\n",
       "    }\n",
       "\n",
       "    .dataframe thead th {\n",
       "        text-align: right;\n",
       "    }\n",
       "</style>\n",
       "<table border=\"1\" class=\"dataframe\">\n",
       "  <thead>\n",
       "    <tr style=\"text-align: right;\">\n",
       "      <th></th>\n",
       "      <th>Player</th>\n",
       "      <th>Span</th>\n",
       "      <th>Mat</th>\n",
       "      <th>Won</th>\n",
       "      <th>Lost</th>\n",
       "      <th>Tied</th>\n",
       "      <th>NR</th>\n",
       "      <th>Perc</th>\n",
       "    </tr>\n",
       "  </thead>\n",
       "  <tbody>\n",
       "    <tr>\n",
       "      <th>0</th>\n",
       "      <td>S Venkat</td>\n",
       "      <td>1975-1979</td>\n",
       "      <td>7</td>\n",
       "      <td>1</td>\n",
       "      <td>6</td>\n",
       "      <td>0</td>\n",
       "      <td>0</td>\n",
       "      <td>14.28</td>\n",
       "    </tr>\n",
       "    <tr>\n",
       "      <th>5</th>\n",
       "      <td>N Kapil Dev</td>\n",
       "      <td>1982-1987</td>\n",
       "      <td>74</td>\n",
       "      <td>39</td>\n",
       "      <td>33</td>\n",
       "      <td>0</td>\n",
       "      <td>2</td>\n",
       "      <td>54.16</td>\n",
       "    </tr>\n",
       "    <tr>\n",
       "      <th>12</th>\n",
       "      <td>SR Tendulkar</td>\n",
       "      <td>1996-2000</td>\n",
       "      <td>73</td>\n",
       "      <td>23</td>\n",
       "      <td>43</td>\n",
       "      <td>1</td>\n",
       "      <td>6</td>\n",
       "      <td>35.07</td>\n",
       "    </tr>\n",
       "  </tbody>\n",
       "</table>\n",
       "</div>"
      ],
      "text/plain": [
       "          Player       Span  Mat  Won  Lost  Tied  NR   Perc\n",
       "0       S Venkat  1975-1979    7    1     6     0   0  14.28\n",
       "5    N Kapil Dev  1982-1987   74   39    33     0   2  54.16\n",
       "12  SR Tendulkar  1996-2000   73   23    43     1   6  35.07"
      ]
     },
     "execution_count": 42,
     "metadata": {},
     "output_type": "execute_result"
    }
   ],
   "source": [
    "df.loc[ [0, 5, 12] ]"
   ]
  },
  {
   "cell_type": "markdown",
   "id": "5a1479e6-1269-4778-a9ec-eff8c2b06d9e",
   "metadata": {},
   "source": [
    "## Learnings\n",
    "\n",
    "- Fetching a single column/row always returns a Series object\n",
    "- Fetching multiple columns/rows returns a DataFrame object"
   ]
  },
  {
   "cell_type": "code",
   "execution_count": 43,
   "id": "58a7e789-131f-4158-a4e7-ec907be33161",
   "metadata": {},
   "outputs": [
    {
     "data": {
      "text/html": [
       "<div>\n",
       "<style scoped>\n",
       "    .dataframe tbody tr th:only-of-type {\n",
       "        vertical-align: middle;\n",
       "    }\n",
       "\n",
       "    .dataframe tbody tr th {\n",
       "        vertical-align: top;\n",
       "    }\n",
       "\n",
       "    .dataframe thead th {\n",
       "        text-align: right;\n",
       "    }\n",
       "</style>\n",
       "<table border=\"1\" class=\"dataframe\">\n",
       "  <thead>\n",
       "    <tr style=\"text-align: right;\">\n",
       "      <th></th>\n",
       "      <th>Player</th>\n",
       "      <th>Span</th>\n",
       "      <th>Mat</th>\n",
       "      <th>Won</th>\n",
       "      <th>Lost</th>\n",
       "      <th>Tied</th>\n",
       "      <th>NR</th>\n",
       "      <th>Perc</th>\n",
       "    </tr>\n",
       "  </thead>\n",
       "  <tbody>\n",
       "    <tr>\n",
       "      <th>0</th>\n",
       "      <td>S Venkat</td>\n",
       "      <td>1975-1979</td>\n",
       "      <td>7</td>\n",
       "      <td>1</td>\n",
       "      <td>6</td>\n",
       "      <td>0</td>\n",
       "      <td>0</td>\n",
       "      <td>14.28</td>\n",
       "    </tr>\n",
       "    <tr>\n",
       "      <th>1</th>\n",
       "      <td>BS Bedi</td>\n",
       "      <td>1976-1978</td>\n",
       "      <td>4</td>\n",
       "      <td>1</td>\n",
       "      <td>3</td>\n",
       "      <td>0</td>\n",
       "      <td>0</td>\n",
       "      <td>25.00</td>\n",
       "    </tr>\n",
       "    <tr>\n",
       "      <th>2</th>\n",
       "      <td>AL Wadekar</td>\n",
       "      <td>1974-1974</td>\n",
       "      <td>2</td>\n",
       "      <td>0</td>\n",
       "      <td>2</td>\n",
       "      <td>0</td>\n",
       "      <td>0</td>\n",
       "      <td>0.00</td>\n",
       "    </tr>\n",
       "    <tr>\n",
       "      <th>3</th>\n",
       "      <td>SM Gavaskar</td>\n",
       "      <td>1980-1985</td>\n",
       "      <td>37</td>\n",
       "      <td>14</td>\n",
       "      <td>21</td>\n",
       "      <td>0</td>\n",
       "      <td>2</td>\n",
       "      <td>40.00</td>\n",
       "    </tr>\n",
       "    <tr>\n",
       "      <th>4</th>\n",
       "      <td>GR Viswanath</td>\n",
       "      <td>1981-1981</td>\n",
       "      <td>1</td>\n",
       "      <td>0</td>\n",
       "      <td>1</td>\n",
       "      <td>0</td>\n",
       "      <td>0</td>\n",
       "      <td>0.00</td>\n",
       "    </tr>\n",
       "  </tbody>\n",
       "</table>\n",
       "</div>"
      ],
      "text/plain": [
       "         Player       Span  Mat  Won  Lost  Tied  NR   Perc\n",
       "0      S Venkat  1975-1979    7    1     6     0   0  14.28\n",
       "1       BS Bedi  1976-1978    4    1     3     0   0  25.00\n",
       "2    AL Wadekar  1974-1974    2    0     2     0   0   0.00\n",
       "3   SM Gavaskar  1980-1985   37   14    21     0   2  40.00\n",
       "4  GR Viswanath  1981-1981    1    0     1     0   0   0.00"
      ]
     },
     "execution_count": 43,
     "metadata": {},
     "output_type": "execute_result"
    }
   ],
   "source": [
    "df.head()"
   ]
  },
  {
   "cell_type": "markdown",
   "id": "bbbea20c-7670-423f-8920-521b41f8a800",
   "metadata": {},
   "source": [
    "- Display Span, Player and Won columns from df\n",
    "- Keep the columns in the same order as mentioned above"
   ]
  },
  {
   "cell_type": "code",
   "execution_count": 44,
   "id": "059b44fc-0dae-4030-8632-ac795c0e7898",
   "metadata": {},
   "outputs": [
    {
     "data": {
      "text/html": [
       "<div>\n",
       "<style scoped>\n",
       "    .dataframe tbody tr th:only-of-type {\n",
       "        vertical-align: middle;\n",
       "    }\n",
       "\n",
       "    .dataframe tbody tr th {\n",
       "        vertical-align: top;\n",
       "    }\n",
       "\n",
       "    .dataframe thead th {\n",
       "        text-align: right;\n",
       "    }\n",
       "</style>\n",
       "<table border=\"1\" class=\"dataframe\">\n",
       "  <thead>\n",
       "    <tr style=\"text-align: right;\">\n",
       "      <th></th>\n",
       "      <th>Span</th>\n",
       "      <th>Player</th>\n",
       "      <th>Won</th>\n",
       "    </tr>\n",
       "  </thead>\n",
       "  <tbody>\n",
       "    <tr>\n",
       "      <th>0</th>\n",
       "      <td>1975-1979</td>\n",
       "      <td>S Venkat</td>\n",
       "      <td>1</td>\n",
       "    </tr>\n",
       "    <tr>\n",
       "      <th>1</th>\n",
       "      <td>1976-1978</td>\n",
       "      <td>BS Bedi</td>\n",
       "      <td>1</td>\n",
       "    </tr>\n",
       "    <tr>\n",
       "      <th>2</th>\n",
       "      <td>1974-1974</td>\n",
       "      <td>AL Wadekar</td>\n",
       "      <td>0</td>\n",
       "    </tr>\n",
       "    <tr>\n",
       "      <th>3</th>\n",
       "      <td>1980-1985</td>\n",
       "      <td>SM Gavaskar</td>\n",
       "      <td>14</td>\n",
       "    </tr>\n",
       "    <tr>\n",
       "      <th>4</th>\n",
       "      <td>1981-1981</td>\n",
       "      <td>GR Viswanath</td>\n",
       "      <td>0</td>\n",
       "    </tr>\n",
       "  </tbody>\n",
       "</table>\n",
       "</div>"
      ],
      "text/plain": [
       "        Span        Player  Won\n",
       "0  1975-1979      S Venkat    1\n",
       "1  1976-1978       BS Bedi    1\n",
       "2  1974-1974    AL Wadekar    0\n",
       "3  1980-1985   SM Gavaskar   14\n",
       "4  1981-1981  GR Viswanath    0"
      ]
     },
     "execution_count": 44,
     "metadata": {},
     "output_type": "execute_result"
    }
   ],
   "source": [
    "cols = ['Span', 'Player', 'Won']\n",
    "df[cols].head()"
   ]
  },
  {
   "cell_type": "code",
   "execution_count": 45,
   "id": "93974d1c-2add-4d30-8770-697b98024612",
   "metadata": {},
   "outputs": [
    {
     "data": {
      "text/html": [
       "<div>\n",
       "<style scoped>\n",
       "    .dataframe tbody tr th:only-of-type {\n",
       "        vertical-align: middle;\n",
       "    }\n",
       "\n",
       "    .dataframe tbody tr th {\n",
       "        vertical-align: top;\n",
       "    }\n",
       "\n",
       "    .dataframe thead th {\n",
       "        text-align: right;\n",
       "    }\n",
       "</style>\n",
       "<table border=\"1\" class=\"dataframe\">\n",
       "  <thead>\n",
       "    <tr style=\"text-align: right;\">\n",
       "      <th></th>\n",
       "      <th>Player</th>\n",
       "      <th>Span</th>\n",
       "      <th>Mat</th>\n",
       "      <th>Won</th>\n",
       "      <th>Lost</th>\n",
       "      <th>Tied</th>\n",
       "      <th>NR</th>\n",
       "      <th>Perc</th>\n",
       "    </tr>\n",
       "  </thead>\n",
       "  <tbody>\n",
       "    <tr>\n",
       "      <th>0</th>\n",
       "      <td>S Venkat</td>\n",
       "      <td>1975-1979</td>\n",
       "      <td>7</td>\n",
       "      <td>1</td>\n",
       "      <td>6</td>\n",
       "      <td>0</td>\n",
       "      <td>0</td>\n",
       "      <td>14.28</td>\n",
       "    </tr>\n",
       "    <tr>\n",
       "      <th>1</th>\n",
       "      <td>BS Bedi</td>\n",
       "      <td>1976-1978</td>\n",
       "      <td>4</td>\n",
       "      <td>1</td>\n",
       "      <td>3</td>\n",
       "      <td>0</td>\n",
       "      <td>0</td>\n",
       "      <td>25.00</td>\n",
       "    </tr>\n",
       "    <tr>\n",
       "      <th>2</th>\n",
       "      <td>AL Wadekar</td>\n",
       "      <td>1974-1974</td>\n",
       "      <td>2</td>\n",
       "      <td>0</td>\n",
       "      <td>2</td>\n",
       "      <td>0</td>\n",
       "      <td>0</td>\n",
       "      <td>0.00</td>\n",
       "    </tr>\n",
       "    <tr>\n",
       "      <th>3</th>\n",
       "      <td>SM Gavaskar</td>\n",
       "      <td>1980-1985</td>\n",
       "      <td>37</td>\n",
       "      <td>14</td>\n",
       "      <td>21</td>\n",
       "      <td>0</td>\n",
       "      <td>2</td>\n",
       "      <td>40.00</td>\n",
       "    </tr>\n",
       "    <tr>\n",
       "      <th>4</th>\n",
       "      <td>GR Viswanath</td>\n",
       "      <td>1981-1981</td>\n",
       "      <td>1</td>\n",
       "      <td>0</td>\n",
       "      <td>1</td>\n",
       "      <td>0</td>\n",
       "      <td>0</td>\n",
       "      <td>0.00</td>\n",
       "    </tr>\n",
       "  </tbody>\n",
       "</table>\n",
       "</div>"
      ],
      "text/plain": [
       "         Player       Span  Mat  Won  Lost  Tied  NR   Perc\n",
       "0      S Venkat  1975-1979    7    1     6     0   0  14.28\n",
       "1       BS Bedi  1976-1978    4    1     3     0   0  25.00\n",
       "2    AL Wadekar  1974-1974    2    0     2     0   0   0.00\n",
       "3   SM Gavaskar  1980-1985   37   14    21     0   2  40.00\n",
       "4  GR Viswanath  1981-1981    1    0     1     0   0   0.00"
      ]
     },
     "execution_count": 45,
     "metadata": {},
     "output_type": "execute_result"
    }
   ],
   "source": [
    "df.head()"
   ]
  },
  {
   "cell_type": "markdown",
   "id": "08dd01c9-688f-47d1-a6b6-338617d3fc1a",
   "metadata": {},
   "source": [
    "## Hack to get a single column/row as a DataFrame ( Don't do this )"
   ]
  },
  {
   "cell_type": "code",
   "execution_count": 46,
   "id": "25f9e35a-3a98-4335-bf92-5c8d42931285",
   "metadata": {},
   "outputs": [
    {
     "data": {
      "text/html": [
       "<div>\n",
       "<style scoped>\n",
       "    .dataframe tbody tr th:only-of-type {\n",
       "        vertical-align: middle;\n",
       "    }\n",
       "\n",
       "    .dataframe tbody tr th {\n",
       "        vertical-align: top;\n",
       "    }\n",
       "\n",
       "    .dataframe thead th {\n",
       "        text-align: right;\n",
       "    }\n",
       "</style>\n",
       "<table border=\"1\" class=\"dataframe\">\n",
       "  <thead>\n",
       "    <tr style=\"text-align: right;\">\n",
       "      <th></th>\n",
       "      <th>Player</th>\n",
       "    </tr>\n",
       "  </thead>\n",
       "  <tbody>\n",
       "    <tr>\n",
       "      <th>0</th>\n",
       "      <td>S Venkat</td>\n",
       "    </tr>\n",
       "    <tr>\n",
       "      <th>1</th>\n",
       "      <td>BS Bedi</td>\n",
       "    </tr>\n",
       "    <tr>\n",
       "      <th>2</th>\n",
       "      <td>AL Wadekar</td>\n",
       "    </tr>\n",
       "    <tr>\n",
       "      <th>3</th>\n",
       "      <td>SM Gavaskar</td>\n",
       "    </tr>\n",
       "    <tr>\n",
       "      <th>4</th>\n",
       "      <td>GR Viswanath</td>\n",
       "    </tr>\n",
       "  </tbody>\n",
       "</table>\n",
       "</div>"
      ],
      "text/plain": [
       "         Player\n",
       "0      S Venkat\n",
       "1       BS Bedi\n",
       "2    AL Wadekar\n",
       "3   SM Gavaskar\n",
       "4  GR Viswanath"
      ]
     },
     "execution_count": 46,
     "metadata": {},
     "output_type": "execute_result"
    }
   ],
   "source": [
    "cols = ['Player']\n",
    "df[cols].head()"
   ]
  },
  {
   "cell_type": "code",
   "execution_count": 47,
   "id": "928ec589-c854-4d12-9804-255dc2d32dca",
   "metadata": {},
   "outputs": [
    {
     "data": {
      "text/html": [
       "<div>\n",
       "<style scoped>\n",
       "    .dataframe tbody tr th:only-of-type {\n",
       "        vertical-align: middle;\n",
       "    }\n",
       "\n",
       "    .dataframe tbody tr th {\n",
       "        vertical-align: top;\n",
       "    }\n",
       "\n",
       "    .dataframe thead th {\n",
       "        text-align: right;\n",
       "    }\n",
       "</style>\n",
       "<table border=\"1\" class=\"dataframe\">\n",
       "  <thead>\n",
       "    <tr style=\"text-align: right;\">\n",
       "      <th></th>\n",
       "      <th>Player</th>\n",
       "      <th>Span</th>\n",
       "      <th>Mat</th>\n",
       "      <th>Won</th>\n",
       "      <th>Lost</th>\n",
       "      <th>Tied</th>\n",
       "      <th>NR</th>\n",
       "      <th>Perc</th>\n",
       "    </tr>\n",
       "  </thead>\n",
       "  <tbody>\n",
       "    <tr>\n",
       "      <th>0</th>\n",
       "      <td>S Venkat</td>\n",
       "      <td>1975-1979</td>\n",
       "      <td>7</td>\n",
       "      <td>1</td>\n",
       "      <td>6</td>\n",
       "      <td>0</td>\n",
       "      <td>0</td>\n",
       "      <td>14.28</td>\n",
       "    </tr>\n",
       "  </tbody>\n",
       "</table>\n",
       "</div>"
      ],
      "text/plain": [
       "     Player       Span  Mat  Won  Lost  Tied  NR   Perc\n",
       "0  S Venkat  1975-1979    7    1     6     0   0  14.28"
      ]
     },
     "execution_count": 47,
     "metadata": {},
     "output_type": "execute_result"
    }
   ],
   "source": [
    "rows = [0]\n",
    "df.loc[rows]"
   ]
  },
  {
   "cell_type": "code",
   "execution_count": 52,
   "id": "646233dd-8c03-4dda-ac03-09fcd9b64fea",
   "metadata": {},
   "outputs": [
    {
     "data": {
      "text/plain": [
       "True"
      ]
     },
     "execution_count": 52,
     "metadata": {},
     "output_type": "execute_result"
    }
   ],
   "source": [
    "'pivot' in dir(pd.DataFrame)"
   ]
  },
  {
   "cell_type": "markdown",
   "id": "c2be5858-8c74-4174-8401-4bc1d30be43a",
   "metadata": {},
   "source": [
    "## Fetch the no. of matches Won by S Venkat"
   ]
  },
  {
   "cell_type": "code",
   "execution_count": 55,
   "id": "3dbf3c8f-756f-4385-9b4b-2fbd1ca69001",
   "metadata": {},
   "outputs": [
    {
     "data": {
      "text/plain": [
       "Player     S Venkat\n",
       "Span      1975-1979\n",
       "Mat               7\n",
       "Won               1\n",
       "Lost              6\n",
       "Tied              0\n",
       "NR                0\n",
       "Perc          14.28\n",
       "Name: 0, dtype: object"
      ]
     },
     "execution_count": 55,
     "metadata": {},
     "output_type": "execute_result"
    }
   ],
   "source": [
    "df.loc[0]"
   ]
  },
  {
   "cell_type": "code",
   "execution_count": 56,
   "id": "435ad924-b27c-4479-ab60-00433c5e65c1",
   "metadata": {},
   "outputs": [
    {
     "data": {
      "text/plain": [
       "1"
      ]
     },
     "execution_count": 56,
     "metadata": {},
     "output_type": "execute_result"
    }
   ],
   "source": [
    "df.loc[0]['Won']"
   ]
  },
  {
   "cell_type": "markdown",
   "id": "24bf2398-babb-4fef-b390-c5c1240968b6",
   "metadata": {},
   "source": [
    "## Statistical information about the Dataset"
   ]
  },
  {
   "cell_type": "code",
   "execution_count": 57,
   "id": "64cf22dc-0ff8-45ab-acc2-21bc6e4d0b36",
   "metadata": {},
   "outputs": [
    {
     "data": {
      "text/html": [
       "<div>\n",
       "<style scoped>\n",
       "    .dataframe tbody tr th:only-of-type {\n",
       "        vertical-align: middle;\n",
       "    }\n",
       "\n",
       "    .dataframe tbody tr th {\n",
       "        vertical-align: top;\n",
       "    }\n",
       "\n",
       "    .dataframe thead th {\n",
       "        text-align: right;\n",
       "    }\n",
       "</style>\n",
       "<table border=\"1\" class=\"dataframe\">\n",
       "  <thead>\n",
       "    <tr style=\"text-align: right;\">\n",
       "      <th></th>\n",
       "      <th>Mat</th>\n",
       "      <th>Won</th>\n",
       "      <th>Lost</th>\n",
       "      <th>Tied</th>\n",
       "      <th>NR</th>\n",
       "    </tr>\n",
       "  </thead>\n",
       "  <tbody>\n",
       "    <tr>\n",
       "      <th>count</th>\n",
       "      <td>24.000000</td>\n",
       "      <td>24.000000</td>\n",
       "      <td>24.000000</td>\n",
       "      <td>24.000000</td>\n",
       "      <td>24.000000</td>\n",
       "    </tr>\n",
       "    <tr>\n",
       "      <th>mean</th>\n",
       "      <td>39.250000</td>\n",
       "      <td>20.166667</td>\n",
       "      <td>17.125000</td>\n",
       "      <td>0.291667</td>\n",
       "      <td>1.666667</td>\n",
       "    </tr>\n",
       "    <tr>\n",
       "      <th>std</th>\n",
       "      <td>57.685994</td>\n",
       "      <td>30.958130</td>\n",
       "      <td>24.128843</td>\n",
       "      <td>0.907896</td>\n",
       "      <td>2.792329</td>\n",
       "    </tr>\n",
       "    <tr>\n",
       "      <th>min</th>\n",
       "      <td>1.000000</td>\n",
       "      <td>0.000000</td>\n",
       "      <td>0.000000</td>\n",
       "      <td>0.000000</td>\n",
       "      <td>0.000000</td>\n",
       "    </tr>\n",
       "    <tr>\n",
       "      <th>25%</th>\n",
       "      <td>3.000000</td>\n",
       "      <td>1.000000</td>\n",
       "      <td>1.000000</td>\n",
       "      <td>0.000000</td>\n",
       "      <td>0.000000</td>\n",
       "    </tr>\n",
       "    <tr>\n",
       "      <th>50%</th>\n",
       "      <td>12.000000</td>\n",
       "      <td>6.000000</td>\n",
       "      <td>5.500000</td>\n",
       "      <td>0.000000</td>\n",
       "      <td>0.000000</td>\n",
       "    </tr>\n",
       "    <tr>\n",
       "      <th>75%</th>\n",
       "      <td>57.250000</td>\n",
       "      <td>27.000000</td>\n",
       "      <td>24.000000</td>\n",
       "      <td>0.000000</td>\n",
       "      <td>2.000000</td>\n",
       "    </tr>\n",
       "    <tr>\n",
       "      <th>max</th>\n",
       "      <td>199.000000</td>\n",
       "      <td>110.000000</td>\n",
       "      <td>76.000000</td>\n",
       "      <td>4.000000</td>\n",
       "      <td>11.000000</td>\n",
       "    </tr>\n",
       "  </tbody>\n",
       "</table>\n",
       "</div>"
      ],
      "text/plain": [
       "              Mat         Won       Lost       Tied         NR\n",
       "count   24.000000   24.000000  24.000000  24.000000  24.000000\n",
       "mean    39.250000   20.166667  17.125000   0.291667   1.666667\n",
       "std     57.685994   30.958130  24.128843   0.907896   2.792329\n",
       "min      1.000000    0.000000   0.000000   0.000000   0.000000\n",
       "25%      3.000000    1.000000   1.000000   0.000000   0.000000\n",
       "50%     12.000000    6.000000   5.500000   0.000000   0.000000\n",
       "75%     57.250000   27.000000  24.000000   0.000000   2.000000\n",
       "max    199.000000  110.000000  76.000000   4.000000  11.000000"
      ]
     },
     "execution_count": 57,
     "metadata": {},
     "output_type": "execute_result"
    }
   ],
   "source": [
    "df.describe()"
   ]
  },
  {
   "cell_type": "code",
   "execution_count": 58,
   "id": "e33c09d6-9ea9-4cd4-87ef-5920c5d5bc74",
   "metadata": {},
   "outputs": [
    {
     "data": {
      "text/html": [
       "<div>\n",
       "<style scoped>\n",
       "    .dataframe tbody tr th:only-of-type {\n",
       "        vertical-align: middle;\n",
       "    }\n",
       "\n",
       "    .dataframe tbody tr th {\n",
       "        vertical-align: top;\n",
       "    }\n",
       "\n",
       "    .dataframe thead th {\n",
       "        text-align: right;\n",
       "    }\n",
       "</style>\n",
       "<table border=\"1\" class=\"dataframe\">\n",
       "  <thead>\n",
       "    <tr style=\"text-align: right;\">\n",
       "      <th></th>\n",
       "      <th>Player</th>\n",
       "      <th>Span</th>\n",
       "      <th>Mat</th>\n",
       "      <th>Won</th>\n",
       "      <th>Lost</th>\n",
       "      <th>Tied</th>\n",
       "      <th>NR</th>\n",
       "      <th>Perc</th>\n",
       "    </tr>\n",
       "  </thead>\n",
       "  <tbody>\n",
       "    <tr>\n",
       "      <th>0</th>\n",
       "      <td>S Venkat</td>\n",
       "      <td>1975-1979</td>\n",
       "      <td>7</td>\n",
       "      <td>1</td>\n",
       "      <td>6</td>\n",
       "      <td>0</td>\n",
       "      <td>0</td>\n",
       "      <td>14.28</td>\n",
       "    </tr>\n",
       "    <tr>\n",
       "      <th>1</th>\n",
       "      <td>BS Bedi</td>\n",
       "      <td>1976-1978</td>\n",
       "      <td>4</td>\n",
       "      <td>1</td>\n",
       "      <td>3</td>\n",
       "      <td>0</td>\n",
       "      <td>0</td>\n",
       "      <td>25.00</td>\n",
       "    </tr>\n",
       "    <tr>\n",
       "      <th>2</th>\n",
       "      <td>AL Wadekar</td>\n",
       "      <td>1974-1974</td>\n",
       "      <td>2</td>\n",
       "      <td>0</td>\n",
       "      <td>2</td>\n",
       "      <td>0</td>\n",
       "      <td>0</td>\n",
       "      <td>0.00</td>\n",
       "    </tr>\n",
       "    <tr>\n",
       "      <th>3</th>\n",
       "      <td>SM Gavaskar</td>\n",
       "      <td>1980-1985</td>\n",
       "      <td>37</td>\n",
       "      <td>14</td>\n",
       "      <td>21</td>\n",
       "      <td>0</td>\n",
       "      <td>2</td>\n",
       "      <td>40.00</td>\n",
       "    </tr>\n",
       "    <tr>\n",
       "      <th>4</th>\n",
       "      <td>GR Viswanath</td>\n",
       "      <td>1981-1981</td>\n",
       "      <td>1</td>\n",
       "      <td>0</td>\n",
       "      <td>1</td>\n",
       "      <td>0</td>\n",
       "      <td>0</td>\n",
       "      <td>0.00</td>\n",
       "    </tr>\n",
       "  </tbody>\n",
       "</table>\n",
       "</div>"
      ],
      "text/plain": [
       "         Player       Span  Mat  Won  Lost  Tied  NR   Perc\n",
       "0      S Venkat  1975-1979    7    1     6     0   0  14.28\n",
       "1       BS Bedi  1976-1978    4    1     3     0   0  25.00\n",
       "2    AL Wadekar  1974-1974    2    0     2     0   0   0.00\n",
       "3   SM Gavaskar  1980-1985   37   14    21     0   2  40.00\n",
       "4  GR Viswanath  1981-1981    1    0     1     0   0   0.00"
      ]
     },
     "execution_count": 58,
     "metadata": {},
     "output_type": "execute_result"
    }
   ],
   "source": [
    "df.head()"
   ]
  },
  {
   "cell_type": "code",
   "execution_count": 61,
   "id": "3ed4e682-9a5d-4e5f-a14a-dfa26b782d60",
   "metadata": {},
   "outputs": [
    {
     "data": {
      "text/plain": [
       "0     7\n",
       "1     4\n",
       "2     2\n",
       "3    37\n",
       "4     1\n",
       "Name: Mat, dtype: int64"
      ]
     },
     "execution_count": 61,
     "metadata": {},
     "output_type": "execute_result"
    }
   ],
   "source": [
    "df.Mat.head() # Dot-notation"
   ]
  },
  {
   "cell_type": "code",
   "execution_count": 64,
   "id": "f11a404b-5180-4137-8d73-1eb8a25c9a58",
   "metadata": {},
   "outputs": [
    {
     "data": {
      "text/plain": [
       "<AxesSubplot:ylabel='Frequency'>"
      ]
     },
     "execution_count": 64,
     "metadata": {},
     "output_type": "execute_result"
    },
    {
     "data": {
      "image/png": "[encoded data removed]",
      "text/plain": [
       "<Figure size 432x288 with 1 Axes>"
      ]
     },
     "metadata": {
      "needs_background": "light"
     },
     "output_type": "display_data"
    }
   ],
   "source": [
    "df.Mat.plot.hist()"
   ]
  },
  {
   "cell_type": "code",
   "execution_count": 65,
   "id": "4712b6e2-0959-4f08-8ae7-87fafca1012c",
   "metadata": {},
   "outputs": [],
   "source": [
    "import seaborn as sns"
   ]
  },
  {
   "cell_type": "code",
   "execution_count": 67,
   "id": "2c52b204-d6cb-4090-9226-6bafcaa5a799",
   "metadata": {},
   "outputs": [
    {
     "data": {
      "text/plain": [
       "<AxesSubplot:xlabel='Mat', ylabel='Count'>"
      ]
     },
     "execution_count": 67,
     "metadata": {},
     "output_type": "execute_result"
    },
    {
     "data": {
      "image/png": "[encoded data removed]",
      "text/plain": [
       "<Figure size 432x288 with 1 Axes>"
      ]
     },
     "metadata": {
      "needs_background": "light"
     },
     "output_type": "display_data"
    }
   ],
   "source": [
    "sns.histplot(data=df,\n",
    "             x=\"Mat\",\n",
    "             kde=True,\n",
    "            )"
   ]
  },
  {
   "cell_type": "code",
   "execution_count": 69,
   "id": "8cc95f89-5876-416f-98e1-f0696d3af4eb",
   "metadata": {},
   "outputs": [
    {
     "data": {
      "text/plain": [
       "<AxesSubplot:>"
      ]
     },
     "execution_count": 69,
     "metadata": {},
     "output_type": "execute_result"
    },
    {
     "data": {
      "image/png": "[encoded data removed]",
      "text/plain": [
       "<Figure size 432x288 with 1 Axes>"
      ]
     },
     "metadata": {
      "needs_background": "light"
     },
     "output_type": "display_data"
    }
   ],
   "source": [
    "df.Mat.plot.box(vert=False)"
   ]
  },
  {
   "cell_type": "markdown",
   "id": "983300ff-34b1-4e00-a413-4f009a53e460",
   "metadata": {},
   "source": [
    "## Inference\n",
    "\n",
    "The scores for India's innings in a cricket match\n",
    "\n",
    "- Rohit : 2,\n",
    "- Gill : 5,\n",
    "- Virat : 3,\n",
    "- Iyer : 78,\n",
    "- Rahul : 120"
   ]
  },
  {
   "cell_type": "markdown",
   "id": "4cb676d1-26b5-471b-884d-243d712937d4",
   "metadata": {},
   "source": [
    "Information\n",
    "\n",
    "- Majority of runs are scored by Iyer and Rahul\n",
    "- Iyer and Rahul played well compard to others\n",
    "- Iyer and Rahul are outliers\n",
    "- Data is left skewed\n",
    "- Rahul is the highest scorer\n",
    "\n",
    "Inference\n",
    "\n",
    "- India had a bad start. \n",
    "- Middle order stabilised the innings\n",
    "- Opponent bowlers were bowling tight lines and took early wickets"
   ]
  },
  {
   "cell_type": "code",
   "execution_count": 71,
   "id": "18f95cba-d6c3-4441-910d-9045aa9b4879",
   "metadata": {},
   "outputs": [
    {
     "data": {
      "text/html": [
       "<div>\n",
       "<style scoped>\n",
       "    .dataframe tbody tr th:only-of-type {\n",
       "        vertical-align: middle;\n",
       "    }\n",
       "\n",
       "    .dataframe tbody tr th {\n",
       "        vertical-align: top;\n",
       "    }\n",
       "\n",
       "    .dataframe thead th {\n",
       "        text-align: right;\n",
       "    }\n",
       "</style>\n",
       "<table border=\"1\" class=\"dataframe\">\n",
       "  <thead>\n",
       "    <tr style=\"text-align: right;\">\n",
       "      <th></th>\n",
       "      <th>Player</th>\n",
       "      <th>Span</th>\n",
       "      <th>Mat</th>\n",
       "      <th>Won</th>\n",
       "      <th>Lost</th>\n",
       "      <th>Tied</th>\n",
       "      <th>NR</th>\n",
       "      <th>Perc</th>\n",
       "    </tr>\n",
       "  </thead>\n",
       "  <tbody>\n",
       "    <tr>\n",
       "      <th>0</th>\n",
       "      <td>S Venkat</td>\n",
       "      <td>1975-1979</td>\n",
       "      <td>7</td>\n",
       "      <td>1</td>\n",
       "      <td>6</td>\n",
       "      <td>0</td>\n",
       "      <td>0</td>\n",
       "      <td>14.28</td>\n",
       "    </tr>\n",
       "    <tr>\n",
       "      <th>1</th>\n",
       "      <td>BS Bedi</td>\n",
       "      <td>1976-1978</td>\n",
       "      <td>4</td>\n",
       "      <td>1</td>\n",
       "      <td>3</td>\n",
       "      <td>0</td>\n",
       "      <td>0</td>\n",
       "      <td>25.00</td>\n",
       "    </tr>\n",
       "    <tr>\n",
       "      <th>2</th>\n",
       "      <td>AL Wadekar</td>\n",
       "      <td>1974-1974</td>\n",
       "      <td>2</td>\n",
       "      <td>0</td>\n",
       "      <td>2</td>\n",
       "      <td>0</td>\n",
       "      <td>0</td>\n",
       "      <td>0.00</td>\n",
       "    </tr>\n",
       "    <tr>\n",
       "      <th>3</th>\n",
       "      <td>SM Gavaskar</td>\n",
       "      <td>1980-1985</td>\n",
       "      <td>37</td>\n",
       "      <td>14</td>\n",
       "      <td>21</td>\n",
       "      <td>0</td>\n",
       "      <td>2</td>\n",
       "      <td>40.00</td>\n",
       "    </tr>\n",
       "    <tr>\n",
       "      <th>4</th>\n",
       "      <td>GR Viswanath</td>\n",
       "      <td>1981-1981</td>\n",
       "      <td>1</td>\n",
       "      <td>0</td>\n",
       "      <td>1</td>\n",
       "      <td>0</td>\n",
       "      <td>0</td>\n",
       "      <td>0.00</td>\n",
       "    </tr>\n",
       "  </tbody>\n",
       "</table>\n",
       "</div>"
      ],
      "text/plain": [
       "         Player       Span  Mat  Won  Lost  Tied  NR   Perc\n",
       "0      S Venkat  1975-1979    7    1     6     0   0  14.28\n",
       "1       BS Bedi  1976-1978    4    1     3     0   0  25.00\n",
       "2    AL Wadekar  1974-1974    2    0     2     0   0   0.00\n",
       "3   SM Gavaskar  1980-1985   37   14    21     0   2  40.00\n",
       "4  GR Viswanath  1981-1981    1    0     1     0   0   0.00"
      ]
     },
     "execution_count": 71,
     "metadata": {},
     "output_type": "execute_result"
    }
   ],
   "source": [
    "df.head()"
   ]
  },
  {
   "cell_type": "markdown",
   "id": "58cf0c0d-27a0-402e-b4c8-5d249b719c75",
   "metadata": {},
   "source": [
    "- Fetch information for \"N Kapil Dev\"\n",
    "\n",
    "Thinking process ??\n",
    "\n",
    "- Which row contains \"N Kapil Dev\"\n",
    "- Pick the row label for that row\n",
    "\n",
    "For Kapil, the row label is `5`"
   ]
  },
  {
   "cell_type": "code",
   "execution_count": 77,
   "id": "c4879b4b-443a-4d3f-8485-3fe292a9ba0d",
   "metadata": {},
   "outputs": [
    {
     "data": {
      "text/plain": [
       "Player    N Kapil Dev\n",
       "Span        1982-1987\n",
       "Mat                74\n",
       "Won                39\n",
       "Lost               33\n",
       "Tied                0\n",
       "NR                  2\n",
       "Perc            54.16\n",
       "Name: 5, dtype: object"
      ]
     },
     "execution_count": 77,
     "metadata": {},
     "output_type": "execute_result"
    }
   ],
   "source": [
    "df.loc[5] # Row label"
   ]
  },
  {
   "cell_type": "code",
   "execution_count": 78,
   "id": "0d298816-0660-4573-b235-3278474aee30",
   "metadata": {},
   "outputs": [
    {
     "data": {
      "text/plain": [
       "Player    N Kapil Dev\n",
       "Span        1982-1987\n",
       "Mat                74\n",
       "Won                39\n",
       "Lost               33\n",
       "Tied                0\n",
       "NR                  2\n",
       "Perc            54.16\n",
       "Name: 5, dtype: object"
      ]
     },
     "execution_count": 78,
     "metadata": {},
     "output_type": "execute_result"
    }
   ],
   "source": [
    "df.iloc[5] # Row index : This is just a coincidence"
   ]
  },
  {
   "cell_type": "code",
   "execution_count": 82,
   "id": "ad4dff20-4de9-4f90-9558-299645b28a3a",
   "metadata": {},
   "outputs": [
    {
     "data": {
      "text/html": [
       "<div>\n",
       "<style scoped>\n",
       "    .dataframe tbody tr th:only-of-type {\n",
       "        vertical-align: middle;\n",
       "    }\n",
       "\n",
       "    .dataframe tbody tr th {\n",
       "        vertical-align: top;\n",
       "    }\n",
       "\n",
       "    .dataframe thead th {\n",
       "        text-align: right;\n",
       "    }\n",
       "</style>\n",
       "<table border=\"1\" class=\"dataframe\">\n",
       "  <thead>\n",
       "    <tr style=\"text-align: right;\">\n",
       "      <th></th>\n",
       "      <th>Player</th>\n",
       "      <th>Span</th>\n",
       "      <th>Mat</th>\n",
       "      <th>Won</th>\n",
       "      <th>Lost</th>\n",
       "      <th>Tied</th>\n",
       "      <th>NR</th>\n",
       "      <th>Perc</th>\n",
       "    </tr>\n",
       "  </thead>\n",
       "  <tbody>\n",
       "    <tr>\n",
       "      <th>10</th>\n",
       "      <td>K Srikkanth</td>\n",
       "      <td>1989-1989</td>\n",
       "      <td>13</td>\n",
       "      <td>4</td>\n",
       "      <td>8</td>\n",
       "      <td>0</td>\n",
       "      <td>1</td>\n",
       "      <td>33.33</td>\n",
       "    </tr>\n",
       "    <tr>\n",
       "      <th>11</th>\n",
       "      <td>M Azharuddin</td>\n",
       "      <td>1990-1999</td>\n",
       "      <td>174</td>\n",
       "      <td>90</td>\n",
       "      <td>76</td>\n",
       "      <td>2</td>\n",
       "      <td>6</td>\n",
       "      <td>54.16</td>\n",
       "    </tr>\n",
       "    <tr>\n",
       "      <th>12</th>\n",
       "      <td>SR Tendulkar</td>\n",
       "      <td>1996-2000</td>\n",
       "      <td>73</td>\n",
       "      <td>23</td>\n",
       "      <td>43</td>\n",
       "      <td>1</td>\n",
       "      <td>6</td>\n",
       "      <td>35.07</td>\n",
       "    </tr>\n",
       "    <tr>\n",
       "      <th>13</th>\n",
       "      <td>A Jadeja</td>\n",
       "      <td>1998-1999</td>\n",
       "      <td>13</td>\n",
       "      <td>8</td>\n",
       "      <td>5</td>\n",
       "      <td>0</td>\n",
       "      <td>0</td>\n",
       "      <td>61.53</td>\n",
       "    </tr>\n",
       "    <tr>\n",
       "      <th>14</th>\n",
       "      <td>SC Ganguly</td>\n",
       "      <td>1999-2005</td>\n",
       "      <td>146</td>\n",
       "      <td>76</td>\n",
       "      <td>65</td>\n",
       "      <td>0</td>\n",
       "      <td>5</td>\n",
       "      <td>53.90</td>\n",
       "    </tr>\n",
       "  </tbody>\n",
       "</table>\n",
       "</div>"
      ],
      "text/plain": [
       "          Player       Span  Mat  Won  Lost  Tied  NR   Perc\n",
       "10   K Srikkanth  1989-1989   13    4     8     0   1  33.33\n",
       "11  M Azharuddin  1990-1999  174   90    76     2   6  54.16\n",
       "12  SR Tendulkar  1996-2000   73   23    43     1   6  35.07\n",
       "13      A Jadeja  1998-1999   13    8     5     0   0  61.53\n",
       "14    SC Ganguly  1999-2005  146   76    65     0   5  53.90"
      ]
     },
     "execution_count": 82,
     "metadata": {},
     "output_type": "execute_result"
    }
   ],
   "source": [
    "df_filtered = df.head(15).tail(5)\n",
    "df_filtered"
   ]
  },
  {
   "cell_type": "markdown",
   "id": "a9ad9b95-ee03-4cf4-a908-8f5c5e4c7726",
   "metadata": {},
   "source": [
    "- Fetch information A Jadeja"
   ]
  },
  {
   "cell_type": "code",
   "execution_count": 83,
   "id": "24aa3939-f87d-4284-a837-8fe042bc1f14",
   "metadata": {},
   "outputs": [
    {
     "data": {
      "text/plain": [
       "Player     A Jadeja\n",
       "Span      1998-1999\n",
       "Mat              13\n",
       "Won               8\n",
       "Lost              5\n",
       "Tied              0\n",
       "NR                0\n",
       "Perc          61.53\n",
       "Name: 13, dtype: object"
      ]
     },
     "execution_count": 83,
     "metadata": {},
     "output_type": "execute_result"
    }
   ],
   "source": [
    "df_filtered.loc[13]"
   ]
  },
  {
   "cell_type": "code",
   "execution_count": 85,
   "id": "cd5dc7f5-54a0-47a0-8629-ad73d65ed666",
   "metadata": {},
   "outputs": [
    {
     "data": {
      "text/plain": [
       "Player     A Jadeja\n",
       "Span      1998-1999\n",
       "Mat              13\n",
       "Won               8\n",
       "Lost              5\n",
       "Tied              0\n",
       "NR                0\n",
       "Perc          61.53\n",
       "Name: 13, dtype: object"
      ]
     },
     "execution_count": 85,
     "metadata": {},
     "output_type": "execute_result"
    }
   ],
   "source": [
    "df_filtered.iloc[3] #.iloc[-2]"
   ]
  },
  {
   "cell_type": "markdown",
   "id": "540f5226-4115-445e-99cd-f98a208daadc",
   "metadata": {},
   "source": [
    "- How can I make the Player names as my row labels ?"
   ]
  },
  {
   "cell_type": "code",
   "execution_count": 88,
   "id": "e773089d-5799-4df5-9d32-bf16c99005f3",
   "metadata": {},
   "outputs": [
    {
     "data": {
      "text/html": [
       "<div>\n",
       "<style scoped>\n",
       "    .dataframe tbody tr th:only-of-type {\n",
       "        vertical-align: middle;\n",
       "    }\n",
       "\n",
       "    .dataframe tbody tr th {\n",
       "        vertical-align: top;\n",
       "    }\n",
       "\n",
       "    .dataframe thead th {\n",
       "        text-align: right;\n",
       "    }\n",
       "</style>\n",
       "<table border=\"1\" class=\"dataframe\">\n",
       "  <thead>\n",
       "    <tr style=\"text-align: right;\">\n",
       "      <th></th>\n",
       "      <th>Span</th>\n",
       "      <th>Mat</th>\n",
       "      <th>Won</th>\n",
       "      <th>Lost</th>\n",
       "      <th>Tied</th>\n",
       "      <th>NR</th>\n",
       "      <th>Perc</th>\n",
       "    </tr>\n",
       "    <tr>\n",
       "      <th>Player</th>\n",
       "      <th></th>\n",
       "      <th></th>\n",
       "      <th></th>\n",
       "      <th></th>\n",
       "      <th></th>\n",
       "      <th></th>\n",
       "      <th></th>\n",
       "    </tr>\n",
       "  </thead>\n",
       "  <tbody>\n",
       "    <tr>\n",
       "      <th>S Venkat</th>\n",
       "      <td>1975-1979</td>\n",
       "      <td>7</td>\n",
       "      <td>1</td>\n",
       "      <td>6</td>\n",
       "      <td>0</td>\n",
       "      <td>0</td>\n",
       "      <td>14.28</td>\n",
       "    </tr>\n",
       "    <tr>\n",
       "      <th>BS Bedi</th>\n",
       "      <td>1976-1978</td>\n",
       "      <td>4</td>\n",
       "      <td>1</td>\n",
       "      <td>3</td>\n",
       "      <td>0</td>\n",
       "      <td>0</td>\n",
       "      <td>25.00</td>\n",
       "    </tr>\n",
       "    <tr>\n",
       "      <th>AL Wadekar</th>\n",
       "      <td>1974-1974</td>\n",
       "      <td>2</td>\n",
       "      <td>0</td>\n",
       "      <td>2</td>\n",
       "      <td>0</td>\n",
       "      <td>0</td>\n",
       "      <td>0.00</td>\n",
       "    </tr>\n",
       "    <tr>\n",
       "      <th>SM Gavaskar</th>\n",
       "      <td>1980-1985</td>\n",
       "      <td>37</td>\n",
       "      <td>14</td>\n",
       "      <td>21</td>\n",
       "      <td>0</td>\n",
       "      <td>2</td>\n",
       "      <td>40.00</td>\n",
       "    </tr>\n",
       "    <tr>\n",
       "      <th>GR Viswanath</th>\n",
       "      <td>1981-1981</td>\n",
       "      <td>1</td>\n",
       "      <td>0</td>\n",
       "      <td>1</td>\n",
       "      <td>0</td>\n",
       "      <td>0</td>\n",
       "      <td>0.00</td>\n",
       "    </tr>\n",
       "  </tbody>\n",
       "</table>\n",
       "</div>"
      ],
      "text/plain": [
       "                   Span  Mat  Won  Lost  Tied  NR   Perc\n",
       "Player                                                  \n",
       "S Venkat      1975-1979    7    1     6     0   0  14.28\n",
       "BS Bedi       1976-1978    4    1     3     0   0  25.00\n",
       "AL Wadekar    1974-1974    2    0     2     0   0   0.00\n",
       "SM Gavaskar   1980-1985   37   14    21     0   2  40.00\n",
       "GR Viswanath  1981-1981    1    0     1     0   0   0.00"
      ]
     },
     "execution_count": 88,
     "metadata": {},
     "output_type": "execute_result"
    }
   ],
   "source": [
    "df_player = df.set_index('Player')\n",
    "df_player.head()"
   ]
  },
  {
   "cell_type": "markdown",
   "id": "1498a9db-74f5-466a-b1fc-d5f9444b77c8",
   "metadata": {},
   "source": [
    "- Fetch information A Jadeja\n",
    "\n",
    "Thinking process ?\n",
    "\n",
    "- A Jadeja itself is the row label"
   ]
  },
  {
   "cell_type": "code",
   "execution_count": 89,
   "id": "1f7d904e-e1ca-42b5-8bb7-d820a430b858",
   "metadata": {},
   "outputs": [
    {
     "data": {
      "text/plain": [
       "Span    1998-1999\n",
       "Mat            13\n",
       "Won             8\n",
       "Lost            5\n",
       "Tied            0\n",
       "NR              0\n",
       "Perc        61.53\n",
       "Name: A Jadeja, dtype: object"
      ]
     },
     "execution_count": 89,
     "metadata": {},
     "output_type": "execute_result"
    }
   ],
   "source": [
    "df_player.loc['A Jadeja']"
   ]
  },
  {
   "cell_type": "markdown",
   "id": "a2f337d4-46e8-4a46-9422-ffdd4f44e278",
   "metadata": {},
   "source": [
    "- From `df_player`, fetch me the 3rd last row"
   ]
  },
  {
   "cell_type": "code",
   "execution_count": 90,
   "id": "0dd590da-b990-42f8-8dff-0ad7228d37eb",
   "metadata": {},
   "outputs": [
    {
     "data": {
      "text/plain": [
       "Span    2013-2018\n",
       "Mat            52\n",
       "Won            39\n",
       "Lost           12\n",
       "Tied            0\n",
       "NR              1\n",
       "Perc        76.47\n",
       "Name: V Kohli, dtype: object"
      ]
     },
     "execution_count": 90,
     "metadata": {},
     "output_type": "execute_result"
    }
   ],
   "source": [
    "df_player.iloc[-3]"
   ]
  },
  {
   "cell_type": "markdown",
   "id": "9d40eb45-1da8-487a-af4b-9af29d6f97ce",
   "metadata": {},
   "source": [
    "- Round about way of fetching information for A Jadeja\n",
    "\n",
    "Thinking process??\n",
    "\n",
    "- Filter the row based on Player name"
   ]
  },
  {
   "cell_type": "code",
   "execution_count": 93,
   "id": "93d13fba-3438-49ea-a568-59d793acfdfe",
   "metadata": {},
   "outputs": [
    {
     "data": {
      "text/html": [
       "<div>\n",
       "<style scoped>\n",
       "    .dataframe tbody tr th:only-of-type {\n",
       "        vertical-align: middle;\n",
       "    }\n",
       "\n",
       "    .dataframe tbody tr th {\n",
       "        vertical-align: top;\n",
       "    }\n",
       "\n",
       "    .dataframe thead th {\n",
       "        text-align: right;\n",
       "    }\n",
       "</style>\n",
       "<table border=\"1\" class=\"dataframe\">\n",
       "  <thead>\n",
       "    <tr style=\"text-align: right;\">\n",
       "      <th></th>\n",
       "      <th>Player</th>\n",
       "      <th>Span</th>\n",
       "      <th>Mat</th>\n",
       "      <th>Won</th>\n",
       "      <th>Lost</th>\n",
       "      <th>Tied</th>\n",
       "      <th>NR</th>\n",
       "      <th>Perc</th>\n",
       "    </tr>\n",
       "  </thead>\n",
       "  <tbody>\n",
       "    <tr>\n",
       "      <th>13</th>\n",
       "      <td>A Jadeja</td>\n",
       "      <td>1998-1999</td>\n",
       "      <td>13</td>\n",
       "      <td>8</td>\n",
       "      <td>5</td>\n",
       "      <td>0</td>\n",
       "      <td>0</td>\n",
       "      <td>61.53</td>\n",
       "    </tr>\n",
       "  </tbody>\n",
       "</table>\n",
       "</div>"
      ],
      "text/plain": [
       "      Player       Span  Mat  Won  Lost  Tied  NR   Perc\n",
       "13  A Jadeja  1998-1999   13    8     5     0   0  61.53"
      ]
     },
     "execution_count": 93,
     "metadata": {},
     "output_type": "execute_result"
    }
   ],
   "source": [
    "df[ df.Player == \"A Jadeja\" ]"
   ]
  },
  {
   "cell_type": "markdown",
   "id": "b71ce4fe-29c1-4f41-aea3-f18522ecaeb2",
   "metadata": {},
   "source": [
    "## Slicing columns and rows"
   ]
  },
  {
   "cell_type": "code",
   "execution_count": 94,
   "id": "e1dce110-e938-4cb3-a1fd-301c0bba8653",
   "metadata": {},
   "outputs": [
    {
     "data": {
      "text/html": [
       "<div>\n",
       "<style scoped>\n",
       "    .dataframe tbody tr th:only-of-type {\n",
       "        vertical-align: middle;\n",
       "    }\n",
       "\n",
       "    .dataframe tbody tr th {\n",
       "        vertical-align: top;\n",
       "    }\n",
       "\n",
       "    .dataframe thead th {\n",
       "        text-align: right;\n",
       "    }\n",
       "</style>\n",
       "<table border=\"1\" class=\"dataframe\">\n",
       "  <thead>\n",
       "    <tr style=\"text-align: right;\">\n",
       "      <th></th>\n",
       "      <th>Player</th>\n",
       "      <th>Span</th>\n",
       "      <th>Mat</th>\n",
       "      <th>Won</th>\n",
       "      <th>Lost</th>\n",
       "      <th>Tied</th>\n",
       "      <th>NR</th>\n",
       "      <th>Perc</th>\n",
       "    </tr>\n",
       "  </thead>\n",
       "  <tbody>\n",
       "    <tr>\n",
       "      <th>0</th>\n",
       "      <td>S Venkat</td>\n",
       "      <td>1975-1979</td>\n",
       "      <td>7</td>\n",
       "      <td>1</td>\n",
       "      <td>6</td>\n",
       "      <td>0</td>\n",
       "      <td>0</td>\n",
       "      <td>14.28</td>\n",
       "    </tr>\n",
       "    <tr>\n",
       "      <th>1</th>\n",
       "      <td>BS Bedi</td>\n",
       "      <td>1976-1978</td>\n",
       "      <td>4</td>\n",
       "      <td>1</td>\n",
       "      <td>3</td>\n",
       "      <td>0</td>\n",
       "      <td>0</td>\n",
       "      <td>25.00</td>\n",
       "    </tr>\n",
       "    <tr>\n",
       "      <th>2</th>\n",
       "      <td>AL Wadekar</td>\n",
       "      <td>1974-1974</td>\n",
       "      <td>2</td>\n",
       "      <td>0</td>\n",
       "      <td>2</td>\n",
       "      <td>0</td>\n",
       "      <td>0</td>\n",
       "      <td>0.00</td>\n",
       "    </tr>\n",
       "    <tr>\n",
       "      <th>3</th>\n",
       "      <td>SM Gavaskar</td>\n",
       "      <td>1980-1985</td>\n",
       "      <td>37</td>\n",
       "      <td>14</td>\n",
       "      <td>21</td>\n",
       "      <td>0</td>\n",
       "      <td>2</td>\n",
       "      <td>40.00</td>\n",
       "    </tr>\n",
       "    <tr>\n",
       "      <th>4</th>\n",
       "      <td>GR Viswanath</td>\n",
       "      <td>1981-1981</td>\n",
       "      <td>1</td>\n",
       "      <td>0</td>\n",
       "      <td>1</td>\n",
       "      <td>0</td>\n",
       "      <td>0</td>\n",
       "      <td>0.00</td>\n",
       "    </tr>\n",
       "  </tbody>\n",
       "</table>\n",
       "</div>"
      ],
      "text/plain": [
       "         Player       Span  Mat  Won  Lost  Tied  NR   Perc\n",
       "0      S Venkat  1975-1979    7    1     6     0   0  14.28\n",
       "1       BS Bedi  1976-1978    4    1     3     0   0  25.00\n",
       "2    AL Wadekar  1974-1974    2    0     2     0   0   0.00\n",
       "3   SM Gavaskar  1980-1985   37   14    21     0   2  40.00\n",
       "4  GR Viswanath  1981-1981    1    0     1     0   0   0.00"
      ]
     },
     "execution_count": 94,
     "metadata": {},
     "output_type": "execute_result"
    }
   ],
   "source": [
    "df.head()"
   ]
  },
  {
   "cell_type": "markdown",
   "id": "992c6657-4776-44e6-af17-8ea29551d07b",
   "metadata": {},
   "source": [
    "- `df.iloc[row_index, col_index]`"
   ]
  },
  {
   "cell_type": "code",
   "execution_count": 108,
   "id": "4d8d7743-dafa-4a30-bfc6-efd13a39da26",
   "metadata": {},
   "outputs": [
    {
     "data": {
      "text/plain": [
       "7"
      ]
     },
     "execution_count": 108,
     "metadata": {},
     "output_type": "execute_result"
    }
   ],
   "source": [
    "df.iloc[0, 2]"
   ]
  },
  {
   "cell_type": "code",
   "execution_count": 109,
   "id": "92d247c9-5c62-418b-a0e3-b1b56cf4f934",
   "metadata": {},
   "outputs": [
    {
     "data": {
      "text/plain": [
       "Player     S Venkat\n",
       "Span      1975-1979\n",
       "Name: 0, dtype: object"
      ]
     },
     "execution_count": 109,
     "metadata": {},
     "output_type": "execute_result"
    }
   ],
   "source": [
    "df.iloc[0, :2]"
   ]
  },
  {
   "cell_type": "code",
   "execution_count": 110,
   "id": "4a34a1f2-9b18-4b37-86c4-189032fb5daa",
   "metadata": {},
   "outputs": [
    {
     "data": {
      "text/html": [
       "<div>\n",
       "<style scoped>\n",
       "    .dataframe tbody tr th:only-of-type {\n",
       "        vertical-align: middle;\n",
       "    }\n",
       "\n",
       "    .dataframe tbody tr th {\n",
       "        vertical-align: top;\n",
       "    }\n",
       "\n",
       "    .dataframe thead th {\n",
       "        text-align: right;\n",
       "    }\n",
       "</style>\n",
       "<table border=\"1\" class=\"dataframe\">\n",
       "  <thead>\n",
       "    <tr style=\"text-align: right;\">\n",
       "      <th></th>\n",
       "      <th>Player</th>\n",
       "      <th>Span</th>\n",
       "    </tr>\n",
       "  </thead>\n",
       "  <tbody>\n",
       "    <tr>\n",
       "      <th>0</th>\n",
       "      <td>S Venkat</td>\n",
       "      <td>1975-1979</td>\n",
       "    </tr>\n",
       "    <tr>\n",
       "      <th>1</th>\n",
       "      <td>BS Bedi</td>\n",
       "      <td>1976-1978</td>\n",
       "    </tr>\n",
       "  </tbody>\n",
       "</table>\n",
       "</div>"
      ],
      "text/plain": [
       "     Player       Span\n",
       "0  S Venkat  1975-1979\n",
       "1   BS Bedi  1976-1978"
      ]
     },
     "execution_count": 110,
     "metadata": {},
     "output_type": "execute_result"
    }
   ],
   "source": [
    "df.iloc[:2, :2]"
   ]
  },
  {
   "cell_type": "code",
   "execution_count": 111,
   "id": "3ead198e-ad86-4495-861e-280881a794ac",
   "metadata": {},
   "outputs": [
    {
     "data": {
      "text/html": [
       "<div>\n",
       "<style scoped>\n",
       "    .dataframe tbody tr th:only-of-type {\n",
       "        vertical-align: middle;\n",
       "    }\n",
       "\n",
       "    .dataframe tbody tr th {\n",
       "        vertical-align: top;\n",
       "    }\n",
       "\n",
       "    .dataframe thead th {\n",
       "        text-align: right;\n",
       "    }\n",
       "</style>\n",
       "<table border=\"1\" class=\"dataframe\">\n",
       "  <thead>\n",
       "    <tr style=\"text-align: right;\">\n",
       "      <th></th>\n",
       "      <th>Player</th>\n",
       "      <th>Span</th>\n",
       "      <th>Mat</th>\n",
       "      <th>Won</th>\n",
       "      <th>Lost</th>\n",
       "      <th>Tied</th>\n",
       "      <th>NR</th>\n",
       "      <th>Perc</th>\n",
       "    </tr>\n",
       "  </thead>\n",
       "  <tbody>\n",
       "    <tr>\n",
       "      <th>0</th>\n",
       "      <td>S Venkat</td>\n",
       "      <td>1975-1979</td>\n",
       "      <td>7</td>\n",
       "      <td>1</td>\n",
       "      <td>6</td>\n",
       "      <td>0</td>\n",
       "      <td>0</td>\n",
       "      <td>14.28</td>\n",
       "    </tr>\n",
       "    <tr>\n",
       "      <th>1</th>\n",
       "      <td>BS Bedi</td>\n",
       "      <td>1976-1978</td>\n",
       "      <td>4</td>\n",
       "      <td>1</td>\n",
       "      <td>3</td>\n",
       "      <td>0</td>\n",
       "      <td>0</td>\n",
       "      <td>25.00</td>\n",
       "    </tr>\n",
       "    <tr>\n",
       "      <th>2</th>\n",
       "      <td>AL Wadekar</td>\n",
       "      <td>1974-1974</td>\n",
       "      <td>2</td>\n",
       "      <td>0</td>\n",
       "      <td>2</td>\n",
       "      <td>0</td>\n",
       "      <td>0</td>\n",
       "      <td>0.00</td>\n",
       "    </tr>\n",
       "    <tr>\n",
       "      <th>3</th>\n",
       "      <td>SM Gavaskar</td>\n",
       "      <td>1980-1985</td>\n",
       "      <td>37</td>\n",
       "      <td>14</td>\n",
       "      <td>21</td>\n",
       "      <td>0</td>\n",
       "      <td>2</td>\n",
       "      <td>40.00</td>\n",
       "    </tr>\n",
       "    <tr>\n",
       "      <th>4</th>\n",
       "      <td>GR Viswanath</td>\n",
       "      <td>1981-1981</td>\n",
       "      <td>1</td>\n",
       "      <td>0</td>\n",
       "      <td>1</td>\n",
       "      <td>0</td>\n",
       "      <td>0</td>\n",
       "      <td>0.00</td>\n",
       "    </tr>\n",
       "  </tbody>\n",
       "</table>\n",
       "</div>"
      ],
      "text/plain": [
       "         Player       Span  Mat  Won  Lost  Tied  NR   Perc\n",
       "0      S Venkat  1975-1979    7    1     6     0   0  14.28\n",
       "1       BS Bedi  1976-1978    4    1     3     0   0  25.00\n",
       "2    AL Wadekar  1974-1974    2    0     2     0   0   0.00\n",
       "3   SM Gavaskar  1980-1985   37   14    21     0   2  40.00\n",
       "4  GR Viswanath  1981-1981    1    0     1     0   0   0.00"
      ]
     },
     "execution_count": 111,
     "metadata": {},
     "output_type": "execute_result"
    }
   ],
   "source": [
    "df.head()"
   ]
  },
  {
   "cell_type": "code",
   "execution_count": 112,
   "id": "cc2d65b7-4028-43b7-b2f7-b2d94d352351",
   "metadata": {},
   "outputs": [
    {
     "data": {
      "text/html": [
       "<div>\n",
       "<style scoped>\n",
       "    .dataframe tbody tr th:only-of-type {\n",
       "        vertical-align: middle;\n",
       "    }\n",
       "\n",
       "    .dataframe tbody tr th {\n",
       "        vertical-align: top;\n",
       "    }\n",
       "\n",
       "    .dataframe thead th {\n",
       "        text-align: right;\n",
       "    }\n",
       "</style>\n",
       "<table border=\"1\" class=\"dataframe\">\n",
       "  <thead>\n",
       "    <tr style=\"text-align: right;\">\n",
       "      <th></th>\n",
       "      <th>Mat</th>\n",
       "      <th>Won</th>\n",
       "    </tr>\n",
       "  </thead>\n",
       "  <tbody>\n",
       "    <tr>\n",
       "      <th>1</th>\n",
       "      <td>4</td>\n",
       "      <td>1</td>\n",
       "    </tr>\n",
       "    <tr>\n",
       "      <th>2</th>\n",
       "      <td>2</td>\n",
       "      <td>0</td>\n",
       "    </tr>\n",
       "  </tbody>\n",
       "</table>\n",
       "</div>"
      ],
      "text/plain": [
       "   Mat  Won\n",
       "1    4    1\n",
       "2    2    0"
      ]
     },
     "execution_count": 112,
     "metadata": {},
     "output_type": "execute_result"
    }
   ],
   "source": [
    "df.iloc[1:3, 2:4]"
   ]
  },
  {
   "cell_type": "markdown",
   "id": "e6292dc3-086c-42e6-8185-9d5bb4be93ca",
   "metadata": {},
   "source": [
    "- All the above works exactly like we saw in Numpy"
   ]
  },
  {
   "cell_type": "markdown",
   "id": "dcd8258f-24e1-4a58-8e58-96c5be890475",
   "metadata": {},
   "source": [
    "- Doing the same with row and col labels ( and not indices )"
   ]
  },
  {
   "cell_type": "code",
   "execution_count": 114,
   "id": "665f4c95-f1f4-4fcd-8b03-24eff135842b",
   "metadata": {},
   "outputs": [
    {
     "data": {
      "text/html": [
       "<div>\n",
       "<style scoped>\n",
       "    .dataframe tbody tr th:only-of-type {\n",
       "        vertical-align: middle;\n",
       "    }\n",
       "\n",
       "    .dataframe tbody tr th {\n",
       "        vertical-align: top;\n",
       "    }\n",
       "\n",
       "    .dataframe thead th {\n",
       "        text-align: right;\n",
       "    }\n",
       "</style>\n",
       "<table border=\"1\" class=\"dataframe\">\n",
       "  <thead>\n",
       "    <tr style=\"text-align: right;\">\n",
       "      <th></th>\n",
       "      <th>Player</th>\n",
       "      <th>Span</th>\n",
       "      <th>Mat</th>\n",
       "    </tr>\n",
       "  </thead>\n",
       "  <tbody>\n",
       "    <tr>\n",
       "      <th>1</th>\n",
       "      <td>BS Bedi</td>\n",
       "      <td>1976-1978</td>\n",
       "      <td>4</td>\n",
       "    </tr>\n",
       "    <tr>\n",
       "      <th>2</th>\n",
       "      <td>AL Wadekar</td>\n",
       "      <td>1974-1974</td>\n",
       "      <td>2</td>\n",
       "    </tr>\n",
       "    <tr>\n",
       "      <th>3</th>\n",
       "      <td>SM Gavaskar</td>\n",
       "      <td>1980-1985</td>\n",
       "      <td>37</td>\n",
       "    </tr>\n",
       "  </tbody>\n",
       "</table>\n",
       "</div>"
      ],
      "text/plain": [
       "        Player       Span  Mat\n",
       "1      BS Bedi  1976-1978    4\n",
       "2   AL Wadekar  1974-1974    2\n",
       "3  SM Gavaskar  1980-1985   37"
      ]
     },
     "execution_count": 114,
     "metadata": {},
     "output_type": "execute_result"
    }
   ],
   "source": [
    "df.loc[1:3, 'Player':'Mat']"
   ]
  },
  {
   "cell_type": "code",
   "execution_count": 118,
   "id": "dea2a485-4d20-44ca-8a03-fda1f1d7bd5f",
   "metadata": {},
   "outputs": [
    {
     "data": {
      "text/html": [
       "<div>\n",
       "<style scoped>\n",
       "    .dataframe tbody tr th:only-of-type {\n",
       "        vertical-align: middle;\n",
       "    }\n",
       "\n",
       "    .dataframe tbody tr th {\n",
       "        vertical-align: top;\n",
       "    }\n",
       "\n",
       "    .dataframe thead th {\n",
       "        text-align: right;\n",
       "    }\n",
       "</style>\n",
       "<table border=\"1\" class=\"dataframe\">\n",
       "  <thead>\n",
       "    <tr style=\"text-align: right;\">\n",
       "      <th></th>\n",
       "      <th>Player</th>\n",
       "      <th>Span</th>\n",
       "      <th>Mat</th>\n",
       "    </tr>\n",
       "  </thead>\n",
       "  <tbody>\n",
       "    <tr>\n",
       "      <th>19</th>\n",
       "      <td>SK Raina</td>\n",
       "      <td>2010-2014</td>\n",
       "      <td>12</td>\n",
       "    </tr>\n",
       "    <tr>\n",
       "      <th>20</th>\n",
       "      <td>G Gambhir</td>\n",
       "      <td>2010-2011</td>\n",
       "      <td>6</td>\n",
       "    </tr>\n",
       "    <tr>\n",
       "      <th>21</th>\n",
       "      <td>V Kohli</td>\n",
       "      <td>2013-2018</td>\n",
       "      <td>52</td>\n",
       "    </tr>\n",
       "    <tr>\n",
       "      <th>22</th>\n",
       "      <td>AM Rahane</td>\n",
       "      <td>2015-2015</td>\n",
       "      <td>3</td>\n",
       "    </tr>\n",
       "    <tr>\n",
       "      <th>23</th>\n",
       "      <td>RG Sharma</td>\n",
       "      <td>2017-2017</td>\n",
       "      <td>3</td>\n",
       "    </tr>\n",
       "  </tbody>\n",
       "</table>\n",
       "</div>"
      ],
      "text/plain": [
       "       Player       Span  Mat\n",
       "19   SK Raina  2010-2014   12\n",
       "20  G Gambhir  2010-2011    6\n",
       "21    V Kohli  2013-2018   52\n",
       "22  AM Rahane  2015-2015    3\n",
       "23  RG Sharma  2017-2017    3"
      ]
     },
     "execution_count": 118,
     "metadata": {},
     "output_type": "execute_result"
    }
   ],
   "source": [
    "df.loc[19:, 'Player':'Mat'].head()"
   ]
  },
  {
   "cell_type": "code",
   "execution_count": null,
   "id": "e55815c1-f1b2-422c-a3e3-c58d8b8de096",
   "metadata": {},
   "outputs": [],
   "source": []
  },
  {
   "cell_type": "code",
   "execution_count": null,
   "id": "44bea662-d0e2-46fa-b00c-2371d8490adf",
   "metadata": {},
   "outputs": [],
   "source": []
  },
  {
   "cell_type": "code",
   "execution_count": null,
   "id": "e0e6e7a5-1445-4211-816e-5c956afca084",
   "metadata": {},
   "outputs": [],
   "source": []
  },
  {
   "cell_type": "code",
   "execution_count": null,
   "id": "cd2ce4f5-0f78-47bc-88dc-48337d519b2b",
   "metadata": {},
   "outputs": [],
   "source": []
  }
 ],
 "metadata": {
  "kernelspec": {
   "display_name": "Python 3 (ipykernel)",
   "language": "python",
   "name": "python3"
  },
  "language_info": {
   "codemirror_mode": {
    "name": "ipython",
    "version": 3
   },
   "file_extension": ".py",
   "mimetype": "text/x-python",
   "name": "python",
   "nbconvert_exporter": "python",
   "pygments_lexer": "ipython3",
   "version": "3.9.8"
  }
 },
 "nbformat": 4,
 "nbformat_minor": 5
}
